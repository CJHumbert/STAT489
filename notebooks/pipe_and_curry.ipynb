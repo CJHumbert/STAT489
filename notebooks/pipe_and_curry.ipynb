{
 "cells": [
  {
   "cell_type": "code",
   "execution_count": 45,
   "metadata": {
    "collapsed": false
   },
   "outputs": [
    {
     "data": {
      "text/html": [
       "<style>\n",
       ".input_prompt, .CodeMirror-lines\n",
       "{\n",
       "  font-family: Consolas;\n",
       "  font-size: 200%;\n",
       "  line-height:1.4;\n",
       "  }\n",
       ".output_area\n",
       "{\n",
       "  font-family: Consolas;\n",
       "  font-size: 160%;\n",
       "  line-height:1.5;\n",
       "  }\n",
       "</style>\n"
      ],
      "text/plain": [
       "<IPython.core.display.HTML object>"
      ]
     },
     "metadata": {},
     "output_type": "display_data"
    }
   ],
   "source": [
    "%run talktools"
   ]
  },
  {
   "cell_type": "markdown",
   "metadata": {
    "slideshow": {
     "slide_type": "slide"
    }
   },
   "source": [
    "# `pipe` and `curry`"
   ]
  },
  {
   "cell_type": "markdown",
   "metadata": {
    "slideshow": {
     "slide_type": "subslide"
    }
   },
   "source": [
    "## Using `pipe` to process left to right\n",
    "\n",
    "- pipe is old\n",
    "- unix\n",
    "- pass a stream of text through small programs\n",
    "- The following bash command performs the following\n",
    "    - ls\n",
    "    - filter with grep on \"starts with a\"\n",
    "    - filter with grep on \"contains .ipynb\"\n",
    "    - remove file extension with sed"
   ]
  },
  {
   "cell_type": "code",
   "execution_count": null,
   "metadata": {
    "collapsed": false,
    "scrolled": true,
    "slideshow": {
     "slide_type": "fragment"
    }
   },
   "outputs": [],
   "source": [
    "!ls | grep \"^a\" | grep \".ipynb\" | sed \"s/.ipynb//\""
   ]
  },
  {
   "cell_type": "markdown",
   "metadata": {
    "slideshow": {
     "slide_type": "slide"
    }
   },
   "source": [
    "## Example problem"
   ]
  },
  {
   "cell_type": "code",
   "execution_count": 43,
   "metadata": {
    "collapsed": true,
    "slideshow": {
     "slide_type": "fragment"
    }
   },
   "outputs": [],
   "source": [
    "from string import punctuation as pnc\n",
    "from string import whitespace as ws\n",
    "s = '''Success is not final,\n",
    "       failure is not fatal:\n",
    "       it is the courage to continue that counts.'''\n",
    "remove_punc = lambda s: \"\".join([ch \n",
    "                                 for ch in s \n",
    "                                 if ch not in pnc])\n",
    "make_lower_case = lambda s: s.lower()\n",
    "replace_ws = lambda ch: \" \" if ch in ws else ch  \n",
    "fix_whitespace = lambda s: \"\".join([replace_ws(ch)\n",
    "                                    for ch in s])"
   ]
  },
  {
   "cell_type": "markdown",
   "metadata": {
    "slideshow": {
     "slide_type": "slide"
    }
   },
   "source": [
    "## The pipe pattern"
   ]
  },
  {
   "cell_type": "code",
   "execution_count": 44,
   "metadata": {
    "collapsed": false,
    "slideshow": {
     "slide_type": "fragment"
    }
   },
   "outputs": [
    {
     "data": {
      "text/plain": [
       "'success is not final        failure is not fatal        it is the courage to continue that counts'"
      ]
     },
     "execution_count": 44,
     "metadata": {},
     "output_type": "execute_result"
    }
   ],
   "source": [
    "s = remove_punc(s)\n",
    "s = make_lower_case(s)\n",
    "s = fix_whitespace(s)\n",
    "s"
   ]
  },
  {
   "cell_type": "markdown",
   "metadata": {
    "slideshow": {
     "slide_type": "slide"
    }
   },
   "source": [
    "## Refactoring with `pipe`\n",
    "\n",
    "- use `pipe` to push a value through functions"
   ]
  },
  {
   "cell_type": "code",
   "execution_count": null,
   "metadata": {
    "collapsed": false,
    "slideshow": {
     "slide_type": "fragment"
    }
   },
   "outputs": [],
   "source": [
    "from toolz import pipe\n",
    "pipe(s, \n",
    "     remove_punc, \n",
    "     make_lower_case, \n",
    "     fix_whitespace)"
   ]
  },
  {
   "cell_type": "markdown",
   "metadata": {
    "slideshow": {
     "slide_type": "slide"
    }
   },
   "source": [
    "## Important difference between `pipe` and `compose`\n",
    "\n",
    "- `compose` returns a function\n",
    "- `pipe` returns a value\n",
    "- `compose` processes right to left\n",
    "- `pipe` processes left to right"
   ]
  },
  {
   "cell_type": "markdown",
   "metadata": {
    "slideshow": {
     "slide_type": "slide"
    }
   },
   "source": [
    "## Partial functions - A familiar pattern\n",
    "\n",
    "- Do you recognize the following pattern?"
   ]
  },
  {
   "cell_type": "code",
   "execution_count": null,
   "metadata": {
    "collapsed": false,
    "slideshow": {
     "slide_type": "fragment"
    }
   },
   "outputs": [],
   "source": [
    "from toolz import get\n",
    "get_third_col = lambda row: get(2, row)\n",
    "get_third_col([1,2,3])"
   ]
  },
  {
   "cell_type": "code",
   "execution_count": null,
   "metadata": {
    "collapsed": false,
    "slideshow": {
     "slide_type": "fragment"
    }
   },
   "outputs": [],
   "source": [
    "make_ints = lambda L: map(int, L)\n",
    "list(make_ints(['1','2','3']))"
   ]
  },
  {
   "cell_type": "code",
   "execution_count": null,
   "metadata": {
    "collapsed": false,
    "slideshow": {
     "slide_type": "fragment"
    }
   },
   "outputs": [],
   "source": [
    "apply_tax = lambda rate, cost: rate*cost\n",
    "tax_in_my_town = lambda cost: apply_tax(1.065, cost)\n",
    "tax_in_my_town(1.5)"
   ]
  },
  {
   "cell_type": "markdown",
   "metadata": {
    "slideshow": {
     "slide_type": "slide"
    }
   },
   "source": [
    "## What is a partial function?\n",
    "\n",
    "- a new function\n",
    "- fills in *some* arguments\n",
    "- leaves some for later."
   ]
  },
  {
   "cell_type": "code",
   "execution_count": null,
   "metadata": {
    "collapsed": false,
    "slideshow": {
     "slide_type": "fragment"
    }
   },
   "outputs": [],
   "source": [
    "from functools import partial\n",
    "get_third_col = partial(get, 2)\n",
    "get_third_col([1,2,3])"
   ]
  },
  {
   "cell_type": "code",
   "execution_count": null,
   "metadata": {
    "collapsed": false,
    "slideshow": {
     "slide_type": "fragment"
    }
   },
   "outputs": [],
   "source": [
    "make_ints = partial(map, int)\n",
    "list(make_ints(['1','2','3']))"
   ]
  },
  {
   "cell_type": "markdown",
   "metadata": {
    "slideshow": {
     "slide_type": "slide"
    }
   },
   "source": [
    "## `curry` and partial functions\n",
    "\n",
    "- A curried function allow partial application\n",
    "- filling in from the left\n",
    "- incomplete application returns a partial function.\n",
    "- most `toolz` functions have curried versions"
   ]
  },
  {
   "cell_type": "code",
   "execution_count": null,
   "metadata": {
    "collapsed": true,
    "slideshow": {
     "slide_type": "fragment"
    }
   },
   "outputs": [],
   "source": [
    "from toolz.curried import get, map"
   ]
  },
  {
   "cell_type": "code",
   "execution_count": null,
   "metadata": {
    "collapsed": false,
    "slideshow": {
     "slide_type": "fragment"
    }
   },
   "outputs": [],
   "source": [
    "get_third_col = get(2)\n",
    "get_third_col([1,2,3])"
   ]
  },
  {
   "cell_type": "code",
   "execution_count": null,
   "metadata": {
    "collapsed": false,
    "slideshow": {
     "slide_type": "fragment"
    }
   },
   "outputs": [],
   "source": [
    "make_ints = map(int)\n",
    "list(make_ints(['1','2','3']))"
   ]
  },
  {
   "cell_type": "code",
   "execution_count": null,
   "metadata": {
    "collapsed": false,
    "slideshow": {
     "slide_type": "slide"
    }
   },
   "outputs": [],
   "source": [
    "from toolz.curried import curry\n",
    "# Use curried curry to make apply_tax curried\n",
    "apply_tax = curry(apply_tax)\n",
    "# Use curried apply_tax \n",
    "tax_in_my_town = apply_tax(1.065)\n",
    "tax_in_my_town(1.5)"
   ]
  },
  {
   "cell_type": "markdown",
   "metadata": {
    "slideshow": {
     "slide_type": "slide"
    }
   },
   "source": [
    "## Task 1: Convert the following functions using curried functions"
   ]
  },
  {
   "cell_type": "code",
   "execution_count": null,
   "metadata": {
    "collapsed": false,
    "slideshow": {
     "slide_type": "fragment"
    }
   },
   "outputs": [],
   "source": [
    "d = {'a':1, 'b':2}\n",
    "get_a = lambda d: get('a', d)\n",
    "get_a(d)"
   ]
  },
  {
   "cell_type": "code",
   "execution_count": null,
   "metadata": {
    "collapsed": true,
    "slideshow": {
     "slide_type": "fragment"
    }
   },
   "outputs": [],
   "source": [
    "from toolz.curried import get\n",
    "get_a = ..."
   ]
  },
  {
   "cell_type": "code",
   "execution_count": null,
   "metadata": {
    "collapsed": false,
    "slideshow": {
     "slide_type": "slide"
    }
   },
   "outputs": [],
   "source": [
    "keep_small = lambda L: filter(lambda i: len(i) < 5, L)\n",
    "list(keep_small(['a', 'cat', 'Minnesota']))"
   ]
  },
  {
   "cell_type": "code",
   "execution_count": null,
   "metadata": {
    "collapsed": true,
    "slideshow": {
     "slide_type": "fragment"
    }
   },
   "outputs": [],
   "source": [
    "from toolz.curried import filter\n",
    "keep_small = ..."
   ]
  },
  {
   "cell_type": "markdown",
   "metadata": {
    "slideshow": {
     "slide_type": "slide"
    }
   },
   "source": [
    "## Task 2: What does the following function do?"
   ]
  },
  {
   "cell_type": "code",
   "execution_count": null,
   "metadata": {
    "collapsed": false,
    "slideshow": {
     "slide_type": "fragment"
    }
   },
   "outputs": [],
   "source": [
    "from toolz.curried import compose, get, map, filter\n",
    "\n",
    "f = compose(get(3),\n",
    "            map(float),\n",
    "            filter(lambda s: s.isnumeric()))"
   ]
  },
  {
   "cell_type": "markdown",
   "metadata": {
    "slideshow": {
     "slide_type": "fragment"
    }
   },
   "source": []
  }
 ],
 "metadata": {
  "kernelspec": {
   "display_name": "Python 3",
   "language": "python",
   "name": "python3"
  },
  "language_info": {
   "codemirror_mode": {
    "name": "ipython",
    "version": 3
   },
   "file_extension": ".py",
   "mimetype": "text/x-python",
   "name": "python",
   "nbconvert_exporter": "python",
   "pygments_lexer": "ipython3",
   "version": "3.5.2"
  }
 },
 "nbformat": 4,
 "nbformat_minor": 2
}
