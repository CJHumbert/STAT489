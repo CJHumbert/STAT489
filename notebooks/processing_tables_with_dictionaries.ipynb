{
 "cells": [
  {
   "cell_type": "code",
   "execution_count": null,
   "metadata": {
    "collapsed": false,
    "slideshow": {
     "slide_type": "slide"
    }
   },
   "outputs": [],
   "source": [
    "%run talktools"
   ]
  },
  {
   "cell_type": "markdown",
   "metadata": {
    "slideshow": {
     "slide_type": "slide"
    }
   },
   "source": [
    "# Processing Lists and Tables with Dictionaries\n",
    "\n",
    "- Counting frequencies\n",
    "- Grouping data by some key/value"
   ]
  },
  {
   "cell_type": "code",
   "execution_count": null,
   "metadata": {
    "collapsed": true,
    "slideshow": {
     "slide_type": "slide"
    }
   },
   "outputs": [],
   "source": [
    "from more_itertools import with_iter\n",
    "from csv import reader\n",
    "from toolz import compose, first, do, pipe, assoc\n",
    "from toolz.curried import get, curry, map, drop, filter, take\n",
    "from functools import reduce"
   ]
  },
  {
   "cell_type": "markdown",
   "metadata": {
    "slideshow": {
     "slide_type": "slide"
    }
   },
   "source": [
    "## Data setup"
   ]
  },
  {
   "cell_type": "code",
   "execution_count": 40,
   "metadata": {
    "collapsed": false,
    "slideshow": {
     "slide_type": "fragment"
    }
   },
   "outputs": [
    {
     "data": {
      "text/plain": [
       "[['playerID',\n",
       "  'yearID',\n",
       "  'stint',\n",
       "  'teamID',\n",
       "  'lgID',\n",
       "  'G',\n",
       "  'AB',\n",
       "  'R',\n",
       "  'H',\n",
       "  '2B',\n",
       "  '3B',\n",
       "  'HR',\n",
       "  'RBI',\n",
       "  'SB',\n",
       "  'CS',\n",
       "  'BB',\n",
       "  'SO',\n",
       "  'IBB',\n",
       "  'HBP',\n",
       "  'SH',\n",
       "  'SF',\n",
       "  'GIDP'],\n",
       " ['abercda01',\n",
       "  '1871',\n",
       "  '1',\n",
       "  'TRO',\n",
       "  'NA',\n",
       "  '1',\n",
       "  '4',\n",
       "  '0',\n",
       "  '0',\n",
       "  '0',\n",
       "  '0',\n",
       "  '0',\n",
       "  '0',\n",
       "  '0',\n",
       "  '0',\n",
       "  '0',\n",
       "  '0',\n",
       "  '',\n",
       "  '',\n",
       "  '',\n",
       "  '',\n",
       "  ''],\n",
       " ['addybo01',\n",
       "  '1871',\n",
       "  '1',\n",
       "  'RC1',\n",
       "  'NA',\n",
       "  '25',\n",
       "  '118',\n",
       "  '30',\n",
       "  '32',\n",
       "  '6',\n",
       "  '0',\n",
       "  '0',\n",
       "  '13',\n",
       "  '8',\n",
       "  '1',\n",
       "  '4',\n",
       "  '0',\n",
       "  '',\n",
       "  '',\n",
       "  '',\n",
       "  '',\n",
       "  '']]"
      ]
     },
     "execution_count": 40,
     "metadata": {},
     "output_type": "execute_result"
    }
   ],
   "source": [
    "read_csv = compose(list, reader, with_iter, open)\n",
    "batting = read_csv('Batting.csv')\n",
    "pipe(batting,\n",
    "    take(3),\n",
    "    list)"
   ]
  },
  {
   "cell_type": "code",
   "execution_count": null,
   "metadata": {
    "collapsed": false,
    "slideshow": {
     "slide_type": "slide"
    }
   },
   "outputs": [],
   "source": [
    "row = batting[1]\n",
    "get_year = get(1)\n",
    "get_year(row)"
   ]
  },
  {
   "cell_type": "code",
   "execution_count": null,
   "metadata": {
    "collapsed": false,
    "slideshow": {
     "slide_type": "fragment"
    }
   },
   "outputs": [],
   "source": [
    "get_years = compose(list, map(get_year))\n",
    "pipe(batting,\n",
    "    take(10),\n",
    "    drop(1),\n",
    "    get_years,\n",
    "    list)"
   ]
  },
  {
   "cell_type": "markdown",
   "metadata": {
    "slideshow": {
     "slide_type": "slide"
    }
   },
   "source": [
    "# Task 1: Count each unique item in a list\n",
    "\n",
    "- we have a list of hashable items\n",
    "- we want a dictionary of frequencies for each item"
   ]
  },
  {
   "cell_type": "markdown",
   "metadata": {
    "slideshow": {
     "slide_type": "slide"
    }
   },
   "source": [
    "## Imperative solution\n",
    "\n",
    "- Start with an empty dictionary\n",
    "- Add 1 to the value for each key we observe"
   ]
  },
  {
   "cell_type": "code",
   "execution_count": null,
   "metadata": {
    "collapsed": false,
    "slideshow": {
     "slide_type": "fragment"
    }
   },
   "outputs": [],
   "source": [
    "acc = {}\n",
    "for year in get_years(drop(1, batting)):\n",
    "    old_count = get(year, acc, 0)\n",
    "    new_count = old_count + 1\n",
    "    acc = assoc(acc, year, new_count)\n",
    "acc\n"
   ]
  },
  {
   "cell_type": "code",
   "execution_count": null,
   "metadata": {
    "collapsed": false,
    "slideshow": {
     "slide_type": "subslide"
    }
   },
   "outputs": [],
   "source": [
    "acc = {}\n",
    "for year in get_years(drop(1, batting)):\n",
    "    acc = assoc(acc, year, get(year, acc, 0) + 1)\n",
    "acc\n"
   ]
  },
  {
   "cell_type": "markdown",
   "metadata": {
    "slideshow": {
     "slide_type": "slide"
    }
   },
   "source": [
    "## Watch the progress with `print`"
   ]
  },
  {
   "cell_type": "code",
   "execution_count": null,
   "metadata": {
    "collapsed": false,
    "slideshow": {
     "slide_type": "fragment"
    }
   },
   "outputs": [],
   "source": [
    "acc = {}\n",
    "for year in get_years(drop(1, take(120, batting))):\n",
    "    print(year, acc)\n",
    "    acc = assoc(acc, year, get(year, acc, 0) + 1)\n",
    "acc"
   ]
  },
  {
   "cell_type": "markdown",
   "metadata": {
    "slideshow": {
     "slide_type": "slide"
    }
   },
   "source": [
    "## Solution with `reduce`"
   ]
  },
  {
   "cell_type": "code",
   "execution_count": null,
   "metadata": {
    "collapsed": false,
    "slideshow": {
     "slide_type": "fragment"
    }
   },
   "outputs": [],
   "source": [
    "acc = {}\n",
    "for year in get_years(drop(1, batting)):\n",
    "    acc = assoc(acc, year, get(year, acc, 0) + 1)\n",
    "acc"
   ]
  },
  {
   "cell_type": "code",
   "execution_count": null,
   "metadata": {
    "collapsed": false,
    "slideshow": {
     "slide_type": "slide"
    }
   },
   "outputs": [],
   "source": [
    "init = {}\n",
    "update_count = lambda acc, item: assoc(acc, item, get(item, acc, 0) + 1)\n",
    "my_freq = lambda seq: reduce(update_count, seq, {})\n",
    "my_freq(get_years(drop(1, batting)))"
   ]
  },
  {
   "cell_type": "markdown",
   "metadata": {
    "slideshow": {
     "slide_type": "slide"
    }
   },
   "source": [
    "## Using `frequencies` from `toolz`\n",
    "\n",
    "- `toolz` already has this function"
   ]
  },
  {
   "cell_type": "code",
   "execution_count": null,
   "metadata": {
    "collapsed": false,
    "slideshow": {
     "slide_type": "fragment"
    }
   },
   "outputs": [],
   "source": [
    "from toolz import frequencies\n",
    "pipe(batting,\n",
    "    drop(1),\n",
    "    get_years,\n",
    "    frequencies)"
   ]
  },
  {
   "cell_type": "markdown",
   "metadata": {
    "slideshow": {
     "slide_type": "slide"
    }
   },
   "source": [
    "# Task 2: Collect all items of the same type\n",
    "\n",
    "- Solution with dictionary\n",
    "    - keys are groups\n",
    "    - values are list of group members\n",
    "- Use a key_function to classify"
   ]
  },
  {
   "cell_type": "code",
   "execution_count": null,
   "metadata": {
    "collapsed": false,
    "slideshow": {
     "slide_type": "slide"
    }
   },
   "outputs": [],
   "source": [
    "row = batting[1]\n",
    "get_year_ab = get([1, 6])\n",
    "get_year_ab(row)"
   ]
  },
  {
   "cell_type": "code",
   "execution_count": null,
   "metadata": {
    "collapsed": false,
    "slideshow": {
     "slide_type": "fragment"
    }
   },
   "outputs": [],
   "source": [
    "get_years_abs = compose(list, map(get_year_ab))\n",
    "get_years_abs(batting[1:10])"
   ]
  },
  {
   "cell_type": "code",
   "execution_count": null,
   "metadata": {
    "collapsed": false,
    "scrolled": true,
    "slideshow": {
     "slide_type": "fragment"
    }
   },
   "outputs": [],
   "source": [
    "years_abs = pipe(batting,\n",
    "                drop(1),\n",
    "                get_years_abs)\n",
    "years_abs[:10]"
   ]
  },
  {
   "cell_type": "markdown",
   "metadata": {
    "slideshow": {
     "slide_type": "slide"
    }
   },
   "source": [
    "### Example: Group all rows by year"
   ]
  },
  {
   "cell_type": "code",
   "execution_count": null,
   "metadata": {
    "collapsed": false,
    "slideshow": {
     "slide_type": "fragment"
    }
   },
   "outputs": [],
   "source": [
    "get_year = get(0)\n",
    "key_func = get_year\n",
    "key_func(years_abs[0])"
   ]
  },
  {
   "cell_type": "code",
   "execution_count": null,
   "metadata": {
    "collapsed": false,
    "scrolled": false,
    "slideshow": {
     "slide_type": "slide"
    }
   },
   "outputs": [],
   "source": [
    "acc = {}\n",
    "for row in years_abs:\n",
    "    old_collection = get(key_func(row), acc, [])\n",
    "    new_collection = old_collection + [row]\n",
    "    acc = assoc(acc, key_func(row), new_collection)\n",
    "acc"
   ]
  },
  {
   "cell_type": "code",
   "execution_count": null,
   "metadata": {
    "collapsed": false,
    "slideshow": {
     "slide_type": "subslide"
    }
   },
   "outputs": [],
   "source": [
    "from operator import add\n",
    "old_collection = lambda acc, row: get(key_func(row), acc, [])\n",
    "new_collection = lambda acc, row: old_collection(acc, row) + [row]\n",
    "update_collection = lambda acc, row: assoc(acc, key_func(row), new_collection(acc, row))\n",
    "\n",
    "acc = {}\n",
    "for row in years_abs:\n",
    "    acc = update_collection(acc, row)\n",
    "acc"
   ]
  },
  {
   "cell_type": "markdown",
   "metadata": {
    "slideshow": {
     "slide_type": "slide"
    }
   },
   "source": [
    "## Solution with `reduce`"
   ]
  },
  {
   "cell_type": "code",
   "execution_count": null,
   "metadata": {
    "collapsed": false,
    "slideshow": {
     "slide_type": "fragment"
    }
   },
   "outputs": [],
   "source": [
    "update_collection = curry(lambda key_func, \n",
    "                                 acc, \n",
    "                                 row: assoc(acc, \n",
    "                                            key_func(row), \n",
    "                                            new_collection(acc, row)))\n",
    "my_groupby = lambda key_func, seq: reduce(update_collection(key_func), seq, {})\n",
    "my_groupby(get_year, years_abs)"
   ]
  },
  {
   "cell_type": "markdown",
   "metadata": {
    "slideshow": {
     "slide_type": "slide"
    }
   },
   "source": [
    "## Using `groupby` from `toolz`"
   ]
  },
  {
   "cell_type": "code",
   "execution_count": null,
   "metadata": {
    "collapsed": false,
    "slideshow": {
     "slide_type": "fragment"
    }
   },
   "outputs": [],
   "source": [
    "from toolz import groupby\n",
    "groupby(get_year, years_abs)"
   ]
  },
  {
   "cell_type": "markdown",
   "metadata": {
    "slideshow": {
     "slide_type": "slide"
    }
   },
   "source": [
    "# What's next?\n",
    "\n",
    "- next we will process the result of `groupby` with\n",
    "    - `valmap`\n",
    "    - `valfilter`\n",
    "- See section 7.6"
   ]
  },
  {
   "cell_type": "markdown",
   "metadata": {},
   "source": [
    "# Aggregating Data\n",
    "\n",
    "- Important process\n",
    "- Step 1: Group the data\n",
    "- Step 2: Compute summary statistics"
   ]
  },
  {
   "cell_type": "markdown",
   "metadata": {},
   "source": [
    "## Using `valmap` and `valfilter` to compute statistics\n",
    "\n",
    "- Both `valmap` and `valfilter`\n",
    "    - Argument: func, dict\n",
    "    - Returns: dict\n",
    "- `valmap` *maps* a function to each *value*\n",
    "- `valfilter` *filters* each *value* "
   ]
  },
  {
   "cell_type": "markdown",
   "metadata": {},
   "source": [
    "### Example"
   ]
  },
  {
   "cell_type": "code",
   "execution_count": 57,
   "metadata": {
    "collapsed": false
   },
   "outputs": [
    {
     "data": {
      "text/plain": [
       "{'a': [1, 2, 3, 4, 5], 'c': [111, 112, 113, 114]}"
      ]
     },
     "execution_count": 57,
     "metadata": {},
     "output_type": "execute_result"
    }
   ],
   "source": [
    "from toolz.curried import valmap, valfilter, map, filter, keyfilter, keymap\n",
    "d = {'a':[1,2,3,4,5],\n",
    "     'b':[11,12,13],\n",
    "     'c':[111,112,113,114]}\n",
    "valfilter(lambda val: len(val) > 3, d)"
   ]
  },
  {
   "cell_type": "code",
   "execution_count": 58,
   "metadata": {
    "collapsed": false
   },
   "outputs": [
    {
     "data": {
      "text/plain": [
       "{'a': 15, 'b': 36, 'c': 450}"
      ]
     },
     "execution_count": 58,
     "metadata": {},
     "output_type": "execute_result"
    }
   ],
   "source": [
    "valmap(sum, d)"
   ]
  },
  {
   "cell_type": "markdown",
   "metadata": {},
   "source": [
    "## Using `valmap` and `valfilter` to compute statistics\n",
    "\n",
    "- Both `keymap` and `keyfilter`\n",
    "    - Argument: func, dict\n",
    "    - Returns: dict\n",
    "- `valmap` *maps* a function to each *key*\n",
    "- `valfilter` *filters* each *key* "
   ]
  },
  {
   "cell_type": "code",
   "execution_count": 200,
   "metadata": {
    "collapsed": false
   },
   "outputs": [
    {
     "data": {
      "text/plain": [
       "{'a': [1, 2, 3, 4, 5]}"
      ]
     },
     "execution_count": 200,
     "metadata": {},
     "output_type": "execute_result"
    }
   ],
   "source": [
    "keyfilter(lambda key: key in 'aeiou', d)"
   ]
  },
  {
   "cell_type": "code",
   "execution_count": 201,
   "metadata": {
    "collapsed": false
   },
   "outputs": [
    {
     "data": {
      "text/plain": [
       "{'A': [1, 2, 3, 4, 5], 'B': [11, 12, 13], 'C': [111, 112, 113, 114]}"
      ]
     },
     "execution_count": 201,
     "metadata": {},
     "output_type": "execute_result"
    }
   ],
   "source": [
    "keymap(lambda key: key.upper(), d)"
   ]
  },
  {
   "cell_type": "markdown",
   "metadata": {},
   "source": [
    "## Working with Nested Data"
   ]
  },
  {
   "cell_type": "markdown",
   "metadata": {},
   "source": [
    "### Combining `valmap`, `valfilter`, `map`, and `filter` \n",
    "\n",
    "- Use `map` and/or `filter` inside `valmap` or `valfilter`\n",
    "- Obey's the layers of abstraction rule\n",
    "    - `map` and `filter` describe the inner action\n",
    "    - `valmap` and `valfilter` describe the outer action"
   ]
  },
  {
   "cell_type": "markdown",
   "metadata": {},
   "source": [
    "### Example - Filter out odd values from each value\n",
    "\n",
    "**Layers:**\n",
    "\n",
    "1. dictionary consists of string(key) and lists(val)\n",
    "2. The string are string (atomic)\n",
    "3. The list consist of numbers\n",
    "4. The number are number (atomic)"
   ]
  },
  {
   "cell_type": "code",
   "execution_count": 202,
   "metadata": {
    "collapsed": false,
    "scrolled": true
   },
   "outputs": [
    {
     "data": {
      "text/plain": [
       "{'a': [1, 2, 3, 4, 5], 'b': [11, 12, 13], 'c': [111, 112, 113, 114]}"
      ]
     },
     "execution_count": 202,
     "metadata": {},
     "output_type": "execute_result"
    }
   ],
   "source": [
    "d"
   ]
  },
  {
   "cell_type": "markdown",
   "metadata": {},
   "source": [
    "<img src=\"https://github.com/yardsale8/STAT489/blob/master/img/level_abstraction_dict_of_list.png?raw=true\" width=\"500\">"
   ]
  },
  {
   "cell_type": "markdown",
   "metadata": {},
   "source": [
    "#### Step 1 - Inner most function - Numbers"
   ]
  },
  {
   "cell_type": "code",
   "execution_count": 203,
   "metadata": {
    "collapsed": true
   },
   "outputs": [],
   "source": [
    "is_odd = lambda n: n % 2 == 1"
   ]
  },
  {
   "cell_type": "markdown",
   "metadata": {},
   "source": [
    "#### Step 2 - value/list function"
   ]
  },
  {
   "cell_type": "code",
   "execution_count": 204,
   "metadata": {
    "collapsed": false
   },
   "outputs": [],
   "source": [
    "from toolz import compose\n",
    "keep_odd = compose(list, filter(is_odd))"
   ]
  },
  {
   "cell_type": "markdown",
   "metadata": {},
   "source": [
    "#### Step 3 - dictionary function\n",
    "\n",
    "- apply the value function to each value $\\rightarrow$ VALMAP!"
   ]
  },
  {
   "cell_type": "code",
   "execution_count": 205,
   "metadata": {
    "collapsed": false
   },
   "outputs": [
    {
     "data": {
      "text/plain": [
       "{'a': [1, 3, 5], 'b': [11, 13], 'c': [111, 113]}"
      ]
     },
     "execution_count": 205,
     "metadata": {},
     "output_type": "execute_result"
    }
   ],
   "source": [
    "valmap(keep_odd, d)"
   ]
  },
  {
   "cell_type": "markdown",
   "metadata": {},
   "source": [
    "## Example 2 - Back to the batting example.\n",
    "\n",
    "- Compute the average runs for each year\n",
    "- Only keep players with more than 20 at bats"
   ]
  },
  {
   "cell_type": "markdown",
   "metadata": {
    "slideshow": {
     "slide_type": "slide"
    }
   },
   "source": [
    "#### Step 1 - Data setup"
   ]
  },
  {
   "cell_type": "code",
   "execution_count": 206,
   "metadata": {
    "collapsed": true,
    "slideshow": {
     "slide_type": "slide"
    }
   },
   "outputs": [],
   "source": [
    "from more_itertools import with_iter\n",
    "from csv import reader\n",
    "from toolz import compose, first, do, pipe, assoc, groupby\n",
    "from toolz.curried import get, curry, map, drop, filter, take, valmap, valfilter, keyfilter\n",
    "from functools import reduce"
   ]
  },
  {
   "cell_type": "code",
   "execution_count": 207,
   "metadata": {
    "collapsed": false
   },
   "outputs": [
    {
     "data": {
      "text/plain": [
       "[('1871', '4', '0'),\n",
       " ('1871', '118', '32'),\n",
       " ('1871', '137', '40'),\n",
       " ('1871', '133', '44'),\n",
       " ('1871', '120', '39'),\n",
       " ('1871', '49', '11'),\n",
       " ('1871', '4', '1'),\n",
       " ('1871', '157', '63'),\n",
       " ('1871', '5', '1'),\n",
       " ('1871', '86', '13')]"
      ]
     },
     "execution_count": 207,
     "metadata": {},
     "output_type": "execute_result"
    }
   ],
   "source": [
    "read_csv = compose(list, reader, with_iter, open)\n",
    "batting = read_csv('Batting.csv')\n",
    "\n",
    "year_ab_h = pipe( batting,\n",
    "                 drop(1),\n",
    "                 map(get([1, 6, 8])))\n",
    "pipe(year_ab_h,\n",
    "     list,\n",
    "    take(10),\n",
    "    list)"
   ]
  },
  {
   "cell_type": "markdown",
   "metadata": {},
   "source": [
    "#### Step 2 - Group the data"
   ]
  },
  {
   "cell_type": "code",
   "execution_count": 208,
   "metadata": {
    "collapsed": false,
    "slideshow": {
     "slide_type": "fragment"
    }
   },
   "outputs": [
    {
     "data": {
      "text/plain": [
       "{}"
      ]
     },
     "execution_count": 208,
     "metadata": {},
     "output_type": "execute_result"
    }
   ],
   "source": [
    "get_year = get(0)\n",
    "batting_by_year = groupby(get_year, year_ab_h)\n",
    "batting_by_year"
   ]
  },
  {
   "cell_type": "markdown",
   "metadata": {},
   "source": [
    "#### What went wrong?"
   ]
  },
  {
   "cell_type": "code",
   "execution_count": 209,
   "metadata": {
    "collapsed": false
   },
   "outputs": [
    {
     "data": {
      "text/plain": [
       "[('1970', '516', '154'),\n",
       " ('1970', '63', '13'),\n",
       " ('1970', '0', '0'),\n",
       " ('1970', '3', '0'),\n",
       " ('1970', '14', '3'),\n",
       " ('1970', '0', '0'),\n",
       " ('1970', '27', '4'),\n",
       " ('1970', '636', '182'),\n",
       " ('1970', '2', '0'),\n",
       " ('1970', '16', '1')]"
      ]
     },
     "execution_count": 209,
     "metadata": {},
     "output_type": "execute_result"
    }
   ],
   "source": [
    "year_ab_h = pipe( batting,\n",
    "                 drop(1),\n",
    "                 map(get([1, 6, 8])),\n",
    "                 list)\n",
    "batting_by_year = groupby(get_year, year_ab_h)\n",
    "pipe(batting_by_year,\n",
    "    get('1970'),\n",
    "    take(10),\n",
    "    list)"
   ]
  },
  {
   "cell_type": "code",
   "execution_count": 210,
   "metadata": {
    "collapsed": false
   },
   "outputs": [
    {
     "data": {
      "text/plain": [
       "[('1970', '516', '154'),\n",
       " ('1970', '63', '13'),\n",
       " ('1970', '0', '0'),\n",
       " ('1970', '3', '0'),\n",
       " ('1970', '14', '3'),\n",
       " ('1970', '0', '0'),\n",
       " ('1970', '27', '4'),\n",
       " ('1970', '636', '182'),\n",
       " ('1970', '2', '0'),\n",
       " ('1970', '16', '1')]"
      ]
     },
     "execution_count": 210,
     "metadata": {},
     "output_type": "execute_result"
    }
   ],
   "source": [
    "year_ab_h = pipe( batting,\n",
    "                 drop(1),\n",
    "                 map(get([1, 6, 8])),\n",
    "                 list)\n",
    "batting_by_year = groupby(get_year, year_ab_h)\n",
    "pipe(batting_by_year,\n",
    "    get('1970'),\n",
    "    take(10),\n",
    "    list)"
   ]
  },
  {
   "cell_type": "code",
   "execution_count": 211,
   "metadata": {
    "collapsed": false
   },
   "outputs": [
    {
     "data": {
      "text/plain": [
       "{'1970': [('1970', '516', '154'),\n",
       "  ('1970', '63', '13'),\n",
       "  ('1970', '0', '0'),\n",
       "  ('1970', '3', '0'),\n",
       "  ('1970', '14', '3'),\n",
       "  ('1970', '0', '0'),\n",
       "  ('1970', '27', '4'),\n",
       "  ('1970', '636', '182'),\n",
       "  ('1970', '2', '0'),\n",
       "  ('1970', '16', '1')],\n",
       " '1980': [('1980', '', ''),\n",
       "  ('1980', '', ''),\n",
       "  ('1980', '262', '75'),\n",
       "  ('1980', '47', '13'),\n",
       "  ('1980', '543', '151'),\n",
       "  ('1980', '111', '27'),\n",
       "  ('1980', '83', '15'),\n",
       "  ('1980', '178', '40'),\n",
       "  ('1980', '3', '1'),\n",
       "  ('1980', '', '')]}"
      ]
     },
     "execution_count": 211,
     "metadata": {},
     "output_type": "execute_result"
    }
   ],
   "source": [
    "get_70_80_dict = keyfilter(lambda key: key in ['1970', '1980'])\n",
    "subset_dict = compose(valmap(compose(list, \n",
    "                                     take(10))), \n",
    "                      get_70_80_dict)\n",
    "subset_dict(batting_by_year)"
   ]
  },
  {
   "cell_type": "markdown",
   "metadata": {},
   "source": [
    "#### Step 3 - Convert entries of values\n",
    "\n",
    "- item functions are str, int, int\n",
    "- now make a value function\n",
    "- then map the value function to all values"
   ]
  },
  {
   "cell_type": "code",
   "execution_count": 212,
   "metadata": {
    "collapsed": true
   },
   "outputs": [],
   "source": [
    "maybe_int = lambda val: int(val) if len(val) > 0 else 0\n",
    "assert maybe_int('1') == 1\n",
    "assert maybe_int('') == 0"
   ]
  },
  {
   "cell_type": "code",
   "execution_count": 213,
   "metadata": {
    "collapsed": false
   },
   "outputs": [],
   "source": [
    "convert_tuple = lambda tup: [f(i) for f, i in zip((str, maybe_int, maybe_int), tup)]\n",
    "assert convert_tuple(('a', '1', '2')) == ['a', 1, 2]\n",
    "assert convert_tuple(('a', '', '2')) == ['a', 0, 2]"
   ]
  },
  {
   "cell_type": "code",
   "execution_count": 214,
   "metadata": {
    "collapsed": false
   },
   "outputs": [
    {
     "data": {
      "text/plain": [
       "[['1970', 516, 154],\n",
       " ['1970', 63, 13],\n",
       " ['1970', 0, 0],\n",
       " ['1970', 3, 0],\n",
       " ['1970', 14, 3],\n",
       " ['1970', 0, 0],\n",
       " ['1970', 27, 4],\n",
       " ['1970', 636, 182],\n",
       " ['1970', 2, 0],\n",
       " ['1970', 16, 1]]"
      ]
     },
     "execution_count": 214,
     "metadata": {},
     "output_type": "execute_result"
    }
   ],
   "source": [
    "convert_value = compose(list, map(convert_tuple))\n",
    "pipe(batting_by_year,\n",
    "    get('1970'),\n",
    "    take(10),\n",
    "    convert_value,\n",
    "    list)"
   ]
  },
  {
   "cell_type": "code",
   "execution_count": 215,
   "metadata": {
    "collapsed": false
   },
   "outputs": [
    {
     "data": {
      "text/plain": [
       "{'1970': [['1970', 516, 154],\n",
       "  ['1970', 63, 13],\n",
       "  ['1970', 0, 0],\n",
       "  ['1970', 3, 0],\n",
       "  ['1970', 14, 3],\n",
       "  ['1970', 0, 0],\n",
       "  ['1970', 27, 4],\n",
       "  ['1970', 636, 182],\n",
       "  ['1970', 2, 0],\n",
       "  ['1970', 16, 1]],\n",
       " '1980': [['1980', 0, 0],\n",
       "  ['1980', 0, 0],\n",
       "  ['1980', 262, 75],\n",
       "  ['1980', 47, 13],\n",
       "  ['1980', 543, 151],\n",
       "  ['1980', 111, 27],\n",
       "  ['1980', 83, 15],\n",
       "  ['1980', 178, 40],\n",
       "  ['1980', 3, 1],\n",
       "  ['1980', 0, 0]]}"
      ]
     },
     "execution_count": 215,
     "metadata": {},
     "output_type": "execute_result"
    }
   ],
   "source": [
    "batting_by_year = pipe(batting_by_year, \n",
    "                       valmap(convert_value))\n",
    "subset_dict(batting_by_year)"
   ]
  },
  {
   "cell_type": "markdown",
   "metadata": {},
   "source": [
    "#### Step 4 - Filter out player with at least 20 AB"
   ]
  },
  {
   "cell_type": "code",
   "execution_count": 216,
   "metadata": {
    "collapsed": false
   },
   "outputs": [],
   "source": [
    "at_least_20_ab_tup = compose(lambda n: n >= 20,\n",
    "                            get(1))\n",
    "assert at_least_20_ab_tup(['1970', 33, 11])\n",
    "assert not at_least_20_ab_tup(['1970', 15, 7])"
   ]
  },
  {
   "cell_type": "code",
   "execution_count": 217,
   "metadata": {
    "collapsed": false
   },
   "outputs": [],
   "source": [
    "at_least_20_AB_value = compose(list, filter(at_least_20_ab_tup))\n",
    "assert at_least_20_AB_value([['1970', 516, 154], [1970, 13, 3]]) == [['1970', 516, 154]]"
   ]
  },
  {
   "cell_type": "code",
   "execution_count": 218,
   "metadata": {
    "collapsed": false
   },
   "outputs": [
    {
     "data": {
      "text/plain": [
       "{'1970': [['1970', 516, 154],\n",
       "  ['1970', 63, 13],\n",
       "  ['1970', 27, 4],\n",
       "  ['1970', 636, 182],\n",
       "  ['1970', 120, 20],\n",
       "  ['1970', 261, 61],\n",
       "  ['1970', 459, 128],\n",
       "  ['1970', 38, 8],\n",
       "  ['1970', 61, 14],\n",
       "  ['1970', 426, 104]],\n",
       " '1980': [['1980', 262, 75],\n",
       "  ['1980', 47, 13],\n",
       "  ['1980', 543, 151],\n",
       "  ['1980', 111, 27],\n",
       "  ['1980', 83, 15],\n",
       "  ['1980', 178, 40],\n",
       "  ['1980', 70, 25],\n",
       "  ['1980', 51, 12],\n",
       "  ['1980', 38, 10],\n",
       "  ['1980', 112, 19]]}"
      ]
     },
     "execution_count": 218,
     "metadata": {},
     "output_type": "execute_result"
    }
   ],
   "source": [
    "batting_by_year = pipe(batting_by_year,\n",
    "                      valmap(at_least_20_AB_value))\n",
    "subset_dict(batting_by_year)"
   ]
  },
  {
   "cell_type": "markdown",
   "metadata": {},
   "source": [
    "#### Step 5 - get the hits"
   ]
  },
  {
   "cell_type": "code",
   "execution_count": 219,
   "metadata": {
    "collapsed": true
   },
   "outputs": [],
   "source": [
    "get_hits_tup = get(-1)\n",
    "assert get_hits_tup(['1980', 262, 75]) == 75"
   ]
  },
  {
   "cell_type": "code",
   "execution_count": 220,
   "metadata": {
    "collapsed": true
   },
   "outputs": [],
   "source": [
    "get_hits_val = compose(list, map(get_hits_tup))\n",
    "assert get_hits_val([['1980', 262, 75],['1980', 47, 13]]) == [75, 13]"
   ]
  },
  {
   "cell_type": "code",
   "execution_count": 221,
   "metadata": {
    "collapsed": false
   },
   "outputs": [
    {
     "data": {
      "text/plain": [
       "{'1970': [154, 13, 4, 182, 20, 61, 128, 8, 14, 104],\n",
       " '1980': [75, 13, 151, 27, 15, 40, 25, 12, 10, 19]}"
      ]
     },
     "execution_count": 221,
     "metadata": {},
     "output_type": "execute_result"
    }
   ],
   "source": [
    "batting_by_year = pipe(batting_by_year,\n",
    "                      valmap(get_hits_val))\n",
    "subset_dict(batting_by_year)"
   ]
  },
  {
   "cell_type": "markdown",
   "metadata": {},
   "source": [
    "#### Step 6 - Find the mean of each value"
   ]
  },
  {
   "cell_type": "code",
   "execution_count": 223,
   "metadata": {
    "collapsed": true
   },
   "outputs": [],
   "source": [
    "mean = lambda L: sum(L)/len(L)\n",
    "assert mean([1,2,3]) == 2"
   ]
  },
  {
   "cell_type": "code",
   "execution_count": 225,
   "metadata": {
    "collapsed": false
   },
   "outputs": [
    {
     "data": {
      "text/plain": [
       "{'1970': 68.8, '1980': 38.7}"
      ]
     },
     "execution_count": 225,
     "metadata": {},
     "output_type": "execute_result"
    }
   ],
   "source": [
    "pipe(subset_dict(batting_by_year),\n",
    "     valmap(mean))"
   ]
  },
  {
   "cell_type": "code",
   "execution_count": 226,
   "metadata": {
    "collapsed": true
   },
   "outputs": [],
   "source": [
    "batting_by_year =  pipe(batting_by_year,\n",
    "                       valmap(mean))"
   ]
  },
  {
   "cell_type": "code",
   "execution_count": 228,
   "metadata": {
    "collapsed": false
   },
   "outputs": [
    {
     "data": {
      "text/plain": [
       "{'1970': 56.654173764906304, '1980': 66.58070175438597}"
      ]
     },
     "execution_count": 228,
     "metadata": {},
     "output_type": "execute_result"
    }
   ],
   "source": [
    "get_70_80_dict(batting_by_year)"
   ]
  },
  {
   "cell_type": "code",
   "execution_count": null,
   "metadata": {
    "collapsed": false
   },
   "outputs": [],
   "source": [
    "batting_by_year"
   ]
  },
  {
   "cell_type": "markdown",
   "metadata": {},
   "source": [
    "#### Exercise: Put this all together in one pipe"
   ]
  },
  {
   "cell_type": "code",
   "execution_count": null,
   "metadata": {
    "collapsed": true
   },
   "outputs": [],
   "source": []
  }
 ],
 "metadata": {
  "anaconda-cloud": {},
  "kernelspec": {
   "display_name": "Python [Root]",
   "language": "python",
   "name": "Python [Root]"
  },
  "language_info": {
   "codemirror_mode": {
    "name": "ipython",
    "version": 3
   },
   "file_extension": ".py",
   "mimetype": "text/x-python",
   "name": "python",
   "nbconvert_exporter": "python",
   "pygments_lexer": "ipython3",
   "version": "3.5.2"
  }
 },
 "nbformat": 4,
 "nbformat_minor": 2
}
