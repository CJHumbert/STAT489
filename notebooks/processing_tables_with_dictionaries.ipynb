{
 "cells": [
  {
   "cell_type": "code",
   "execution_count": null,
   "metadata": {
    "collapsed": true,
    "slideshow": {
     "slide_type": "slide"
    }
   },
   "outputs": [],
   "source": [
    "%run talktools"
   ]
  },
  {
   "cell_type": "markdown",
   "metadata": {
    "slideshow": {
     "slide_type": "slide"
    }
   },
   "source": [
    "# Processing Lists and Tables with Dictionaries\n",
    "\n",
    "- Counting frequencies\n",
    "- Grouping data by some key/value"
   ]
  },
  {
   "cell_type": "code",
   "execution_count": null,
   "metadata": {
    "collapsed": true,
    "slideshow": {
     "slide_type": "slide"
    }
   },
   "outputs": [],
   "source": [
    "from more_itertools import with_iter\n",
    "from csv import reader\n",
    "from toolz import compose, first, do, pipe, assoc\n",
    "from toolz.curried import get, curry, map, drop, filter, take\n",
    "from functools import reduce"
   ]
  },
  {
   "cell_type": "markdown",
   "metadata": {
    "slideshow": {
     "slide_type": "slide"
    }
   },
   "source": [
    "## Data setup"
   ]
  },
  {
   "cell_type": "code",
   "execution_count": null,
   "metadata": {
    "collapsed": false,
    "slideshow": {
     "slide_type": "fragment"
    }
   },
   "outputs": [],
   "source": [
    "read_csv = compose(list, reader, with_iter, open)\n",
    "batting = read_csv('Batting.csv')\n",
    "pipe(batting,\n",
    "    take(3),\n",
    "    list)"
   ]
  },
  {
   "cell_type": "code",
   "execution_count": null,
   "metadata": {
    "collapsed": false,
    "slideshow": {
     "slide_type": "slide"
    }
   },
   "outputs": [],
   "source": [
    "row = batting[1]\n",
    "get_year = get(1)\n",
    "get_year(row)"
   ]
  },
  {
   "cell_type": "code",
   "execution_count": null,
   "metadata": {
    "collapsed": false,
    "slideshow": {
     "slide_type": "fragment"
    }
   },
   "outputs": [],
   "source": [
    "get_years = compose(list, map(get_year))\n",
    "pipe(batting,\n",
    "    take(10),\n",
    "    drop(1),\n",
    "    get_years,\n",
    "    list)"
   ]
  },
  {
   "cell_type": "markdown",
   "metadata": {
    "slideshow": {
     "slide_type": "slide"
    }
   },
   "source": [
    "# Task 1: Count each unique item in a list\n",
    "\n",
    "- we have a list of hashable items\n",
    "- we want a dictionary of frequencies for each item"
   ]
  },
  {
   "cell_type": "markdown",
   "metadata": {
    "slideshow": {
     "slide_type": "slide"
    }
   },
   "source": [
    "## Imperative solution\n",
    "\n",
    "- Start with an empty dictionary\n",
    "- Add 1 to the value for each key we observe"
   ]
  },
  {
   "cell_type": "code",
   "execution_count": null,
   "metadata": {
    "collapsed": false,
    "slideshow": {
     "slide_type": "fragment"
    }
   },
   "outputs": [],
   "source": [
    "acc = {}\n",
    "for year in get_years(drop(1, batting)):\n",
    "    old_count = get(year, acc, 0) + 1\n",
    "    new_count = old_count + 1\n",
    "    acc = assoc(acc, year, new_count)\n",
    "acc\n"
   ]
  },
  {
   "cell_type": "code",
   "execution_count": null,
   "metadata": {
    "collapsed": false,
    "slideshow": {
     "slide_type": "subslide"
    }
   },
   "outputs": [],
   "source": [
    "acc = {}\n",
    "for year in get_years(drop(1, batting)):\n",
    "    acc = assoc(acc, year, get(year, acc, 0) + 1)\n",
    "acc\n"
   ]
  },
  {
   "cell_type": "markdown",
   "metadata": {
    "slideshow": {
     "slide_type": "slide"
    }
   },
   "source": [
    "## Watch the progress with `print`"
   ]
  },
  {
   "cell_type": "code",
   "execution_count": null,
   "metadata": {
    "collapsed": false,
    "slideshow": {
     "slide_type": "fragment"
    }
   },
   "outputs": [],
   "source": [
    "acc = {}\n",
    "for year in get_years(drop(1, take(120, batting))):\n",
    "    print(year, acc)\n",
    "    acc = assoc(acc, year, get(year, acc, 0) + 1)\n",
    "acc"
   ]
  },
  {
   "cell_type": "markdown",
   "metadata": {
    "slideshow": {
     "slide_type": "slide"
    }
   },
   "source": [
    "## Solution with `reduce`"
   ]
  },
  {
   "cell_type": "code",
   "execution_count": null,
   "metadata": {
    "collapsed": true,
    "slideshow": {
     "slide_type": "fragment"
    }
   },
   "outputs": [],
   "source": [
    "acc = {}\n",
    "for year in get_years(drop(1, batting)):\n",
    "    acc = assoc(acc, year, get(year, acc, 0) + 1)\n",
    "acc"
   ]
  },
  {
   "cell_type": "code",
   "execution_count": null,
   "metadata": {
    "collapsed": false,
    "slideshow": {
     "slide_type": "slide"
    }
   },
   "outputs": [],
   "source": [
    "init = {}\n",
    "update_count = lambda acc, item: assoc(acc, item, get(item, acc, 0) + 1)\n",
    "my_freq = lambda seq: reduce(update_count, seq, {})\n",
    "my_freq(get_years(drop(1, batting)))"
   ]
  },
  {
   "cell_type": "markdown",
   "metadata": {
    "slideshow": {
     "slide_type": "slide"
    }
   },
   "source": [
    "## Using `frequencies` from `toolz`\n",
    "\n",
    "- `toolz` already has this function"
   ]
  },
  {
   "cell_type": "code",
   "execution_count": null,
   "metadata": {
    "collapsed": false,
    "slideshow": {
     "slide_type": "fragment"
    }
   },
   "outputs": [],
   "source": [
    "from toolz import frequencies\n",
    "pipe(batting,\n",
    "    drop(1),\n",
    "    get_years,\n",
    "    frequencies)"
   ]
  },
  {
   "cell_type": "markdown",
   "metadata": {
    "slideshow": {
     "slide_type": "slide"
    }
   },
   "source": [
    "# Task 2: Collect all items of the same type\n",
    "\n",
    "- Solution with dictionary\n",
    "    - keys are groups\n",
    "    - values are list of group members\n",
    "- Use a key_function to classify"
   ]
  },
  {
   "cell_type": "code",
   "execution_count": null,
   "metadata": {
    "collapsed": false,
    "slideshow": {
     "slide_type": "slide"
    }
   },
   "outputs": [],
   "source": [
    "row = batting[1]\n",
    "get_year_ab = get([1, 6])\n",
    "get_year_ab(row)"
   ]
  },
  {
   "cell_type": "code",
   "execution_count": null,
   "metadata": {
    "collapsed": false,
    "slideshow": {
     "slide_type": "fragment"
    }
   },
   "outputs": [],
   "source": [
    "get_years_abs = compose(list, map(get_year_ab))\n",
    "get_years_abs(batting[1:10])"
   ]
  },
  {
   "cell_type": "code",
   "execution_count": null,
   "metadata": {
    "collapsed": false,
    "scrolled": true,
    "slideshow": {
     "slide_type": "fragment"
    }
   },
   "outputs": [],
   "source": [
    "years_abs = pipe(batting,\n",
    "                drop(1),\n",
    "                get_years_abs)\n",
    "years_abs[:10]"
   ]
  },
  {
   "cell_type": "markdown",
   "metadata": {
    "slideshow": {
     "slide_type": "slide"
    }
   },
   "source": [
    "### Example: Group all rows by year"
   ]
  },
  {
   "cell_type": "code",
   "execution_count": null,
   "metadata": {
    "collapsed": false,
    "slideshow": {
     "slide_type": "fragment"
    }
   },
   "outputs": [],
   "source": [
    "get_year = get(0)\n",
    "key_func = get_year\n",
    "key_func(years_abs[0])"
   ]
  },
  {
   "cell_type": "code",
   "execution_count": null,
   "metadata": {
    "collapsed": false,
    "slideshow": {
     "slide_type": "slide"
    }
   },
   "outputs": [],
   "source": [
    "acc = {}\n",
    "for row in years_abs:\n",
    "    old_collection = get(key_func(row), acc, [])\n",
    "    new_collection = old_collection + [row]\n",
    "    acc = assoc(acc, key_func(row), new_collection)\n",
    "acc"
   ]
  },
  {
   "cell_type": "code",
   "execution_count": null,
   "metadata": {
    "collapsed": false,
    "slideshow": {
     "slide_type": "subslide"
    }
   },
   "outputs": [],
   "source": [
    "from operator import add\n",
    "old_collection = lambda acc, row: get(key_func(row), acc, [])\n",
    "new_collection = lambda acc, row: old_collection(acc, row) + [row]\n",
    "update_collection = lambda acc, row: assoc(acc, key_func(row), new_collection(acc, row))\n",
    "\n",
    "acc = {}\n",
    "for row in years_abs:\n",
    "    acc = update_collection(acc, row)\n",
    "acc"
   ]
  },
  {
   "cell_type": "markdown",
   "metadata": {
    "slideshow": {
     "slide_type": "slide"
    }
   },
   "source": [
    "## Solution with `reduce`"
   ]
  },
  {
   "cell_type": "code",
   "execution_count": null,
   "metadata": {
    "collapsed": false,
    "slideshow": {
     "slide_type": "fragment"
    }
   },
   "outputs": [],
   "source": [
    "update_collection = curry(lambda key_func, \n",
    "                                 acc, \n",
    "                                 row: assoc(acc, \n",
    "                                            key_func(row), \n",
    "                                            new_collection(acc, row)))\n",
    "my_groupby = lambda key_func, seq: reduce(update_collection(key_func), seq, {})\n",
    "my_groupby(get_year, years_abs)"
   ]
  },
  {
   "cell_type": "markdown",
   "metadata": {
    "slideshow": {
     "slide_type": "slide"
    }
   },
   "source": [
    "## Using `groupby` from `toolz`"
   ]
  },
  {
   "cell_type": "code",
   "execution_count": null,
   "metadata": {
    "collapsed": false,
    "slideshow": {
     "slide_type": "fragment"
    }
   },
   "outputs": [],
   "source": [
    "from toolz import groupby\n",
    "groupby(get_year, years_abs)"
   ]
  },
  {
   "cell_type": "markdown",
   "metadata": {
    "slideshow": {
     "slide_type": "slide"
    }
   },
   "source": [
    "# What's next?\n",
    "\n",
    "- next we will process the result of `groupby` with\n",
    "    - `valmap`\n",
    "    - `valfilter`\n",
    "- See section 7.6"
   ]
  }
 ],
 "metadata": {
  "celltoolbar": "Slideshow",
  "kernelspec": {
   "display_name": "Python 3",
   "language": "python",
   "name": "python3"
  },
  "language_info": {
   "codemirror_mode": {
    "name": "ipython",
    "version": 3
   },
   "file_extension": ".py",
   "mimetype": "text/x-python",
   "name": "python",
   "nbconvert_exporter": "python",
   "pygments_lexer": "ipython3",
   "version": "3.5.2"
  }
 },
 "nbformat": 4,
 "nbformat_minor": 2
}
