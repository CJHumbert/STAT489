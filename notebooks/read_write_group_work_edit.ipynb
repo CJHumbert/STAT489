{
 "cells": [
  {
   "cell_type": "markdown",
   "metadata": {},
   "source": [
    "# Reading and Writing Tables Group Work\n",
    "\n",
    "In this exercise, you will read, merge, filter, and reduce tables about baseball to answer a number of questions.\n",
    "\n",
    "**Here are the rules**\n",
    "\n",
    "1. Use `with_iter` from `more_itertools` combined with `csv.reader` to read tables.\n",
    "2. Use a `with` statement and the `consume(side_effects(print_func,seq))` pattern to write files.\n",
    "3. Write `lambda` expressions involving list comprehensions to process the tables.\n",
    "\n",
    "**Hints**\n",
    "\n",
    "1. Start by inspecting the files and noting the necessary columns.\n",
    "2. Join the needed information into a single table.\n",
    "3. Use the keys (playerID, teamID, etc.) to join the rows of tables.\n",
    "4. Try to filter whenever possible to shorten tables.\n",
    "5. Join and reduce the tables in separate steps.\n",
    "6. Don't be afraid to work incrementally, applying little changes one at a time.  You can always compose your functions later.\n",
    "7. Create lists of playerIDs and use this to filter tables"
   ]
  },
  {
   "cell_type": "markdown",
   "metadata": {},
   "source": [
    "<font color=\"red\">**Question 1:**</font>  While rare in the modern era, it used to be common practice for teams to have player-managers, i.e. using a current player as a manager.  Compute the total number of runs scored by all player-managers (all time).\n",
    "\n",
    "**Relevant Files:**  Managers.csv, Batting.csv\n",
    "\n",
    "**Hint:** You will need to join the tables on `playerID` and `year`"
   ]
  },
  {
   "cell_type": "markdown",
   "metadata": {},
   "source": [
    "**Step 1:** Import `with_iter` from `more_itertools`, `get` from `toolz`, and `reader` from `csv`"
   ]
  },
  {
   "cell_type": "code",
   "execution_count": 1,
   "metadata": {
    "collapsed": true
   },
   "outputs": [],
   "source": [
    "from more_itertools import with_iter\n",
    "from csv import reader\n",
    "from toolz import get"
   ]
  },
  {
   "cell_type": "markdown",
   "metadata": {},
   "source": [
    "** Step 2:** Read *Manager.csv* and *Batting.csv* into Python"
   ]
  },
  {
   "cell_type": "code",
   "execution_count": 4,
   "metadata": {
    "collapsed": false
   },
   "outputs": [],
   "source": [
    "managers = [r for r in reader(with_iter(open(\"Managers.csv\")))]\n",
    "batting = [r for r in reader(with_iter(open(\"Batting.csv\")))]"
   ]
  },
  {
   "cell_type": "markdown",
   "metadata": {},
   "source": [
    "**Step 3:** Inspect the header of managers using `list` and `enumerate`."
   ]
  },
  {
   "cell_type": "code",
   "execution_count": 8,
   "metadata": {
    "collapsed": false
   },
   "outputs": [
    {
     "data": {
      "text/plain": [
       "[(0, 'playerID'),\n",
       " (1, 'yearID'),\n",
       " (2, 'teamID'),\n",
       " (3, 'lgID'),\n",
       " (4, 'inseason'),\n",
       " (5, 'G'),\n",
       " (6, 'W'),\n",
       " (7, 'L'),\n",
       " (8, 'rank'),\n",
       " (9, 'plyrMgr')]"
      ]
     },
     "execution_count": 8,
     "metadata": {},
     "output_type": "execute_result"
    }
   ],
   "source": [
    "managers_header = managers[0]\n",
    "list(enumerate(managers_header))"
   ]
  },
  {
   "cell_type": "markdown",
   "metadata": {},
   "source": [
    "**Step 4:** Filter out the player managers into a new file"
   ]
  },
  {
   "cell_type": "code",
   "execution_count": 7,
   "metadata": {
    "collapsed": true
   },
   "outputs": [],
   "source": [
    "player_managers = [r for r in managers if get(-1, r) == 'Y']"
   ]
  },
  {
   "cell_type": "markdown",
   "metadata": {},
   "source": [
    "**Step 5:** Make a list of player managers IDs "
   ]
  },
  {
   "cell_type": "code",
   "execution_count": 9,
   "metadata": {
    "collapsed": true
   },
   "outputs": [],
   "source": [
    "player_managers_IDs = [get(0, r) for r in player_managers]"
   ]
  },
  {
   "cell_type": "markdown",
   "metadata": {},
   "source": [
    "**Step 6:** Inspect the batting header using `list` and `enumerate`."
   ]
  },
  {
   "cell_type": "code",
   "execution_count": 10,
   "metadata": {
    "collapsed": false
   },
   "outputs": [
    {
     "data": {
      "text/plain": [
       "[(0, 'playerID'),\n",
       " (1, 'yearID'),\n",
       " (2, 'stint'),\n",
       " (3, 'teamID'),\n",
       " (4, 'lgID'),\n",
       " (5, 'G'),\n",
       " (6, 'AB'),\n",
       " (7, 'R'),\n",
       " (8, 'H'),\n",
       " (9, '2B'),\n",
       " (10, '3B'),\n",
       " (11, 'HR'),\n",
       " (12, 'RBI'),\n",
       " (13, 'SB'),\n",
       " (14, 'CS'),\n",
       " (15, 'BB'),\n",
       " (16, 'SO'),\n",
       " (17, 'IBB'),\n",
       " (18, 'HBP'),\n",
       " (19, 'SH'),\n",
       " (20, 'SF'),\n",
       " (21, 'GIDP')]"
      ]
     },
     "execution_count": 10,
     "metadata": {},
     "output_type": "execute_result"
    }
   ],
   "source": [
    "batting_header = batting[0]\n",
    "list(enumerate(batting_header))"
   ]
  },
  {
   "cell_type": "markdown",
   "metadata": {},
   "source": [
    "**Step 7:** Filter out the runs from *Batting.csv* for all player managers"
   ]
  },
  {
   "cell_type": "code",
   "execution_count": 11,
   "metadata": {
    "collapsed": true
   },
   "outputs": [],
   "source": [
    "runs = [int(get(7, r)) for r in batting if get(0,r) in player_managers_IDs]"
   ]
  },
  {
   "cell_type": "markdown",
   "metadata": {},
   "source": [
    "**Step 8:** Total the runs"
   ]
  },
  {
   "cell_type": "code",
   "execution_count": 12,
   "metadata": {
    "collapsed": false
   },
   "outputs": [
    {
     "data": {
      "text/plain": [
       "159530"
      ]
     },
     "execution_count": 12,
     "metadata": {},
     "output_type": "execute_result"
    }
   ],
   "source": [
    "sum(runs)"
   ]
  },
  {
   "cell_type": "markdown",
   "metadata": {},
   "source": [
    "<font color=\"red\">**Question 2:**</font> Create a table of statistics on pitching that contains the following information:\n",
    "\n",
    "* players_name, \n",
    "* year, \n",
    "* team_name, (**BONUS**)\n",
    "* wins(W), \n",
    "* losses(L), \n",
    "* complete games (CG), \n",
    "* innings pitched (IP)\n",
    "\n",
    "Write this information to a file named **PitchingNames.csv** and include this file with your submission.\n",
    "\n",
    "**Edit:** Do this for the last 10 years.\n",
    "\n",
    "**Bonus:** Do this for all time.\n",
    "\n",
    "**Hint:** You can speed this up by filtering the master table, keeping only rows related to pitchers.\n",
    "\n",
    "**Relevant Files:** Pitching.csv, Master.csv, Teams.csv"
   ]
  },
  {
   "cell_type": "code",
   "execution_count": null,
   "metadata": {
    "collapsed": true
   },
   "outputs": [],
   "source": []
  },
  {
   "cell_type": "markdown",
   "metadata": {},
   "source": [
    "<font color=\"red\">**Question 3:**</font> Find the name of the pitcher and the associated team name for the pitcher with the lowest ERA (earned runs average) out of all pitchers between the years 1970 and 2010.  Limit your search to pitchers with at least 5 games pitched in a given year.\n",
    "\n",
    "** Relevant Files:** Pitching.csv, Master.csv, Teams.csv"
   ]
  },
  {
   "cell_type": "markdown",
   "metadata": {},
   "source": [
    "**Step 1:** Read in all three files."
   ]
  },
  {
   "cell_type": "code",
   "execution_count": null,
   "metadata": {
    "collapsed": true
   },
   "outputs": [],
   "source": []
  },
  {
   "cell_type": "markdown",
   "metadata": {},
   "source": [
    "**Step 2:** Filter the pitching table to only include the years 1970 to 2010."
   ]
  },
  {
   "cell_type": "code",
   "execution_count": null,
   "metadata": {
    "collapsed": true
   },
   "outputs": [],
   "source": []
  },
  {
   "cell_type": "markdown",
   "metadata": {},
   "source": [
    "**Step 3:** Make a new table that contains the ERA (int) and playerID of each pitcher in the filtered list"
   ]
  },
  {
   "cell_type": "code",
   "execution_count": null,
   "metadata": {
    "collapsed": true
   },
   "outputs": [],
   "source": []
  },
  {
   "cell_type": "markdown",
   "metadata": {},
   "source": [
    "**Step 4:** Use `min` with a key function (see **Section 4.3.4** of the book) to identify the player with the lowest ERA"
   ]
  },
  {
   "cell_type": "code",
   "execution_count": null,
   "metadata": {
    "collapsed": true
   },
   "outputs": [],
   "source": []
  },
  {
   "cell_type": "markdown",
   "metadata": {},
   "source": [
    "**Step 5:** Use filters to get the name and the team of the player identified in the last step."
   ]
  },
  {
   "cell_type": "code",
   "execution_count": null,
   "metadata": {
    "collapsed": true
   },
   "outputs": [],
   "source": []
  }
 ],
 "metadata": {
  "anaconda-cloud": {},
  "kernelspec": {
   "display_name": "Python [Root]",
   "language": "python",
   "name": "Python [Root]"
  },
  "language_info": {
   "codemirror_mode": {
    "name": "ipython",
    "version": 3
   },
   "file_extension": ".py",
   "mimetype": "text/x-python",
   "name": "python",
   "nbconvert_exporter": "python",
   "pygments_lexer": "ipython3",
   "version": "3.5.1"
  }
 },
 "nbformat": 4,
 "nbformat_minor": 0
}
