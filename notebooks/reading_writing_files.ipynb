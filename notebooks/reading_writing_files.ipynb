{
 "cells": [
  {
   "cell_type": "markdown",
   "metadata": {
    "slideshow": {
     "slide_type": "slide"
    }
   },
   "source": [
    "# File handler object and opening and closing files\n",
    "\n",
    "* `open` creates a file handler\n",
    "    * Not the file itself\n",
    "    * used to read and write\n",
    "* Needs proper handling\n",
    "    * open\n",
    "    * close\n",
    "    * flush\n",
    "    "
   ]
  },
  {
   "cell_type": "code",
   "execution_count": 68,
   "metadata": {
    "collapsed": false,
    "slideshow": {
     "slide_type": "slide"
    }
   },
   "outputs": [
    {
     "name": "stdout",
     "output_type": "stream",
     "text": [
      "<class '_io.TextIOWrapper'>\n"
     ]
    },
    {
     "data": {
      "text/plain": [
       "<_io.TextIOWrapper name='Batting.csv' mode='r' encoding='UTF-8'>"
      ]
     },
     "execution_count": 68,
     "metadata": {},
     "output_type": "execute_result"
    }
   ],
   "source": [
    "# read ('r') is the default mode\n",
    "f = open('Batting.csv')\n",
    "print(type(f))\n",
    "f"
   ]
  },
  {
   "cell_type": "code",
   "execution_count": 52,
   "metadata": {
    "collapsed": false,
    "slideshow": {
     "slide_type": "fragment"
    }
   },
   "outputs": [],
   "source": [
    "lines = f.readlines()\n",
    "f.close()"
   ]
  },
  {
   "cell_type": "code",
   "execution_count": 53,
   "metadata": {
    "collapsed": false,
    "slideshow": {
     "slide_type": "fragment"
    }
   },
   "outputs": [
    {
     "data": {
      "text/plain": [
       "['playerID,yearID,stint,teamID,lgID,G,AB,R,H,2B,3B,HR,RBI,SB,CS,BB,SO,IBB,HBP,SH,SF,GIDP\\n',\n",
       " 'abercda01,1871,1,TRO,NA,1,4,0,0,0,0,0,0,0,0,0,0,,,,,\\n',\n",
       " 'addybo01,1871,1,RC1,NA,25,118,30,32,6,0,0,13,8,1,4,0,,,,,\\n',\n",
       " 'allisar01,1871,1,CL1,NA,29,137,28,40,4,5,0,19,3,1,2,5,,,,,\\n',\n",
       " 'allisdo01,1871,1,WS3,NA,27,133,28,44,10,2,2,27,1,1,0,2,,,,,\\n',\n",
       " 'ansonca01,1871,1,RC1,NA,25,120,29,39,11,3,0,16,6,2,2,1,,,,,\\n',\n",
       " 'armstbo01,1871,1,FW1,NA,12,49,9,11,2,1,0,5,0,1,0,1,,,,,\\n',\n",
       " 'barkeal01,1871,1,RC1,NA,1,4,0,1,0,0,0,2,0,0,1,0,,,,,\\n',\n",
       " 'barnero01,1871,1,BS1,NA,31,157,66,63,10,9,0,34,11,6,13,1,,,,,\\n',\n",
       " 'barrebi01,1871,1,FW1,NA,1,5,1,1,1,0,0,1,0,0,0,0,,,,,\\n']"
      ]
     },
     "execution_count": 53,
     "metadata": {},
     "output_type": "execute_result"
    }
   ],
   "source": [
    "lines[:10]"
   ]
  },
  {
   "cell_type": "markdown",
   "metadata": {
    "slideshow": {
     "slide_type": "slide"
    }
   },
   "source": [
    "## Using the `with` statement to abstract context management\n",
    "\n",
    "* opening and closing is *context management*\n",
    "* Automate this with ``with``\n",
    "    * safe and **important**"
   ]
  },
  {
   "cell_type": "code",
   "execution_count": 54,
   "metadata": {
    "collapsed": false,
    "slideshow": {
     "slide_type": "slide"
    }
   },
   "outputs": [
    {
     "data": {
      "text/plain": [
       "['playerID,yearID,stint,teamID,lgID,G,AB,R,H,2B,3B,HR,RBI,SB,CS,BB,SO,IBB,HBP,SH,SF,GIDP\\n',\n",
       " 'abercda01,1871,1,TRO,NA,1,4,0,0,0,0,0,0,0,0,0,0,,,,,\\n',\n",
       " 'addybo01,1871,1,RC1,NA,25,118,30,32,6,0,0,13,8,1,4,0,,,,,\\n',\n",
       " 'allisar01,1871,1,CL1,NA,29,137,28,40,4,5,0,19,3,1,2,5,,,,,\\n',\n",
       " 'allisdo01,1871,1,WS3,NA,27,133,28,44,10,2,2,27,1,1,0,2,,,,,\\n',\n",
       " 'ansonca01,1871,1,RC1,NA,25,120,29,39,11,3,0,16,6,2,2,1,,,,,\\n',\n",
       " 'armstbo01,1871,1,FW1,NA,12,49,9,11,2,1,0,5,0,1,0,1,,,,,\\n',\n",
       " 'barkeal01,1871,1,RC1,NA,1,4,0,1,0,0,0,2,0,0,1,0,,,,,\\n',\n",
       " 'barnero01,1871,1,BS1,NA,31,157,66,63,10,9,0,34,11,6,13,1,,,,,\\n',\n",
       " 'barrebi01,1871,1,FW1,NA,1,5,1,1,1,0,0,1,0,0,0,0,,,,,\\n']"
      ]
     },
     "execution_count": 54,
     "metadata": {},
     "output_type": "execute_result"
    }
   ],
   "source": [
    "with open('Batting.csv') as f:\n",
    "    lines = f.readlines()\n",
    "lines[:10]"
   ]
  },
  {
   "cell_type": "markdown",
   "metadata": {
    "slideshow": {
     "slide_type": "slide"
    }
   },
   "source": [
    "# Using `with_iter` from `more_itertools` to embed a context manager\n",
    "\n",
    "* `with_iter` allows you to embed a with statement\n",
    "* allows proper iteration for reading files"
   ]
  },
  {
   "cell_type": "code",
   "execution_count": 55,
   "metadata": {
    "collapsed": false,
    "slideshow": {
     "slide_type": "slide"
    }
   },
   "outputs": [
    {
     "name": "stdout",
     "output_type": "stream",
     "text": [
      "['playerID,yearID,stint,teamID,lgID,G,AB,R,H,2B,3B,HR,RBI,SB,CS,BB,SO,IBB,HBP,SH,SF,GIDP\\n', 'abercda01,1871,1,TRO,NA,1,4,0,0,0,0,0,0,0,0,0,0,,,,,\\n', 'addybo01,1871,1,RC1,NA,25,118,30,32,6,0,0,13,8,1,4,0,,,,,\\n', 'allisar01,1871,1,CL1,NA,29,137,28,40,4,5,0,19,3,1,2,5,,,,,\\n', 'allisdo01,1871,1,WS3,NA,27,133,28,44,10,2,2,27,1,1,0,2,,,,,\\n', 'ansonca01,1871,1,RC1,NA,25,120,29,39,11,3,0,16,6,2,2,1,,,,,\\n', 'armstbo01,1871,1,FW1,NA,12,49,9,11,2,1,0,5,0,1,0,1,,,,,\\n', 'barkeal01,1871,1,RC1,NA,1,4,0,1,0,0,0,2,0,0,1,0,,,,,\\n', 'barnero01,1871,1,BS1,NA,31,157,66,63,10,9,0,34,11,6,13,1,,,,,\\n', 'barrebi01,1871,1,FW1,NA,1,5,1,1,1,0,0,1,0,0,0,0,,,,,\\n']\n"
     ]
    }
   ],
   "source": [
    "try:\n",
    "    from more_itertools import with_iter\n",
    "except:\n",
    "    import pip\n",
    "    pip.main(['install', 'more-itertools'])\n",
    "from more_itertools import with_iter\n",
    "lines = [line for line in with_iter(open(\"Batting.csv\"))]\n",
    "print(lines[:10])"
   ]
  },
  {
   "cell_type": "markdown",
   "metadata": {
    "slideshow": {
     "slide_type": "slide"
    }
   },
   "source": [
    "## Manually splitting comma-separated lines"
   ]
  },
  {
   "cell_type": "code",
   "execution_count": 56,
   "metadata": {
    "collapsed": false,
    "slideshow": {
     "slide_type": "fragment"
    }
   },
   "outputs": [
    {
     "data": {
      "text/plain": [
       "[['playerID',\n",
       "  'yearID',\n",
       "  'stint',\n",
       "  'teamID',\n",
       "  'lgID',\n",
       "  'G',\n",
       "  'AB',\n",
       "  'R',\n",
       "  'H',\n",
       "  '2B',\n",
       "  '3B',\n",
       "  'HR',\n",
       "  'RBI',\n",
       "  'SB',\n",
       "  'CS',\n",
       "  'BB',\n",
       "  'SO',\n",
       "  'IBB',\n",
       "  'HBP',\n",
       "  'SH',\n",
       "  'SF',\n",
       "  'GIDP\\n'],\n",
       " ['abercda01',\n",
       "  '1871',\n",
       "  '1',\n",
       "  'TRO',\n",
       "  'NA',\n",
       "  '1',\n",
       "  '4',\n",
       "  '0',\n",
       "  '0',\n",
       "  '0',\n",
       "  '0',\n",
       "  '0',\n",
       "  '0',\n",
       "  '0',\n",
       "  '0',\n",
       "  '0',\n",
       "  '0',\n",
       "  '',\n",
       "  '',\n",
       "  '',\n",
       "  '',\n",
       "  '\\n'],\n",
       " ['addybo01',\n",
       "  '1871',\n",
       "  '1',\n",
       "  'RC1',\n",
       "  'NA',\n",
       "  '25',\n",
       "  '118',\n",
       "  '30',\n",
       "  '32',\n",
       "  '6',\n",
       "  '0',\n",
       "  '0',\n",
       "  '13',\n",
       "  '8',\n",
       "  '1',\n",
       "  '4',\n",
       "  '0',\n",
       "  '',\n",
       "  '',\n",
       "  '',\n",
       "  '',\n",
       "  '\\n'],\n",
       " ['allisar01',\n",
       "  '1871',\n",
       "  '1',\n",
       "  'CL1',\n",
       "  'NA',\n",
       "  '29',\n",
       "  '137',\n",
       "  '28',\n",
       "  '40',\n",
       "  '4',\n",
       "  '5',\n",
       "  '0',\n",
       "  '19',\n",
       "  '3',\n",
       "  '1',\n",
       "  '2',\n",
       "  '5',\n",
       "  '',\n",
       "  '',\n",
       "  '',\n",
       "  '',\n",
       "  '\\n'],\n",
       " ['allisdo01',\n",
       "  '1871',\n",
       "  '1',\n",
       "  'WS3',\n",
       "  'NA',\n",
       "  '27',\n",
       "  '133',\n",
       "  '28',\n",
       "  '44',\n",
       "  '10',\n",
       "  '2',\n",
       "  '2',\n",
       "  '27',\n",
       "  '1',\n",
       "  '1',\n",
       "  '0',\n",
       "  '2',\n",
       "  '',\n",
       "  '',\n",
       "  '',\n",
       "  '',\n",
       "  '\\n']]"
      ]
     },
     "execution_count": 56,
     "metadata": {},
     "output_type": "execute_result"
    }
   ],
   "source": [
    "split_lines = [line.split(',') for line in lines]\n",
    "split_lines[:5]"
   ]
  },
  {
   "cell_type": "markdown",
   "metadata": {
    "slideshow": {
     "slide_type": "slide"
    }
   },
   "source": [
    "## Processing csv files with `csv.reader`\n",
    "\n",
    "* Automatically splits files\n",
    "    * **Everything is still strings**\n",
    "* defaults to `delimit = ','`\n",
    "* The order is important\n",
    "    * csv.reader(with_iter(open(...))) is **good**\n",
    "    * with_iter(csv.reader(open(...))) is **bad**"
   ]
  },
  {
   "cell_type": "code",
   "execution_count": 57,
   "metadata": {
    "collapsed": false,
    "scrolled": true,
    "slideshow": {
     "slide_type": "fragment"
    }
   },
   "outputs": [
    {
     "data": {
      "text/plain": [
       "[['playerID',\n",
       "  'yearID',\n",
       "  'stint',\n",
       "  'teamID',\n",
       "  'lgID',\n",
       "  'G',\n",
       "  'AB',\n",
       "  'R',\n",
       "  'H',\n",
       "  '2B',\n",
       "  '3B',\n",
       "  'HR',\n",
       "  'RBI',\n",
       "  'SB',\n",
       "  'CS',\n",
       "  'BB',\n",
       "  'SO',\n",
       "  'IBB',\n",
       "  'HBP',\n",
       "  'SH',\n",
       "  'SF',\n",
       "  'GIDP'],\n",
       " ['abercda01',\n",
       "  '1871',\n",
       "  '1',\n",
       "  'TRO',\n",
       "  'NA',\n",
       "  '1',\n",
       "  '4',\n",
       "  '0',\n",
       "  '0',\n",
       "  '0',\n",
       "  '0',\n",
       "  '0',\n",
       "  '0',\n",
       "  '0',\n",
       "  '0',\n",
       "  '0',\n",
       "  '0',\n",
       "  '',\n",
       "  '',\n",
       "  '',\n",
       "  '',\n",
       "  '']]"
      ]
     },
     "execution_count": 57,
     "metadata": {},
     "output_type": "execute_result"
    }
   ],
   "source": [
    "import csv\n",
    "\n",
    "split_lines = [line for line in csv.reader(with_iter(open('Batting.csv')))]\n",
    "split_lines[:2]"
   ]
  },
  {
   "cell_type": "markdown",
   "metadata": {
    "slideshow": {
     "slide_type": "slide"
    }
   },
   "source": [
    "## Working with tables\n",
    "\n",
    "* Read the table into memory with `csv.reader`\n",
    "* process the table\n",
    "    * see chapter 5"
   ]
  },
  {
   "cell_type": "code",
   "execution_count": 58,
   "metadata": {
    "collapsed": false,
    "slideshow": {
     "slide_type": "fragment"
    }
   },
   "outputs": [
    {
     "data": {
      "text/plain": [
       "[['playerID',\n",
       "  'yearID',\n",
       "  'stint',\n",
       "  'teamID',\n",
       "  'lgID',\n",
       "  'G',\n",
       "  'AB',\n",
       "  'R',\n",
       "  'H',\n",
       "  '2B',\n",
       "  '3B',\n",
       "  'HR',\n",
       "  'RBI',\n",
       "  'SB',\n",
       "  'CS',\n",
       "  'BB',\n",
       "  'SO',\n",
       "  'IBB',\n",
       "  'HBP',\n",
       "  'SH',\n",
       "  'SF',\n",
       "  'GIDP'],\n",
       " ['wrighge01',\n",
       "  '1875',\n",
       "  '1',\n",
       "  'BS1',\n",
       "  'NA',\n",
       "  '79',\n",
       "  '408',\n",
       "  '106',\n",
       "  '136',\n",
       "  '20',\n",
       "  '7',\n",
       "  '2',\n",
       "  '61',\n",
       "  '13',\n",
       "  '6',\n",
       "  '2',\n",
       "  '6',\n",
       "  '',\n",
       "  '',\n",
       "  '',\n",
       "  '',\n",
       "  '']]"
      ]
     },
     "execution_count": 58,
     "metadata": {},
     "output_type": "execute_result"
    }
   ],
   "source": [
    "# Note: Need to pass over empty rows\n",
    "get_AB = lambda row: int(row[6]) if row[6] else 0\n",
    "# Using split_lines[1:] to ignore the header\n",
    "AB_400_plus = [row for row in split_lines[1:] if get_AB(row) >= 400]\n",
    "# Adding the header back in\n",
    "AB_400_plus = [split_lines[0]] + AB_400_plus\n",
    "AB_400_plus[:2]"
   ]
  },
  {
   "cell_type": "markdown",
   "metadata": {
    "slideshow": {
     "slide_type": "slide"
    }
   },
   "source": [
    "## Writing to files\n",
    "\n",
    "* Need to open with `mode='w'` or `'a'`\n",
    "    * `'w'` is *write*\n",
    "    * `'a'` is *append*\n",
    "* **Be careful!**\n",
    "    * open('file','w') **immediately** erases `file`"
   ]
  },
  {
   "cell_type": "markdown",
   "metadata": {
    "slideshow": {
     "slide_type": "slide"
    }
   },
   "source": [
    "## Preliminary work - turn rows back into strings"
   ]
  },
  {
   "cell_type": "code",
   "execution_count": 59,
   "metadata": {
    "collapsed": false,
    "slideshow": {
     "slide_type": "fragment"
    }
   },
   "outputs": [
    {
     "data": {
      "text/plain": [
       "['playerID,yearID,stint,teamID,lgID,G,AB,R,H,2B,3B,HR,RBI,SB,CS,BB,SO,IBB,HBP,SH,SF,GIDP',\n",
       " 'wrighge01,1875,1,BS1,NA,79,408,106,136,20,7,2,61,13,6,2,6,,,,,',\n",
       " 'hinespa01,1879,1,PRO,NL,85,409,81,146,25,10,2,52,,,8,16,,,,,']"
      ]
     },
     "execution_count": 59,
     "metadata": {},
     "output_type": "execute_result"
    }
   ],
   "source": [
    "joined_rows = [','.join(row) for row in AB_400_plus]\n",
    "joined_rows[:3]"
   ]
  },
  {
   "cell_type": "code",
   "execution_count": 60,
   "metadata": {
    "collapsed": false,
    "slideshow": {
     "slide_type": "slide"
    }
   },
   "outputs": [
    {
     "name": "stdout",
     "output_type": "stream",
     "text": [
      "playerID,yearID,stint,teamID,lgID,G,AB,R,H,2B,3B,HR,RBI,SB,CS,BB,SO,IBB,HBP,SH,SF,GIDP\r\n",
      "wrighge01,1875,1,BS1,NA,79,408,106,136,20,7,2,61,13,6,2,6,,,,,\r\n",
      "hinespa01,1879,1,PRO,NL,85,409,81,146,25,10,2,52,,,8,16,,,,,\r\n",
      "ansonca01,1883,1,CHN,NL,98,413,70,127,36,5,0,68,,,18,9,,,,,\r\n",
      "birchju01,1883,1,PH4,AA,96,448,95,108,10,1,1,24,0,,20,,,,,,\r\n",
      "cat: stdout: Broken pipe\r\n"
     ]
    }
   ],
   "source": [
    "with open('AB_400_plus.csv','w') as outfile:\n",
    "    for line in joined_rows:\n",
    "        print(line, file=outfile)\n",
    "!cat AB_400_plus.csv | head -n 5"
   ]
  },
  {
   "cell_type": "markdown",
   "metadata": {
    "slideshow": {
     "slide_type": "slide"
    }
   },
   "source": [
    "## A more functional approach to writing files with comprehensions\n",
    "\n",
    "* Comprehensions should be referentially transparent\n",
    "* side-effect like `print` break this"
   ]
  },
  {
   "cell_type": "code",
   "execution_count": 61,
   "metadata": {
    "collapsed": false,
    "slideshow": {
     "slide_type": "fragment"
    }
   },
   "outputs": [
    {
     "data": {
      "text/plain": [
       "[None, None, None, None, None]"
      ]
     },
     "execution_count": 61,
     "metadata": {},
     "output_type": "execute_result"
    }
   ],
   "source": [
    "with open('AB_400_plus.csv','w') as outfile:\n",
    "    output = [print(line, file=outfile) for line in joined_rows]\n",
    "output[:5]"
   ]
  },
  {
   "cell_type": "markdown",
   "metadata": {
    "slideshow": {
     "slide_type": "slide"
    }
   },
   "source": [
    "## Solution 1 - Used `do` from `toolz`\n",
    "\n",
    "* `do(func,x)` does the following\n",
    "    * calls `func(x)` \n",
    "        * a side-effecting like `print`\n",
    "    * returns unmodified `x`\n",
    "* We can keep using output in other functions/expressions"
   ]
  },
  {
   "cell_type": "code",
   "execution_count": null,
   "metadata": {
    "collapsed": true,
    "slideshow": {
     "slide_type": "slide"
    }
   },
   "outputs": [],
   "source": [
    "try:\n",
    "    from toolz import do\n",
    "except:\n",
    "    import pip\n",
    "    pip.main(['install','toolz'])\n",
    "    from toolz import do"
   ]
  },
  {
   "cell_type": "code",
   "execution_count": 62,
   "metadata": {
    "collapsed": false,
    "slideshow": {
     "slide_type": "slide"
    }
   },
   "outputs": [
    {
     "data": {
      "text/plain": [
       "['playerID,yearID,stint,teamID,lgID,G,AB,R,H,2B,3B,HR,RBI,SB,CS,BB,SO,IBB,HBP,SH,SF,GIDP',\n",
       " 'wrighge01,1875,1,BS1,NA,79,408,106,136,20,7,2,61,13,6,2,6,,,,,',\n",
       " 'hinespa01,1879,1,PRO,NL,85,409,81,146,25,10,2,52,,,8,16,,,,,',\n",
       " 'ansonca01,1883,1,CHN,NL,98,413,70,127,36,5,0,68,,,18,9,,,,,',\n",
       " 'birchju01,1883,1,PH4,AA,96,448,95,108,10,1,1,24,0,,20,,,,,,']"
      ]
     },
     "execution_count": 62,
     "metadata": {},
     "output_type": "execute_result"
    }
   ],
   "source": [
    "with open('AB_400_plus.csv','w') as outfile:\n",
    "    print_func = lambda x: print(x, file=outfile)\n",
    "    output = [do(print_func, line) for line in joined_rows]\n",
    "output[:5]"
   ]
  },
  {
   "cell_type": "code",
   "execution_count": 63,
   "metadata": {
    "collapsed": false,
    "slideshow": {
     "slide_type": "fragment"
    }
   },
   "outputs": [
    {
     "name": "stdout",
     "output_type": "stream",
     "text": [
      "playerID,yearID,stint,teamID,lgID,G,AB,R,H,2B,3B,HR,RBI,SB,CS,BB,SO,IBB,HBP,SH,SF,GIDP\r\n",
      "wrighge01,1875,1,BS1,NA,79,408,106,136,20,7,2,61,13,6,2,6,,,,,\r\n",
      "hinespa01,1879,1,PRO,NL,85,409,81,146,25,10,2,52,,,8,16,,,,,\r\n",
      "ansonca01,1883,1,CHN,NL,98,413,70,127,36,5,0,68,,,18,9,,,,,\r\n",
      "birchju01,1883,1,PH4,AA,96,448,95,108,10,1,1,24,0,,20,,,,,,\r\n",
      "cat: stdout: Broken pipe\r\n"
     ]
    }
   ],
   "source": [
    "!cat AB_400_plus.csv | head -n 5"
   ]
  },
  {
   "cell_type": "markdown",
   "metadata": {
    "slideshow": {
     "slide_type": "slide"
    }
   },
   "source": [
    "## Solution 2 - Use `consume` and `side_effect` from `more_itertools`\n",
    "\n",
    "* `side_effect(func, seq)` does the following to each `x` in `seq`\n",
    "    * apply `func` to `x`\n",
    "    * returns the original `seq`\n",
    "    * abstraction of `[do(func, x) for x in seq]`\n",
    "* `consume(seq)` gets rid of a unwanted `seq`\n",
    "* `consume(side_effect(...))` is very appealing"
   ]
  },
  {
   "cell_type": "code",
   "execution_count": 64,
   "metadata": {
    "collapsed": false,
    "slideshow": {
     "slide_type": "slide"
    }
   },
   "outputs": [
    {
     "name": "stdout",
     "output_type": "stream",
     "text": [
      "playerID,yearID,stint,teamID,lgID,G,AB,R,H,2B,3B,HR,RBI,SB,CS,BB,SO,IBB,HBP,SH,SF,GIDP\r\n",
      "wrighge01,1875,1,BS1,NA,79,408,106,136,20,7,2,61,13,6,2,6,,,,,\r\n",
      "hinespa01,1879,1,PRO,NL,85,409,81,146,25,10,2,52,,,8,16,,,,,\r\n",
      "ansonca01,1883,1,CHN,NL,98,413,70,127,36,5,0,68,,,18,9,,,,,\r\n",
      "birchju01,1883,1,PH4,AA,96,448,95,108,10,1,1,24,0,,20,,,,,,\r\n",
      "cat: stdout: Broken pipe\r\n"
     ]
    }
   ],
   "source": [
    "from more_itertools import consume, side_effect\n",
    "with open('AB_400_plus.csv','w') as outfile:\n",
    "    consume(side_effect(lambda x: print(x, file=outfile), joined_rows))\n",
    "!cat AB_400_plus.csv | head -n 5"
   ]
  },
  {
   "cell_type": "markdown",
   "metadata": {
    "slideshow": {
     "slide_type": "slide"
    }
   },
   "source": [
    "## More craziness in the pursuit of NO MORE ~~WIRE HANGERS~~ STATEMENTS EVER"
   ]
  },
  {
   "cell_type": "code",
   "execution_count": 65,
   "metadata": {
    "collapsed": false,
    "slideshow": {
     "slide_type": "fragment"
    }
   },
   "outputs": [
    {
     "data": {
      "image/jpeg": "[encoded data removed]",
      "text/html": [
       "\n",
       "        <iframe\n",
       "            width=\"400\"\n",
       "            height=\"300\"\n",
       "            src=\"https://www.youtube.com/embed/tUkE9qaVgmo\"\n",
       "            frameborder=\"0\"\n",
       "            allowfullscreen\n",
       "        ></iframe>\n",
       "        "
      ],
      "text/plain": [
       "<IPython.lib.display.YouTubeVideo at 0x10a7a7438>"
      ]
     },
     "execution_count": 65,
     "metadata": {},
     "output_type": "execute_result"
    }
   ],
   "source": [
    "from IPython.display import YouTubeVideo\n",
    "\n",
    "YouTubeVideo('tUkE9qaVgmo')"
   ]
  },
  {
   "cell_type": "code",
   "execution_count": 66,
   "metadata": {
    "collapsed": false,
    "slideshow": {
     "slide_type": "slide"
    }
   },
   "outputs": [],
   "source": [
    "def with_file(file_handle):\n",
    "    with file_handle as f:\n",
    "        yield f"
   ]
  },
  {
   "cell_type": "code",
   "execution_count": 69,
   "metadata": {
    "collapsed": false,
    "slideshow": {
     "slide_type": "fragment"
    }
   },
   "outputs": [
    {
     "name": "stdout",
     "output_type": "stream",
     "text": [
      "playerID,yearID,stint,teamID,lgID,G,AB,R,H,2B,3B,HR,RBI,SB,CS,BB,SO,IBB,HBP,SH,SF,GIDP\r\n",
      "wrighge01,1875,1,BS1,NA,79,408,106,136,20,7,2,61,13,6,2,6,,,,,\r\n",
      "hinespa01,1879,1,PRO,NL,85,409,81,146,25,10,2,52,,,8,16,,,,,\r\n",
      "ansonca01,1883,1,CHN,NL,98,413,70,127,36,5,0,68,,,18,9,,,,,\r\n",
      "birchju01,1883,1,PH4,AA,96,448,95,108,10,1,1,24,0,,20,,,,,,\r\n",
      "cat: stdout: Broken pipe\r\n"
     ]
    }
   ],
   "source": [
    "consume([print(line, file=outfile) \n",
    "         for outfile in with_file(open('AB_400_plus.csv', 'w')) \n",
    "         for line in joined_rows])\n",
    "!cat AB_400_plus.csv | head -n 5"
   ]
  }
 ],
 "metadata": {
  "anaconda-cloud": {},
  "kernelspec": {
   "display_name": "Python [Root]",
   "language": "python",
   "name": "Python [Root]"
  },
  "language_info": {
   "codemirror_mode": {
    "name": "ipython",
    "version": 3
   },
   "file_extension": ".py",
   "mimetype": "text/x-python",
   "name": "python",
   "nbconvert_exporter": "python",
   "pygments_lexer": "ipython3",
   "version": "3.5.2"
  }
 },
 "nbformat": 4,
 "nbformat_minor": 2
}
