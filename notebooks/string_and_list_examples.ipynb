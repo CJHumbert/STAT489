{
 "cells": [
  {
   "cell_type": "markdown",
   "metadata": {
    "slideshow": {
     "slide_type": "slide"
    }
   },
   "source": [
    "# Strings and Lists Examples\n",
    "\n",
    "In this presentation, we will do a few more example with Emma by Jane Austen."
   ]
  },
  {
   "cell_type": "code",
   "execution_count": 1,
   "metadata": {
    "collapsed": false,
    "slideshow": {
     "slide_type": "slide"
    }
   },
   "outputs": [],
   "source": [
    "from nltk.corpus import gutenberg"
   ]
  },
  {
   "cell_type": "code",
   "execution_count": 2,
   "metadata": {
    "collapsed": false,
    "slideshow": {
     "slide_type": "slide"
    }
   },
   "outputs": [
    {
     "data": {
      "text/plain": [
       "['austen-emma.txt',\n",
       " 'austen-persuasion.txt',\n",
       " 'austen-sense.txt',\n",
       " 'bible-kjv.txt',\n",
       " 'blake-poems.txt',\n",
       " 'bryant-stories.txt',\n",
       " 'burgess-busterbrown.txt',\n",
       " 'carroll-alice.txt',\n",
       " 'chesterton-ball.txt',\n",
       " 'chesterton-brown.txt',\n",
       " 'chesterton-thursday.txt',\n",
       " 'edgeworth-parents.txt',\n",
       " 'melville-moby_dick.txt',\n",
       " 'milton-paradise.txt',\n",
       " 'shakespeare-caesar.txt',\n",
       " 'shakespeare-hamlet.txt',\n",
       " 'shakespeare-macbeth.txt',\n",
       " 'whitman-leaves.txt']"
      ]
     },
     "execution_count": 2,
     "metadata": {},
     "output_type": "execute_result"
    }
   ],
   "source": [
    "gutenberg.fileids()"
   ]
  },
  {
   "cell_type": "markdown",
   "metadata": {
    "slideshow": {
     "slide_type": "slide"
    }
   },
   "source": [
    "## **Problem 1**. Find the number of lines that start with `the`\n",
    "\n",
    "**Note** I am going to ignore the title and chapter headings, you need to fix these in the group work.  I will remove punctuation.\n",
    "\n",
    "**Note 2** Make sure that you have installed ``nltk`` as shown in the book/group work."
   ]
  },
  {
   "cell_type": "code",
   "execution_count": 3,
   "metadata": {
    "collapsed": false,
    "slideshow": {
     "slide_type": "fragment"
    }
   },
   "outputs": [],
   "source": [
    "emma = gutenberg.raw('austen-emma.txt')"
   ]
  },
  {
   "cell_type": "code",
   "execution_count": 5,
   "metadata": {
    "collapsed": false,
    "slideshow": {
     "slide_type": "subslide"
    }
   },
   "outputs": [
    {
     "name": "stdout",
     "output_type": "stream",
     "text": [
      "[Emma by Jane Austen 1816]\n",
      "\n",
      "VOLUME I\n",
      "\n",
      "CHAPTER I\n",
      "\n",
      "\n",
      "Emma Woodhouse, handsome, clever, and rich, with a comfortable home\n",
      "and happy disposition, seemed to unite some of the best blessings\n",
      "of existence; and had lived nearly twenty-one years in the world\n",
      "with very little to distress or vex her.\n",
      "\n",
      "She was the youngest of the two daughters of a most affectionate,\n",
      "indulgent father; and had, in consequence of her sister's marriage,\n",
      "been mistress of his house from a very early period.  Her mother\n",
      "had died too long ago for her to have more than an indistinct\n",
      "remembrance of her caresses; and her place had been supplied\n",
      "by an excellent woman as governess, who had fallen little short\n",
      "of a mother in affection.\n",
      "\n",
      "Sixteen years had Miss Taylor been in Mr. Woodhouse's family,\n",
      "less as a governess than a friend, very fond of both daughters,\n",
      "but particularly of Emma.  Between _them_ it was more the intimacy\n",
      "of sisters.  Even before Miss Taylor had ceased to hold the nominal\n",
      "office of governess, the mildness o\n"
     ]
    }
   ],
   "source": [
    "print(emma[:1000])"
   ]
  },
  {
   "cell_type": "code",
   "execution_count": 45,
   "metadata": {
    "collapsed": false,
    "slideshow": {
     "slide_type": "slide"
    }
   },
   "outputs": [
    {
     "data": {
      "text/plain": [
       "' was safe.--\\nBut Mr. John Knightley must be in London again by the end of the\\nfirst week in November.\\n\\nThe result of this distress was, that, with a much more voluntary,\\ncheerful consent than his daughter had ever presumed to hope for at\\nthe moment, she was able to fix her wedding-day--and Mr. Elton was\\ncalled on, within a month from the marriage of Mr. and Mrs. Robert\\nMartin, to join the hands of Mr. Knightley and Miss Woodhouse.\\n\\nThe wedding was very much like other weddings, where the parties\\nhave no taste for finery or parade; and Mrs. Elton, from the\\nparticulars detailed by her husband, thought it all extremely shabby,\\nand very inferior to her own.--\"Very little white satin, very few\\nlace veils; a most pitiful business!--Selina would stare when she\\nheard of it.\"--But, in spite of these deficiencies, the wishes,\\nthe hopes, the confidence, the predictions of the small band\\nof true friends who witnessed the ceremony, were fully answered\\nin the perfect happiness of the union.\\n\\n\\nFINIS\\n'"
      ]
     },
     "execution_count": 45,
     "metadata": {},
     "output_type": "execute_result"
    }
   ],
   "source": [
    "emma[-1000:]"
   ]
  },
  {
   "cell_type": "markdown",
   "metadata": {
    "slideshow": {
     "slide_type": "slide"
    }
   },
   "source": [
    "To clean up the test, I will use the functions shown in the book."
   ]
  },
  {
   "cell_type": "code",
   "execution_count": 46,
   "metadata": {
    "collapsed": true,
    "slideshow": {
     "slide_type": "fragment"
    }
   },
   "outputs": [],
   "source": [
    "from string import punctuation, whitespace\n",
    "\n",
    "remove_punc = lambda s: \"\".join([ch for ch in s if ch not in punctuation])\n",
    "make_lower_case = lambda s: s.lower()\n"
   ]
  },
  {
   "cell_type": "code",
   "execution_count": 47,
   "metadata": {
    "collapsed": false,
    "slideshow": {
     "slide_type": "slide"
    }
   },
   "outputs": [
    {
     "data": {
      "text/plain": [
       "'emma by jane austen 1816\\n\\nvolume i\\n\\nchapter i\\n\\n\\nemma woodhouse handsome clever and rich with a comfortable home\\nand happy disposition seemed to unite some of the best blessings\\nof existence and had lived nearly twentyone years in the world\\nwith very little to distress or vex her\\n\\nshe was the youngest of the two daughters of a most affectionate\\nindulgent father and had in consequence of her sisters marriage\\nbeen mistress of his house from a very early period  her mother\\nhad died too long ago for her to have more than an indistinct\\nremembrance of her caresses and her place had been supplied\\nby an excellent woman as governess who had fallen little short\\nof a mother in affection\\n\\nsixteen years had miss taylor been in mr woodhouses family\\nless as a governess than a friend very fond of both daughters\\nbut particularly of emma  between them it was more the intimacy\\nof sisters  even before miss taylor had ceased to hold the nominal\\noffice of governess the mildness of her temper had hardly allow'"
      ]
     },
     "execution_count": 47,
     "metadata": {},
     "output_type": "execute_result"
    }
   ],
   "source": [
    "emma_fixed = make_lower_case(remove_punc(emma))\n",
    "emma_fixed[:1000]"
   ]
  },
  {
   "cell_type": "markdown",
   "metadata": {
    "collapsed": true,
    "slideshow": {
     "slide_type": "slide"
    }
   },
   "source": [
    "Since the problem has to do with a question about lines, we will split by lines and only keep the ones that start with ``the``"
   ]
  },
  {
   "cell_type": "code",
   "execution_count": 48,
   "metadata": {
    "collapsed": false,
    "slideshow": {
     "slide_type": "fragment"
    }
   },
   "outputs": [
    {
     "data": {
      "text/plain": [
       "['the real evils indeed of emmas situation were the power of having',\n",
       " 'the event had every promise of happiness for her friend  mr weston',\n",
       " 'the want of miss taylor would be felt every hour of every day',\n",
       " 'the evil of the actual disparity in their ages and mr woodhouse had',\n",
       " 'the carriage but james will not like to put the horses to for',\n",
       " 'the backgammontable was placed but a visitor immediately afterwards',\n",
       " 'the chances are that she must be a gainer',\n",
       " 'the boy had with the additional softening claim of a lingering',\n",
       " 'the child was given up to the care and the wealth of the churchills',\n",
       " 'the next eighteen or twenty years of his life passed cheerfully away']"
      ]
     },
     "execution_count": 48,
     "metadata": {},
     "output_type": "execute_result"
    }
   ],
   "source": [
    "lines = [line for line in emma_fixed.split('\\n') if line.startswith('the ')]\n",
    "lines[:10]"
   ]
  },
  {
   "cell_type": "markdown",
   "metadata": {
    "slideshow": {
     "slide_type": "slide"
    }
   },
   "source": [
    "The answer to the questions is obtained by using ``len`` to count the lines"
   ]
  },
  {
   "cell_type": "code",
   "execution_count": 49,
   "metadata": {
    "collapsed": false,
    "slideshow": {
     "slide_type": "fragment"
    }
   },
   "outputs": [
    {
     "data": {
      "text/plain": [
       "463"
      ]
     },
     "execution_count": 49,
     "metadata": {},
     "output_type": "execute_result"
    }
   ],
   "source": [
    "num_lines = len(lines)\n",
    "num_lines"
   ]
  },
  {
   "cell_type": "markdown",
   "metadata": {
    "slideshow": {
     "slide_type": "slide"
    }
   },
   "source": [
    "To make a general function to accomplish this, we combine these expressions into one expression with substitution."
   ]
  },
  {
   "cell_type": "code",
   "execution_count": 26,
   "metadata": {
    "collapsed": false,
    "slideshow": {
     "slide_type": "fragment"
    }
   },
   "outputs": [
    {
     "data": {
      "text/plain": [
       "710"
      ]
     },
     "execution_count": 26,
     "metadata": {},
     "output_type": "execute_result"
    }
   ],
   "source": [
    "count_the = lambda clean_str: len([line for line in clean_str.split('\\n') if line.startswith('the ')])\n",
    "\n",
    "# The function we want is a composition of these functions.\n",
    "num_start_with_the = lambda S: count_the(make_lower_case(remove_punc(S)))\n",
    "\n",
    "num_start_with_the(emma)"
   ]
  },
  {
   "cell_type": "markdown",
   "metadata": {
    "slideshow": {
     "slide_type": "slide"
    }
   },
   "source": [
    "## Problem 2. Find the shortest non-blank line (including punctuation and whitespace).\n",
    "\n",
    "**note** again I am naively ignoring titles and chapters (you can't)\n",
    "\n",
    "**note 2** don't remove punctuation\n",
    "\n",
    "The general process is\n",
    "\n",
    "1. split by lines\n",
    "2. replace the lines with their length\n",
    "3. Use ``min`` to get the smallest length"
   ]
  },
  {
   "cell_type": "code",
   "execution_count": 27,
   "metadata": {
    "collapsed": false,
    "slideshow": {
     "slide_type": "slide"
    }
   },
   "outputs": [
    {
     "data": {
      "text/plain": [
       "['[Emma by Jane Austen 1816]',\n",
       " '',\n",
       " 'VOLUME I',\n",
       " '',\n",
       " 'CHAPTER I',\n",
       " '',\n",
       " '',\n",
       " 'Emma Woodhouse, handsome, clever, and rich, with a comfortable home',\n",
       " 'and happy disposition, seemed to unite some of the best blessings',\n",
       " 'of existence; and had lived nearly twenty-one years in the world']"
      ]
     },
     "execution_count": 27,
     "metadata": {},
     "output_type": "execute_result"
    }
   ],
   "source": [
    "lines = emma.split('\\n')\n",
    "lines[:10]"
   ]
  },
  {
   "cell_type": "code",
   "execution_count": 29,
   "metadata": {
    "collapsed": false,
    "slideshow": {
     "slide_type": "slide"
    }
   },
   "outputs": [
    {
     "data": {
      "text/plain": [
       "[26, 0, 8, 0, 9, 0, 0, 67, 65, 64]"
      ]
     },
     "execution_count": 29,
     "metadata": {},
     "output_type": "execute_result"
    }
   ],
   "source": [
    "lengths = [len(line) for line in lines]\n",
    "lengths[:10]"
   ]
  },
  {
   "cell_type": "code",
   "execution_count": 31,
   "metadata": {
    "collapsed": false,
    "slideshow": {
     "slide_type": "fragment"
    }
   },
   "outputs": [
    {
     "data": {
      "text/plain": [
       "[26, 8, 9, 67, 65, 64, 40, 65, 67, 64]"
      ]
     },
     "execution_count": 31,
     "metadata": {},
     "output_type": "execute_result"
    }
   ],
   "source": [
    "# I have decided to skip blank lines\n",
    "non_blank = [num for num in lengths if num > 0]\n",
    "non_blank[:10]"
   ]
  },
  {
   "cell_type": "code",
   "execution_count": 33,
   "metadata": {
    "collapsed": false,
    "slideshow": {
     "slide_type": "fragment"
    }
   },
   "outputs": [
    {
     "data": {
      "text/plain": [
       "5"
      ]
     },
     "execution_count": 33,
     "metadata": {},
     "output_type": "execute_result"
    }
   ],
   "source": [
    "shortest = min(non_blank)\n",
    "shortest"
   ]
  },
  {
   "cell_type": "markdown",
   "metadata": {
    "collapsed": true,
    "slideshow": {
     "slide_type": "slide"
    }
   },
   "source": [
    "Now combine them all into one expression"
   ]
  },
  {
   "cell_type": "code",
   "execution_count": 37,
   "metadata": {
    "collapsed": false,
    "slideshow": {
     "slide_type": "fragment"
    }
   },
   "outputs": [
    {
     "data": {
      "text/plain": [
       "5"
      ]
     },
     "execution_count": 37,
     "metadata": {},
     "output_type": "execute_result"
    }
   ],
   "source": [
    "shortest = min([len(line) for line in emma.split('\\n') if len(line) > 0])\n",
    "shortest"
   ]
  },
  {
   "cell_type": "markdown",
   "metadata": {
    "collapsed": true,
    "slideshow": {
     "slide_type": "fragment"
    }
   },
   "source": [
    "And package in a functions"
   ]
  },
  {
   "cell_type": "code",
   "execution_count": 39,
   "metadata": {
    "collapsed": false,
    "slideshow": {
     "slide_type": "fragment"
    }
   },
   "outputs": [
    {
     "data": {
      "text/plain": [
       "5"
      ]
     },
     "execution_count": 39,
     "metadata": {},
     "output_type": "execute_result"
    }
   ],
   "source": [
    "shortest = lambda S: min([len(line) for line in S.split('\\n') if len(line) > 0])\n",
    "shortest(emma)"
   ]
  }
 ],
 "metadata": {
  "anaconda-cloud": {},
  "celltoolbar": "Slideshow",
  "kernelspec": {
   "display_name": "Python [Root]",
   "language": "python",
   "name": "Python [Root]"
  },
  "language_info": {
   "codemirror_mode": {
    "name": "ipython",
    "version": 3
   },
   "file_extension": ".py",
   "mimetype": "text/x-python",
   "name": "python",
   "nbconvert_exporter": "python",
   "pygments_lexer": "ipython3",
   "version": "3.5.2"
  }
 },
 "nbformat": 4,
 "nbformat_minor": 2
}
