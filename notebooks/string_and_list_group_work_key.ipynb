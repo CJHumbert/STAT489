{
 "cells": [
  {
   "cell_type": "markdown",
   "metadata": {},
   "source": [
    "# Strings and Lists Group Work\n",
    "\n",
    "Complete each of the following problems and submit one completed notebook for each group.\n",
    "\n",
    "For each problem, restrict your solution to lambda functions, list comprehensions, the `split` and `join` string methods (and no others), and the `len` function."
   ]
  },
  {
   "cell_type": "markdown",
   "metadata": {},
   "source": [
    "<font color=\"red\">**Problem 1**.</font> Do each of the following:\n",
    "\n",
    "1. Install the `nltk` library by running the following form the command line.\n",
    "    > pip install nltk\n",
    "2. Use `ntlk.download()` to download `gutenberg` from the Corpus tab.\n",
    "3. Import the text *"
   ]
  },
  {
   "cell_type": "code",
   "execution_count": 1,
   "metadata": {
    "collapsed": false
   },
   "outputs": [],
   "source": [
    "# Restart the kernel!\n",
    "# You will need to use the separate window to select and download gutenberg\n",
    "# NOTE - uncomment and run the following lines if the import in the next cell fails.\n",
    "# import nltk\n",
    "# nltk.download()"
   ]
  },
  {
   "cell_type": "code",
   "execution_count": 2,
   "metadata": {
    "collapsed": false
   },
   "outputs": [],
   "source": [
    "from nltk.corpus import gutenberg"
   ]
  },
  {
   "cell_type": "code",
   "execution_count": 3,
   "metadata": {
    "collapsed": false
   },
   "outputs": [
    {
     "data": {
      "text/plain": [
       "['austen-emma.txt',\n",
       " 'austen-persuasion.txt',\n",
       " 'austen-sense.txt',\n",
       " 'bible-kjv.txt',\n",
       " 'blake-poems.txt',\n",
       " 'bryant-stories.txt',\n",
       " 'burgess-busterbrown.txt',\n",
       " 'carroll-alice.txt',\n",
       " 'chesterton-ball.txt',\n",
       " 'chesterton-brown.txt',\n",
       " 'chesterton-thursday.txt',\n",
       " 'edgeworth-parents.txt',\n",
       " 'melville-moby_dick.txt',\n",
       " 'milton-paradise.txt',\n",
       " 'shakespeare-caesar.txt',\n",
       " 'shakespeare-hamlet.txt',\n",
       " 'shakespeare-macbeth.txt',\n",
       " 'whitman-leaves.txt']"
      ]
     },
     "execution_count": 3,
     "metadata": {},
     "output_type": "execute_result"
    }
   ],
   "source": [
    "gutenberg.fileids()"
   ]
  },
  {
   "cell_type": "code",
   "execution_count": 5,
   "metadata": {
    "collapsed": false
   },
   "outputs": [],
   "source": [
    "sense = gutenberg.raw('austen-sense.txt')"
   ]
  },
  {
   "cell_type": "code",
   "execution_count": 6,
   "metadata": {
    "collapsed": false
   },
   "outputs": [
    {
     "data": {
      "text/plain": [
       "\"[Sense and Sensibility by Jane Austen 1811]\\n\\nCHAPTER 1\\n\\n\\nThe family of Dashwood had long been settled in Sussex.\\nTheir estate was large, and their residence was at Norland Park,\\nin the centre of their property, where, for many generations,\\nthey had lived in so respectable a manner as to engage\\nthe general good opinion of their surrounding acquaintance.\\nThe late owner of this estate was a single man, who lived\\nto a very advanced age, and who for many years of his life,\\nhad a constant companion and housekeeper in his sister.\\nBut her death, which happened ten years before his own,\\nproduced a great alteration in his home; for to supply\\nher loss, he invited and received into his house the family\\nof his nephew Mr. Henry Dashwood, the legal inheritor\\nof the Norland estate, and the person to whom he intended\\nto bequeath it.  In the society of his nephew and niece,\\nand their children, the old Gentleman's days were\\ncomfortably spent.  His attachment to them all increased.\\nThe constant attention \""
      ]
     },
     "execution_count": 6,
     "metadata": {},
     "output_type": "execute_result"
    }
   ],
   "source": [
    "sense[:1000]"
   ]
  },
  {
   "cell_type": "code",
   "execution_count": 7,
   "metadata": {
    "collapsed": false
   },
   "outputs": [
    {
     "data": {
      "text/plain": [
       "'in surviving her loss--he always retained that decided\\nregard which interested him in every thing that befell her,\\nand made her his secret standard of perfection in woman;--\\nand many a rising beauty would be slighted by him in\\nafter-days as bearing no comparison with Mrs. Brandon.\\n\\nMrs. Dashwood was prudent enough to remain at the cottage,\\nwithout attempting a removal to Delaford; and fortunately for\\nSir John and Mrs. Jennings, when Marianne was taken from them,\\nMargaret had reached an age highly suitable for dancing,\\nand not very ineligible for being supposed to have a lover.\\n\\nBetween Barton and Delaford, there was that constant\\ncommunication which strong family affection would\\nnaturally dictate;--and among the merits and the happiness\\nof Elinor and Marianne, let it not be ranked as the least\\nconsiderable, that though sisters, and living almost within\\nsight of each other, they could live without disagreement\\nbetween themselves, or producing coolness between their husbands.\\n\\nTHE END\\n\\n\\n'"
      ]
     },
     "execution_count": 7,
     "metadata": {},
     "output_type": "execute_result"
    }
   ],
   "source": [
    "sense[-1000:]"
   ]
  },
  {
   "cell_type": "markdown",
   "metadata": {},
   "source": [
    "<font color=\"red\">**Problem 2**:</font> Write functions to perform each of the following tasks.\n",
    "\n",
    "1. Remove the title from the start of the novel.\n",
    "    1. You can use a `split` plus an slice.\n",
    "2. Remove the chapter titles and THE END.\n",
    "    2. I suggest splitting by '\\n' and filtering.  Don't forget to return a string not a list.\n",
    "3. Remove all punctuation from the title.\n",
    "    1. Example in the text\n",
    "4. Turn all whitespace into spaces (i.e. the `' '` character)\n",
    "    1. Example in the text\n",
    "    5. Write a function that compose\n",
    "5. Write a function `clean_text` that composes these function.  Be sure to get the order correct!\n",
    "6. Apply `clean_text` to Sense and Sensibility."
   ]
  },
  {
   "cell_type": "markdown",
   "metadata": {},
   "source": [
    "#### Step 1 - drop title\n",
    "\n",
    "Here I will illustrate the design process by doing the following:\n",
    "\n",
    "1. Incrementally processing the text with a series of expressions, always testing by looking at the current output.\n",
    "2. Once I have the desired result, I compose the expressions.  Again test to make sure it works.\n",
    "3. Generalize the process with a `lambda`, again testing and saving the current progress."
   ]
  },
  {
   "cell_type": "code",
   "execution_count": 50,
   "metadata": {
    "collapsed": false,
    "scrolled": true
   },
   "outputs": [
    {
     "name": "stdout",
     "output_type": "stream",
     "text": [
      "Help on function drop in module toolz.itertoolz:\n",
      "\n",
      "drop(n, seq)\n",
      "    The sequence following the first n elements\n",
      "    \n",
      "    >>> list(drop(2, [10, 20, 30, 40, 50]))\n",
      "    [30, 40, 50]\n",
      "    \n",
      "    See Also:\n",
      "        take\n",
      "        tail\n",
      "\n"
     ]
    }
   ],
   "source": [
    "from toolz import drop\n",
    "# The function drop can be used to \"throw away\" the first n entries in a sequence\n",
    "help(drop)"
   ]
  },
  {
   "cell_type": "code",
   "execution_count": 51,
   "metadata": {
    "collapsed": false
   },
   "outputs": [
    {
     "data": {
      "text/plain": [
       "'[Sense and Sensibility by Jane Austen 1811'"
      ]
     },
     "execution_count": 51,
     "metadata": {},
     "output_type": "execute_result"
    }
   ],
   "source": [
    "# Let's work though it step by step\n",
    "# 1. Notice that the title portion ends in ], so we use split to cut off this part\n",
    "s = sense.split(']')\n",
    "s[0]"
   ]
  },
  {
   "cell_type": "code",
   "execution_count": 52,
   "metadata": {
    "collapsed": false
   },
   "outputs": [
    {
     "data": {
      "text/plain": [
       "\"\\n\\nCHAPTER 1\\n\\n\\nThe family of Dashwood had long been settled in Sussex.\\nTheir estate was large, and their residence was at Norland Park,\\nin the centre of their property, where, for many generations,\\nthey had lived in so respectable a manner as to engage\\nthe general good opinion of their surrounding acquaintance.\\nThe late owner of this estate was a single man, who lived\\nto a very advanced age, and who for many years of his life,\\nhad a constant companion and housekeeper in his sister.\\nBut her death, which happened ten years before his own,\\nproduced a great alteration in his home; for to supply\\nher loss, he invited and received into his house the family\\nof his nephew Mr. Henry Dashwood, the legal inheritor\\nof the Norland estate, and the person to whom he intended\\nto bequeath it.  In the society of his nephew and niece,\\nand their children, the old Gentleman's days were\\ncomfortably spent.  His attachment to them all increased.\\nThe constant attention of Mr. and Mrs. Henry Dashwood\\nto his wishe\""
      ]
     },
     "execution_count": 52,
     "metadata": {},
     "output_type": "execute_result"
    }
   ],
   "source": [
    "# Now we want to drop this part, then join the string back together.\n",
    "s = ''.join(drop(1, s))\n",
    "s[:1000]"
   ]
  },
  {
   "cell_type": "code",
   "execution_count": 53,
   "metadata": {
    "collapsed": false
   },
   "outputs": [
    {
     "data": {
      "text/plain": [
       "\"\\n\\nCHAPTER 1\\n\\n\\nThe family of Dashwood had long been settled in Sussex.\\nTheir estate was large, and their residence was at Norland Park,\\nin the centre of their property, where, for many generations,\\nthey had lived in so respectable a manner as to engage\\nthe general good opinion of their surrounding acquaintance.\\nThe late owner of this estate was a single man, who lived\\nto a very advanced age, and who for many years of his life,\\nhad a constant companion and housekeeper in his sister.\\nBut her death, which happened ten years before his own,\\nproduced a great alteration in his home; for to supply\\nher loss, he invited and received into his house the family\\nof his nephew Mr. Henry Dashwood, the legal inheritor\\nof the Norland estate, and the person to whom he intended\\nto bequeath it.  In the society of his nephew and niece,\\nand their children, the old Gentleman's days were\\ncomfortably spent.  His attachment to them all increased.\\nThe constant attention of Mr. and Mrs. Henry Dashwood\\nto his wishe\""
      ]
     },
     "execution_count": 53,
     "metadata": {},
     "output_type": "execute_result"
    }
   ],
   "source": [
    "# Good!  Now compose these expression using substitution.\n",
    "# Be sure to test this again.\n",
    "s = ''.join(drop(1, sense.split(']')))\n",
    "s[:1000]"
   ]
  },
  {
   "cell_type": "code",
   "execution_count": 54,
   "metadata": {
    "collapsed": false
   },
   "outputs": [
    {
     "data": {
      "text/plain": [
       "\"\\n\\nCHAPTER 1\\n\\n\\nThe family of Dashwood had long been settled in Sussex.\\nTheir estate was large, and their residence was at Norland Park,\\nin the centre of their property, where, for many generations,\\nthey had lived in so respectable a manner as to engage\\nthe general good opinion of their surrounding acquaintance.\\nThe late owner of this estate was a single man, who lived\\nto a very advanced age, and who for many years of his life,\\nhad a constant companion and housekeeper in his sister.\\nBut her death, which happened ten years before his own,\\nproduced a great alteration in his home; for to supply\\nher loss, he invited and received into his house the family\\nof his nephew Mr. Henry Dashwood, the legal inheritor\\nof the Norland estate, and the person to whom he intended\\nto bequeath it.  In the society of his nephew and niece,\\nand their children, the old Gentleman's days were\\ncomfortably spent.  His attachment to them all increased.\\nThe constant attention of Mr. and Mrs. Henry Dashwood\\nto his wishe\""
      ]
     },
     "execution_count": 54,
     "metadata": {},
     "output_type": "execute_result"
    }
   ],
   "source": [
    "# Final step is to generalize this expression with a lambda\n",
    "remove_title = lambda s: ''.join(drop(1, sense.split(']')))\n",
    "# Again, test to make sure it works.  Here we save the results for later use.\n",
    "sense_without_title = remove_title(sense)\n",
    "sense_without_title[:1000]"
   ]
  },
  {
   "cell_type": "markdown",
   "metadata": {
    "collapsed": true
   },
   "source": [
    "#### Step 2 - Chapter Titles.\n",
    "\n",
    "We could use the same incremental process from **step 1** here, but I will speed up the presentation.  Here are my main thoughts on removing the chapter titles.\n",
    "\n",
    "1. Chapter titles and surrounded by `'\\n'`\n",
    "    1. takeaway: split on `'\\n'`\n",
    "    2. If I split on `'\\n'` then I should rejoin on `'\\n'`\n",
    "2. Chapter titles start with `'CHA'`, which should distinguish them from other lines.\n",
    "    1. takeaway: filter on strings starting with `'CHA'`"
   ]
  },
  {
   "cell_type": "code",
   "execution_count": 55,
   "metadata": {
    "collapsed": false
   },
   "outputs": [
    {
     "data": {
      "text/plain": [
       "\"\\n\\n\\n\\nThe family of Dashwood had long been settled in Sussex.\\nTheir estate was large, and their residence was at Norland Park,\\nin the centre of their property, where, for many generations,\\nthey had lived in so respectable a manner as to engage\\nthe general good opinion of their surrounding acquaintance.\\nThe late owner of this estate was a single man, who lived\\nto a very advanced age, and who for many years of his life,\\nhad a constant companion and housekeeper in his sister.\\nBut her death, which happened ten years before his own,\\nproduced a great alteration in his home; for to supply\\nher loss, he invited and received into his house the family\\nof his nephew Mr. Henry Dashwood, the legal inheritor\\nof the Norland estate, and the person to whom he intended\\nto bequeath it.  In the society of his nephew and niece,\\nand their children, the old Gentleman's days were\\ncomfortably spent.  His attachment to them all increased.\\nThe constant attention of Mr. and Mrs. Henry Dashwood\\nto his wishes, which p\""
      ]
     },
     "execution_count": 55,
     "metadata": {},
     "output_type": "execute_result"
    }
   ],
   "source": [
    "# Try it with an expression first\n",
    "sense_without_chapters = '\\n'.join([line for line in sense_without_title.split('\\n') if not line.startswith('CHA')])\n",
    "sense_without_chapters[:1000]"
   ]
  },
  {
   "cell_type": "code",
   "execution_count": 56,
   "metadata": {
    "collapsed": false
   },
   "outputs": [
    {
     "data": {
      "text/plain": [
       "\"\\n\\n\\n\\nThe family of Dashwood had long been settled in Sussex.\\nTheir estate was large, and their residence was at Norland Park,\\nin the centre of their property, where, for many generations,\\nthey had lived in so respectable a manner as to engage\\nthe general good opinion of their surrounding acquaintance.\\nThe late owner of this estate was a single man, who lived\\nto a very advanced age, and who for many years of his life,\\nhad a constant companion and housekeeper in his sister.\\nBut her death, which happened ten years before his own,\\nproduced a great alteration in his home; for to supply\\nher loss, he invited and received into his house the family\\nof his nephew Mr. Henry Dashwood, the legal inheritor\\nof the Norland estate, and the person to whom he intended\\nto bequeath it.  In the society of his nephew and niece,\\nand their children, the old Gentleman's days were\\ncomfortably spent.  His attachment to them all increased.\\nThe constant attention of Mr. and Mrs. Henry Dashwood\\nto his wishes, which p\""
      ]
     },
     "execution_count": 56,
     "metadata": {},
     "output_type": "execute_result"
    }
   ],
   "source": [
    "# Generalize with a lambda and retest, saving the result for later.\n",
    "remove_chapters = lambda s: '\\n'.join([line \n",
    "                                       for line in sense_without_title.split('\\n') \n",
    "                                       if not line.startswith('CHA')])\n",
    "sense_without_chapters = remove_chapters(sense_without_title)\n",
    "sense_without_chapters[:1000]"
   ]
  },
  {
   "cell_type": "code",
   "execution_count": 57,
   "metadata": {
    "collapsed": false
   },
   "outputs": [
    {
     "data": {
      "text/plain": [
       "'in surviving her loss--he always retained that decided\\nregard which interested him in every thing that befell her,\\nand made her his secret standard of perfection in woman;--\\nand many a rising beauty would be slighted by him in\\nafter-days as bearing no comparison with Mrs. Brandon.\\n\\nMrs. Dashwood was prudent enough to remain at the cottage,\\nwithout attempting a removal to Delaford; and fortunately for\\nSir John and Mrs. Jennings, when Marianne was taken from them,\\nMargaret had reached an age highly suitable for dancing,\\nand not very ineligible for being supposed to have a lover.\\n\\nBetween Barton and Delaford, there was that constant\\ncommunication which strong family affection would\\nnaturally dictate;--and among the merits and the happiness\\nof Elinor and Marianne, let it not be ranked as the least\\nconsiderable, that though sisters, and living almost within\\nsight of each other, they could live without disagreement\\nbetween themselves, or producing coolness between their husbands.\\n\\nTHE END\\n\\n\\n'"
      ]
     },
     "execution_count": 57,
     "metadata": {},
     "output_type": "execute_result"
    }
   ],
   "source": [
    "# Now to look at the end (THE END)\n",
    "# We can get this part by adding to the filter of the last function.\n",
    "sense_without_chapters[-1000:]"
   ]
  },
  {
   "cell_type": "code",
   "execution_count": 58,
   "metadata": {
    "collapsed": false
   },
   "outputs": [
    {
     "data": {
      "text/plain": [
       "\"\\n\\n\\n\\nThe family of Dashwood had long been settled in Sussex.\\nTheir estate was large, and their residence was at Norland Park,\\nin the centre of their property, where, for many generations,\\nthey had lived in so respectable a manner as to engage\\nthe general good opinion of their surrounding acquaintance.\\nThe late owner of this estate was a single man, who lived\\nto a very advanced age, and who for many years of his life,\\nhad a constant companion and housekeeper in his sister.\\nBut her death, which happened ten years before his own,\\nproduced a great alteration in his home; for to supply\\nher loss, he invited and received into his house the family\\nof his nephew Mr. Henry Dashwood, the legal inheritor\\nof the Norland estate, and the person to whom he intended\\nto bequeath it.  In the society of his nephew and niece,\\nand their children, the old Gentleman's days were\\ncomfortably spent.  His attachment to them all increased.\\nThe constant attention of Mr. and Mrs. Henry Dashwood\\nto his wishes, which p\""
      ]
     },
     "execution_count": 58,
     "metadata": {},
     "output_type": "execute_result"
    }
   ],
   "source": [
    "# Since the filter is going to get complicated, let's make some helper functions to clean things up\n",
    "# These will be boolean functions for testing if a line is a chapter or the end\n",
    "is_chapter = lambda line: line.startswith('CHA')\n",
    "is_the_end = lambda line: line.startswith('THE END')\n",
    "keep_line = lambda line: not is_chapter(line) and not is_the_end(line)\n",
    "remove_chapters = lambda s: '\\n'.join([line \n",
    "                                       for line in sense_without_title.split('\\n') \n",
    "                                       if keep_line(line)])\n",
    "sense_without_chapters = remove_chapters(sense_without_title)\n",
    "sense_without_chapters[:1000]"
   ]
  },
  {
   "cell_type": "code",
   "execution_count": 59,
   "metadata": {
    "collapsed": false,
    "scrolled": true
   },
   "outputs": [
    {
     "data": {
      "text/plain": [
       "'ivility\\nin surviving her loss--he always retained that decided\\nregard which interested him in every thing that befell her,\\nand made her his secret standard of perfection in woman;--\\nand many a rising beauty would be slighted by him in\\nafter-days as bearing no comparison with Mrs. Brandon.\\n\\nMrs. Dashwood was prudent enough to remain at the cottage,\\nwithout attempting a removal to Delaford; and fortunately for\\nSir John and Mrs. Jennings, when Marianne was taken from them,\\nMargaret had reached an age highly suitable for dancing,\\nand not very ineligible for being supposed to have a lover.\\n\\nBetween Barton and Delaford, there was that constant\\ncommunication which strong family affection would\\nnaturally dictate;--and among the merits and the happiness\\nof Elinor and Marianne, let it not be ranked as the least\\nconsiderable, that though sisters, and living almost within\\nsight of each other, they could live without disagreement\\nbetween themselves, or producing coolness between their husbands.\\n\\n\\n\\n'"
      ]
     },
     "execution_count": 59,
     "metadata": {},
     "output_type": "execute_result"
    }
   ],
   "source": [
    "sense_without_chapters[-1000:]"
   ]
  },
  {
   "cell_type": "markdown",
   "metadata": {},
   "source": [
    "#### Step 3 - Removing punctuation\n",
    "\n",
    "Our primary interest here is to answer questions about the words in the test.  Consequently, we want to separate words as cleanly as possible.\n",
    "\n",
    "Some notes:\n",
    "\n",
    "1. If I replace all punctuation with empty strings, hyphenated words will become one word.\n",
    "    1. I should probaby replace punctuation with spaces.\n",
    "2. If I replace apostrophes with space, then contractions become two words\n",
    "    1. I should replace apostrophes with the empty string.\n",
    "3. So we will use the following sequence of steps.\n",
    "    1. replace `\"'\"` with `\"\"`\n",
    "    2. replace all other punctuation with `\" \"` "
   ]
  },
  {
   "cell_type": "code",
   "execution_count": 31,
   "metadata": {
    "collapsed": false
   },
   "outputs": [
    {
     "data": {
      "text/plain": [
       "'I cant believe it'"
      ]
     },
     "execution_count": 31,
     "metadata": {},
     "output_type": "execute_result"
    }
   ],
   "source": [
    "remove_apost = lambda s: ''.join(['' if ch is \"'\" else ch for ch in s])\n",
    "remove_apost(\"I can't believe it\")"
   ]
  },
  {
   "cell_type": "code",
   "execution_count": 33,
   "metadata": {
    "collapsed": false
   },
   "outputs": [
    {
     "data": {
      "text/plain": [
       "'I love Python          '"
      ]
     },
     "execution_count": 33,
     "metadata": {},
     "output_type": "execute_result"
    }
   ],
   "source": [
    "from string import punctuation as punc\n",
    "remove_other_punc = lambda s: \"\".join([\" \" if ch in punc else ch for ch in s])\n",
    "remove_other_punc(\"I love Python!?.!!%$@#@\")"
   ]
  },
  {
   "cell_type": "code",
   "execution_count": 35,
   "metadata": {
    "collapsed": false
   },
   "outputs": [
    {
     "data": {
      "text/plain": [
       "'I cant believe how much I love Python                 '"
      ]
     },
     "execution_count": 35,
     "metadata": {},
     "output_type": "execute_result"
    }
   ],
   "source": [
    "# Now compose the function (in the right order)\n",
    "remove_punc = lambda s: remove_other_punc(remove_apost(s))\n",
    "remove_punc(\"I can't believe how much I love Python!!???!!...!!%$@%^\")"
   ]
  },
  {
   "cell_type": "markdown",
   "metadata": {},
   "source": [
    "#### Remove whitespace\n",
    "\n",
    "This should be easy!  We can use the string method `isspace` as a filter."
   ]
  },
  {
   "cell_type": "code",
   "execution_count": 38,
   "metadata": {
    "collapsed": false
   },
   "outputs": [
    {
     "data": {
      "text/plain": [
       "'Death to all whitespace'"
      ]
     },
     "execution_count": 38,
     "metadata": {},
     "output_type": "execute_result"
    }
   ],
   "source": [
    "from string import whitespace as ws\n",
    "remove_whitespace = lambda s: ''.join([' ' if ch.isspace() else ch for ch in s])\n",
    "remove_whitespace(\"Death\\nto\\tall whitespace\")"
   ]
  },
  {
   "cell_type": "markdown",
   "metadata": {},
   "source": [
    "#### Compose into one function (to rule them all!)"
   ]
  },
  {
   "cell_type": "code",
   "execution_count": 39,
   "metadata": {
    "collapsed": false
   },
   "outputs": [
    {
     "data": {
      "text/plain": [
       "'    The family of Dashwood had long been settled in Sussex  Their estate was large  and their residence was at Norland Park  in the centre of their property  where  for many generations  they had lived in so respectable a manner as to engage the general good opinion of their surrounding acquaintance  The late owner of this estate was a single man  who lived to a very advanced age  and who for many years of his life  had a constant companion and housekeeper in his sister  But her death  which happened ten years before his own  produced a great alteration in his home  for to supply her loss  he invited and received into his house the family of his nephew Mr  Henry Dashwood  the legal inheritor of the Norland estate  and the person to whom he intended to bequeath it   In the society of his nephew and niece  and their children  the old Gentlemans days were comfortably spent   His attachment to them all increased  The constant attention of Mr  and Mrs  Henry Dashwood to his wishes  which pr'"
      ]
     },
     "execution_count": 39,
     "metadata": {},
     "output_type": "execute_result"
    }
   ],
   "source": [
    "clean_text = lambda s: remove_whitespace(remove_punc(remove_chapters(remove_title(s))))\n",
    "clean_sense =  clean_text(sense)\n",
    "clean_sense[:1000]"
   ]
  },
  {
   "cell_type": "markdown",
   "metadata": {},
   "source": [
    "<font color=\"red\">**Problem 3**:</font> Use `len`, `sum` and list comprehensions to solve each of the following problems."
   ]
  },
  {
   "cell_type": "markdown",
   "metadata": {},
   "source": [
    "<font color=\"red\">1.What is the average word length in Sense and Sensibility?</font>"
   ]
  },
  {
   "cell_type": "code",
   "execution_count": 42,
   "metadata": {
    "collapsed": false
   },
   "outputs": [
    {
     "data": {
      "text/plain": [
       "['the',\n",
       " 'family',\n",
       " 'of',\n",
       " 'dashwood',\n",
       " 'had',\n",
       " 'long',\n",
       " 'been',\n",
       " 'settled',\n",
       " 'in',\n",
       " 'sussex',\n",
       " 'their',\n",
       " 'estate',\n",
       " 'was',\n",
       " 'large',\n",
       " 'and',\n",
       " 'their',\n",
       " 'residence',\n",
       " 'was',\n",
       " 'at',\n",
       " 'norland']"
      ]
     },
     "execution_count": 42,
     "metadata": {},
     "output_type": "execute_result"
    }
   ],
   "source": [
    "words = clean_sense.lower().split()\n",
    "words[:20]"
   ]
  },
  {
   "cell_type": "code",
   "execution_count": 43,
   "metadata": {
    "collapsed": false
   },
   "outputs": [
    {
     "data": {
      "text/plain": [
       "4.378170471232146"
      ]
     },
     "execution_count": 43,
     "metadata": {},
     "output_type": "execute_result"
    }
   ],
   "source": [
    "mean = lambda L: sum(L)/len(L)\n",
    "avg_word_len = mean([len(word) for word in words])\n",
    "avg_word_len"
   ]
  },
  {
   "cell_type": "markdown",
   "metadata": {},
   "source": [
    "<font color=\"red\">2.How many words in the novel are 7 characters or longer?</font>"
   ]
  },
  {
   "cell_type": "code",
   "execution_count": 47,
   "metadata": {
    "collapsed": false
   },
   "outputs": [
    {
     "data": {
      "text/plain": [
       "22817"
      ]
     },
     "execution_count": 47,
     "metadata": {},
     "output_type": "execute_result"
    }
   ],
   "source": [
    "# There are two approaches to counting with comprehensions\n",
    "# Answering the question with len and a filter\n",
    "num_7_or_longer = len([w for w in words if len(w) >= 7])\n",
    "num_7_or_longer"
   ]
  },
  {
   "cell_type": "code",
   "execution_count": 48,
   "metadata": {
    "collapsed": false
   },
   "outputs": [
    {
     "data": {
      "text/plain": [
       "22817"
      ]
     },
     "execution_count": 48,
     "metadata": {},
     "output_type": "execute_result"
    }
   ],
   "source": [
    "# Answering the question with sum and boolean values\n",
    "num_7_or_longer = sum([len(w) >= 7 for w in words])\n",
    "num_7_or_longer"
   ]
  },
  {
   "cell_type": "markdown",
   "metadata": {},
   "source": [
    "<font color=\"red\">3.What is the maximum number of characters in a word in the novel?</font>"
   ]
  },
  {
   "cell_type": "code",
   "execution_count": 49,
   "metadata": {
    "collapsed": false
   },
   "outputs": [
    {
     "data": {
      "text/plain": [
       "'disinterestedness'"
      ]
     },
     "execution_count": 49,
     "metadata": {},
     "output_type": "execute_result"
    }
   ],
   "source": [
    "# We can use a key function to ease this process\n",
    "compare_by_len = lambda word: len(word)\n",
    "# If we use this as key, then max will compare words by length!  Cool!\n",
    "max_word_length = max(words, key=compare_by_len)\n",
    "max_word_length"
   ]
  },
  {
   "cell_type": "code",
   "execution_count": null,
   "metadata": {
    "collapsed": true
   },
   "outputs": [],
   "source": [
    "# What a word!"
   ]
  }
 ],
 "metadata": {
  "anaconda-cloud": {},
  "kernelspec": {
   "display_name": "Python 3",
   "language": "python",
   "name": "python3"
  },
  "language_info": {
   "codemirror_mode": {
    "name": "ipython",
    "version": 3
   },
   "file_extension": ".py",
   "mimetype": "text/x-python",
   "name": "python",
   "nbconvert_exporter": "python",
   "pygments_lexer": "ipython3",
   "version": "3.5.2"
  }
 },
 "nbformat": 4,
 "nbformat_minor": 2
}
