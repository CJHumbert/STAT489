{
 "cells": [
  {
   "cell_type": "markdown",
   "metadata": {},
   "source": [
    "## Tables and Dictionaries"
   ]
  },
  {
   "cell_type": "markdown",
   "metadata": {},
   "source": [
    "## `unzip` is the inverse of `zip`"
   ]
  },
  {
   "cell_type": "markdown",
   "metadata": {},
   "source": [
    "### `unzip` a table = transpose"
   ]
  },
  {
   "cell_type": "code",
   "execution_count": 64,
   "metadata": {
    "collapsed": false
   },
   "outputs": [
    {
     "data": {
      "text/plain": [
       "[('name', 'Ann', 'Bob', 'Alice'),\n",
       " ('hours', '42', '55', '12'),\n",
       " ('rate', '37.5', '7.5', '225')]"
      ]
     },
     "execution_count": 64,
     "metadata": {},
     "output_type": "execute_result"
    }
   ],
   "source": [
    "# zip is lazy\n",
    "# We use list to force completion here\n",
    "unzip = lambda seq: list(zip(*seq))\n",
    "\n",
    "hours = [['name', 'hours', 'rate'],\n",
    "        ['Ann', '42', '37.5'],\n",
    "        ['Bob', '55', '7.5'],\n",
    "        ['Alice', '12', '225']]\n",
    "transpose = unzip(hours)\n",
    "transpose"
   ]
  },
  {
   "cell_type": "markdown",
   "metadata": {},
   "source": [
    "## Making a column dictionary"
   ]
  },
  {
   "cell_type": "markdown",
   "metadata": {},
   "source": [
    "#### Task: Turn the transpose into a dictionary\n",
    "\n",
    "* header string is key\n",
    "* rest of the list is val"
   ]
  },
  {
   "cell_type": "code",
   "execution_count": 1,
   "metadata": {
    "collapsed": false
   },
   "outputs": [
    {
     "data": {
      "text/plain": [
       "Ellipsis"
      ]
     },
     "execution_count": 1,
     "metadata": {},
     "output_type": "execute_result"
    }
   ],
   "source": [
    "from toolz import get\n",
    "columns = ...\n",
    "columns"
   ]
  },
  {
   "cell_type": "markdown",
   "metadata": {},
   "source": [
    "## Use `first` and `drop` to clean up the code\n",
    "\n",
    "* get(0, col):col[1:] is obtuse\n",
    "* use `first` and `drop`"
   ]
  },
  {
   "cell_type": "code",
   "execution_count": 17,
   "metadata": {
    "collapsed": false
   },
   "outputs": [
    {
     "name": "stdout",
     "output_type": "stream",
     "text": [
      "Help on function first in module toolz.itertoolz:\n",
      "\n",
      "first(seq)\n",
      "    The first element in a sequence\n",
      "    \n",
      "    >>> first('ABC')\n",
      "    'A'\n",
      "\n"
     ]
    }
   ],
   "source": [
    "from toolz import first, drop\n",
    "help(first)"
   ]
  },
  {
   "cell_type": "code",
   "execution_count": 24,
   "metadata": {
    "collapsed": false
   },
   "outputs": [
    {
     "name": "stdout",
     "output_type": "stream",
     "text": [
      "Help on function drop in module toolz.itertoolz:\n",
      "\n",
      "drop(n, seq)\n",
      "    The sequence following the first n elements\n",
      "    \n",
      "    >>> list(drop(2, [10, 20, 30, 40, 50]))\n",
      "    [30, 40, 50]\n",
      "    \n",
      "    See Also:\n",
      "        take\n",
      "        tail\n",
      "\n"
     ]
    }
   ],
   "source": [
    "help(drop)\n",
    "# Note: drop is lazy\n",
    "rest = lambda seq: list(drop(1, seq))"
   ]
  },
  {
   "cell_type": "markdown",
   "metadata": {},
   "source": [
    "### Use `first` and `rest` in place of `get(0,col):col[1:]` "
   ]
  },
  {
   "cell_type": "code",
   "execution_count": 49,
   "metadata": {
    "collapsed": false
   },
   "outputs": [
    {
     "data": {
      "text/plain": [
       "{'hours': ('42', '55', '12'),\n",
       " 'name': ('Ann', 'Bob', 'Alice'),\n",
       " 'rate': ('37.5', '7.5', '225')}"
      ]
     },
     "execution_count": 49,
     "metadata": {},
     "output_type": "execute_result"
    }
   ],
   "source": [
    "columns = {get(0, col):col[1:] for col in transpose}\n",
    "columns"
   ]
  },
  {
   "cell_type": "code",
   "execution_count": 2,
   "metadata": {
    "collapsed": false
   },
   "outputs": [
    {
     "data": {
      "text/plain": [
       "Ellipsis"
      ]
     },
     "execution_count": 2,
     "metadata": {},
     "output_type": "execute_result"
    }
   ],
   "source": [
    "columns = ...\n",
    "columns"
   ]
  },
  {
   "cell_type": "markdown",
   "metadata": {},
   "source": [
    "## Column transformations\n",
    "\n",
    "* Now we can transform a column\n",
    "    * Apply conversion functions\n",
    "    * Perform column operations like Excel"
   ]
  },
  {
   "cell_type": "markdown",
   "metadata": {},
   "source": [
    "### <font color='red'> Task: Change hours to ints</font>"
   ]
  },
  {
   "cell_type": "markdown",
   "metadata": {},
   "source": [
    "#### Use `get` to get the hours column"
   ]
  },
  {
   "cell_type": "code",
   "execution_count": null,
   "metadata": {
    "collapsed": false
   },
   "outputs": [],
   "source": []
  },
  {
   "cell_type": "markdown",
   "metadata": {},
   "source": [
    "#### Write a list comprehension to convert the hours to ints"
   ]
  },
  {
   "cell_type": "code",
   "execution_count": null,
   "metadata": {
    "collapsed": false,
    "scrolled": true
   },
   "outputs": [],
   "source": []
  },
  {
   "cell_type": "markdown",
   "metadata": {},
   "source": [
    "#### Turn your expression into a function"
   ]
  },
  {
   "cell_type": "code",
   "execution_count": 3,
   "metadata": {
    "collapsed": false,
    "scrolled": true
   },
   "outputs": [
    {
     "data": {
      "text/plain": [
       "Ellipsis"
      ]
     },
     "execution_count": 3,
     "metadata": {},
     "output_type": "execute_result"
    }
   ],
   "source": [
    "col_to_int_col = lambda col_key, col_dict: ...\n",
    "col_to_int_col('hours', columns)"
   ]
  },
  {
   "cell_type": "markdown",
   "metadata": {},
   "source": [
    "#### Use `assoc` and your conversion function to make a new updated dictionary"
   ]
  },
  {
   "cell_type": "code",
   "execution_count": 4,
   "metadata": {
    "collapsed": false
   },
   "outputs": [],
   "source": [
    "from toolz import assoc\n"
   ]
  },
  {
   "cell_type": "markdown",
   "metadata": {},
   "source": [
    "#### Turn your expression into a function"
   ]
  },
  {
   "cell_type": "code",
   "execution_count": 5,
   "metadata": {
    "collapsed": false
   },
   "outputs": [
    {
     "data": {
      "text/plain": [
       "Ellipsis"
      ]
     },
     "execution_count": 5,
     "metadata": {},
     "output_type": "execute_result"
    }
   ],
   "source": [
    "convert_col_to_int = lambda col_key, col_dict: ...\n",
    "convert_col_to_int('hours', columns)"
   ]
  },
  {
   "cell_type": "markdown",
   "metadata": {},
   "source": [
    "### Task: Change rates to floats"
   ]
  },
  {
   "cell_type": "markdown",
   "metadata": {},
   "source": [
    "#### Use `get` to get the rates column"
   ]
  },
  {
   "cell_type": "code",
   "execution_count": null,
   "metadata": {
    "collapsed": false
   },
   "outputs": [],
   "source": []
  },
  {
   "cell_type": "markdown",
   "metadata": {},
   "source": [
    "#### Write a list comprehension to convert the hours to ints"
   ]
  },
  {
   "cell_type": "code",
   "execution_count": null,
   "metadata": {
    "collapsed": false,
    "scrolled": true
   },
   "outputs": [],
   "source": []
  },
  {
   "cell_type": "markdown",
   "metadata": {},
   "source": [
    "#### Turn your expression into a function"
   ]
  },
  {
   "cell_type": "code",
   "execution_count": 6,
   "metadata": {
    "collapsed": false,
    "scrolled": true
   },
   "outputs": [
    {
     "data": {
      "text/plain": [
       "Ellipsis"
      ]
     },
     "execution_count": 6,
     "metadata": {},
     "output_type": "execute_result"
    }
   ],
   "source": [
    "col_to_float_col = lambda col_key, col_dict: ...\n",
    "col_to_float_col('rate', columns)"
   ]
  },
  {
   "cell_type": "markdown",
   "metadata": {},
   "source": [
    "#### Use `assoc` and your conversion function to make a new updated dictionary"
   ]
  },
  {
   "cell_type": "code",
   "execution_count": 7,
   "metadata": {
    "collapsed": false
   },
   "outputs": [],
   "source": [
    "from toolz import assoc\n"
   ]
  },
  {
   "cell_type": "markdown",
   "metadata": {},
   "source": [
    "#### Turn your expression into a function"
   ]
  },
  {
   "cell_type": "code",
   "execution_count": 8,
   "metadata": {
    "collapsed": false
   },
   "outputs": [
    {
     "data": {
      "text/plain": [
       "Ellipsis"
      ]
     },
     "execution_count": 8,
     "metadata": {},
     "output_type": "execute_result"
    }
   ],
   "source": [
    "convert_col_to_float = lambda col_key, col_dict: ...\n",
    "convert_col_to_float('rate', columns)"
   ]
  },
  {
   "cell_type": "markdown",
   "metadata": {},
   "source": [
    "## TIME TO UP OUR GAME!!!\n",
    "\n",
    "Write a few sentences comparing and contrasting `col_to_int_col` and `col_to_float_col`"
   ]
  },
  {
   "cell_type": "markdown",
   "metadata": {},
   "source": []
  },
  {
   "cell_type": "markdown",
   "metadata": {},
   "source": [
    "Write a few sentences comparning `convert_col_to_float` and `convert_col_to_int`"
   ]
  },
  {
   "cell_type": "markdown",
   "metadata": {},
   "source": []
  },
  {
   "cell_type": "markdown",
   "metadata": {},
   "source": [
    "Say some stuff about the DRY principle"
   ]
  },
  {
   "cell_type": "markdown",
   "metadata": {},
   "source": []
  },
  {
   "cell_type": "markdown",
   "metadata": {},
   "source": [
    "### <font color='red'>Task: Write a more general column conversion function</font>"
   ]
  },
  {
   "cell_type": "code",
   "execution_count": 56,
   "metadata": {
    "collapsed": true
   },
   "outputs": [],
   "source": [
    "col_to_float_col = lambda col_key, col_dict: [float(val) for val in get(col_key, col_dict)]\n",
    "col_to_int_col = lambda col_key, col_dict: [int(val) for val in get(col_key, col_dict)]"
   ]
  },
  {
   "cell_type": "code",
   "execution_count": 9,
   "metadata": {
    "collapsed": true
   },
   "outputs": [],
   "source": [
    "col_to_type = lambda convert, col_key, col_dict: ..."
   ]
  },
  {
   "cell_type": "markdown",
   "metadata": {},
   "source": [
    "### <font color='red'>Task: Write a more general convert and update function</font>"
   ]
  },
  {
   "cell_type": "code",
   "execution_count": 58,
   "metadata": {
    "collapsed": true
   },
   "outputs": [],
   "source": [
    "convert_col_to_int = lambda col_key, col_dict: assoc(col_dict, col_key, col_to_int_col(col_key, col_dict))\n",
    "convert_col_to_float = lambda col_key, col_dict: assoc(col_dict, col_key, col_to_float_col(col_key, col_dict))"
   ]
  },
  {
   "cell_type": "code",
   "execution_count": 61,
   "metadata": {
    "collapsed": true
   },
   "outputs": [],
   "source": [
    "convert_col = lambda convert, col_key, col_dict: ..."
   ]
  },
  {
   "cell_type": "code",
   "execution_count": null,
   "metadata": {
    "collapsed": false
   },
   "outputs": [],
   "source": [
    "assert convert_col(int, 'hours', columns) == {'hours': [42, 55, 12], 'name': ['Ann', 'Bob', 'Alice'], 'rate': ['37.5', '7.5', '225']}\n",
    "assert convert_col(float, 'rate', columns) == {'hours': ['42', '55', '12'], 'name': ['Ann', 'Bob', 'Alice'], 'rate': [37.5, 7.5, 225.0]}"
   ]
  },
  {
   "cell_type": "markdown",
   "metadata": {},
   "source": [
    "# TIME TO BLOW YOUR MIND!!!!111!!one!!\n",
    "\n",
    "**Dewey:** *Alright, let's pray. God of ~~Rock~~ Code, thank you for this chance to kick ~~ass~~butt. We are your humble servants, please give us the power to blow people's minds with our high voltage ~~rock~~ code. In your name, we pray. Amen.*"
   ]
  },
  {
   "cell_type": "markdown",
   "metadata": {},
   "source": [
    "### <font color='red'>Task: Write a function to perform multiple conversion</font>\n",
    "\n",
    "* arguments\n",
    "    * conversion dictionary\n",
    "        * keys: col_keys to be converts\n",
    "        * values: conversion functions\n",
    "    * column_dictionary\n",
    "* returns an updated column dictionary"
   ]
  },
  {
   "cell_type": "markdown",
   "metadata": {},
   "source": [
    "#### Write a column conversion function\n",
    "\n",
    "* Arguments\n",
    "    * key\n",
    "    * conversion dictionary\n",
    "    * column \n",
    "* returns\n",
    "* converted column if key in conversion dictionary\n",
    "* original column, if not\n",
    "\n",
    "Hint: Use the `identity` function from `toolz` as the default for `get`"
   ]
  },
  {
   "cell_type": "markdown",
   "metadata": {},
   "source": [
    "#### Verify that `identity` is an identity function\n",
    "\n",
    "* Always returns the unchanged argument"
   ]
  },
  {
   "cell_type": "code",
   "execution_count": null,
   "metadata": {
    "collapsed": true
   },
   "outputs": [],
   "source": [
    "from toolz import identity"
   ]
  },
  {
   "cell_type": "markdown",
   "metadata": {},
   "source": [
    "#### Write a an expression for getting the right function for a key\n",
    "\n",
    "* Use `identity` as the default"
   ]
  },
  {
   "cell_type": "code",
   "execution_count": 12,
   "metadata": {
    "collapsed": false
   },
   "outputs": [],
   "source": [
    "convert_dict = {'hours':int, 'rate':float}\n",
    "\n"
   ]
  },
  {
   "cell_type": "markdown",
   "metadata": {},
   "source": [
    "#### Write an expression that gets and applys the conversion function to the column"
   ]
  },
  {
   "cell_type": "code",
   "execution_count": null,
   "metadata": {
    "collapsed": false
   },
   "outputs": [],
   "source": [
    "key = 'hours'\n",
    "col = get(key, columns)\n",
    "func = ...\n",
    "return_value = ...\n",
    "return_value"
   ]
  },
  {
   "cell_type": "markdown",
   "metadata": {},
   "source": [
    "#### Compose func and return_value expressions into one expression"
   ]
  },
  {
   "cell_type": "code",
   "execution_count": null,
   "metadata": {
    "collapsed": false
   },
   "outputs": [],
   "source": []
  },
  {
   "cell_type": "markdown",
   "metadata": {},
   "source": [
    "#### Convert the last expression into a function"
   ]
  },
  {
   "cell_type": "code",
   "execution_count": 14,
   "metadata": {
    "collapsed": true
   },
   "outputs": [],
   "source": [
    "from toolz import identity\n",
    "maybe_convert = lambda key, convert_dict, column: ..."
   ]
  },
  {
   "cell_type": "code",
   "execution_count": 91,
   "metadata": {
    "collapsed": false
   },
   "outputs": [],
   "source": [
    "assert maybe_convert('hours', convert_dict, get('hours', columns)) == [42, 55, 12]\n",
    "assert maybe_convert('name', convert_dict, get('name', columns)) == ['Ann', 'Bob', 'Alice']\n",
    "assert maybe_convert('rate', convert_dict, get('rate', columns)) == [37.5, 7.5, 225.0] "
   ]
  },
  {
   "cell_type": "markdown",
   "metadata": {},
   "source": [
    "#### get(key, convert_dict, identity)(item) is obtuse.  Refactor"
   ]
  },
  {
   "cell_type": "code",
   "execution_count": 15,
   "metadata": {
    "collapsed": false
   },
   "outputs": [],
   "source": [
    "get_and_apply_conversion = lambda key, item, convert_dict: ...\n",
    "maybe_convert = lambda key, convert_dict, column: ..."
   ]
  },
  {
   "cell_type": "code",
   "execution_count": 105,
   "metadata": {
    "collapsed": false
   },
   "outputs": [],
   "source": [
    "assert maybe_convert('hours', convert_dict, get('hours', columns)) == [42, 55, 12]\n",
    "assert maybe_convert('name', convert_dict, get('name', columns)) == ['Ann', 'Bob', 'Alice']\n",
    "assert maybe_convert('rate', convert_dict, get('rate', columns)) == [37.5, 7.5, 225.0] "
   ]
  },
  {
   "cell_type": "markdown",
   "metadata": {},
   "source": [
    "#### Write a dictionary comprehension to convert all columns in the conversion dictionary\n",
    "\n",
    "* Use the function from above.\n",
    "* Iterate over `items`\n",
    "    * `(key, val)` tuple"
   ]
  },
  {
   "cell_type": "code",
   "execution_count": 108,
   "metadata": {
    "collapsed": false
   },
   "outputs": [
    {
     "data": {
      "text/plain": [
       "[('name', ('Ann', 'Bob', 'Alice')),\n",
       " ('hours', ('42', '55', '12')),\n",
       " ('rate', ('37.5', '7.5', '225'))]"
      ]
     },
     "execution_count": 108,
     "metadata": {},
     "output_type": "execute_result"
    }
   ],
   "source": [
    "list(columns.items())"
   ]
  },
  {
   "cell_type": "code",
   "execution_count": 16,
   "metadata": {
    "collapsed": true
   },
   "outputs": [],
   "source": [
    "convert_columns = lambda convert_dict, col_dict: ..."
   ]
  },
  {
   "cell_type": "code",
   "execution_count": 109,
   "metadata": {
    "collapsed": false
   },
   "outputs": [],
   "source": [
    "assert convert_columns(convert_dict, columns) == {'hours': [42, 55, 12], 'name': ['Ann', 'Bob', 'Alice'], 'rate': [37.5, 7.5, 225.0]}"
   ]
  },
  {
   "cell_type": "markdown",
   "metadata": {},
   "source": [
    "## <font color='red'>Task: Write a function that turns a column dictionary back into a table.</font>"
   ]
  },
  {
   "cell_type": "code",
   "execution_count": null,
   "metadata": {
    "collapsed": true
   },
   "outputs": [],
   "source": []
  }
 ],
 "metadata": {
  "kernelspec": {
   "display_name": "Python 3",
   "language": "python",
   "name": "python3"
  },
  "language_info": {
   "codemirror_mode": {
    "name": "ipython",
    "version": 3
   },
   "file_extension": ".py",
   "mimetype": "text/x-python",
   "name": "python",
   "nbconvert_exporter": "python",
   "pygments_lexer": "ipython3",
   "version": "3.5.2"
  }
 },
 "nbformat": 4,
 "nbformat_minor": 2
}
