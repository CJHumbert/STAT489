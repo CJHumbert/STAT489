{
 "cells": [
  {
   "cell_type": "markdown",
   "metadata": {},
   "source": [
    "# Reading and Writing Tables Group Work\n",
    "\n",
    "In this exercise, you will read, merge, filter, and reduce tables about baseball to answer a number of questions.\n",
    "\n",
    "**Here are the rules**\n",
    "\n",
    "1. Use `with_iter` from `more_itertools` combined with `csv.reader` to read tables.\n",
    "2. Use a `with` statement and the `consume(side_effects(print_func,seq))` pattern to write files.\n",
    "3. Write `lambda` expressions involving list comprehensions to process the tables.\n",
    "\n",
    "**Hints**\n",
    "\n",
    "1. Start by inspecting the files and noting the necessary columns.\n",
    "2. Join the needed information into a single table.\n",
    "3. Use the keys (playerID, teamID, etc.) to join the rows of tables.\n",
    "4. Try to filter whenever possible to shorten tables.\n",
    "5. Join and reduce the tables in separate steps.\n",
    "6. Don't be afraid to work incrementally, applying little changes one at a time.  You can always compose your functions later."
   ]
  },
  {
   "cell_type": "markdown",
   "metadata": {},
   "source": [
    "<font color=\"red\">**Question 1:**</font>  While rare in the modern era, it used to be common practice for teams to have player-managers, i.e. using a current player as a manager.  Compute the total number of runs scored by all player-managers (all time).\n",
    "\n",
    "**Relevant Files:**  Managers.csv, Batting.csv\n",
    "\n",
    "**Hint:** You will need to join the tables on `playerID` and `year`"
   ]
  },
  {
   "cell_type": "code",
   "execution_count": null,
   "metadata": {
    "collapsed": true
   },
   "outputs": [],
   "source": []
  },
  {
   "cell_type": "markdown",
   "metadata": {},
   "source": [
    "<font color=\"red\">**Question 2:**</font> Create a table of statistics on pitching that contains the following information:\n",
    "\n",
    "* players_name, \n",
    "* year, \n",
    "* team_name, \n",
    "* wins(W), \n",
    "* losses(L), \n",
    "* complete games (CG), \n",
    "* innings pitched (IP)\n",
    "\n",
    "Write this information to a file named **PitchingNames.csv** and include this file with your submission.\n",
    "\n",
    "**Relevant Files:** Pitching.csv, Master.csv, Teams.csv"
   ]
  },
  {
   "cell_type": "code",
   "execution_count": null,
   "metadata": {
    "collapsed": true
   },
   "outputs": [],
   "source": []
  },
  {
   "cell_type": "markdown",
   "metadata": {},
   "source": [
    "<font color=\"red\">**Question 3:**</font> Find the name of the pitcher and the associated team name for the pitcher with the lowest ERA (earned runs average) out of all pitchers between the years 1970 and 2010.  Limit your search to pitchers with at least 5 games pitched in a given year.\n",
    "\n",
    "** Relevant Files:** Pitching.csv, Master.csv, Teams.csv"
   ]
  },
  {
   "cell_type": "code",
   "execution_count": null,
   "metadata": {
    "collapsed": true
   },
   "outputs": [],
   "source": []
  },
  {
   "cell_type": "markdown",
   "metadata": {},
   "source": [
    "<font color=\"red\">**Question 4:**</font>  Write a few sentences describing your groups strategy for composing functions and/or expressions"
   ]
  },
  {
   "cell_type": "markdown",
   "metadata": {},
   "source": []
  }
 ],
 "metadata": {
  "anaconda-cloud": {},
  "kernelspec": {
   "display_name": "Python [Root]",
   "language": "python",
   "name": "Python [Root]"
  },
  "language_info": {
   "codemirror_mode": {
    "name": "ipython",
    "version": 3
   },
   "file_extension": ".py",
   "mimetype": "text/x-python",
   "name": "python",
   "nbconvert_exporter": "python",
   "pygments_lexer": "ipython3",
   "version": "3.5.1"
  }
 },
 "nbformat": 4,
 "nbformat_minor": 0
}
