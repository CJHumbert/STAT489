{
 "cells": [
  {
   "cell_type": "markdown",
   "metadata": {
    "nbpresent": {
     "id": "e511b9a6-b650-4c3e-991d-cc17d768842b"
    },
    "slideshow": {
     "slide_type": "slide"
    }
   },
   "source": [
    "# List Comprehensions with Two Sequences"
   ]
  },
  {
   "cell_type": "code",
   "execution_count": 1,
   "metadata": {
    "collapsed": false,
    "nbpresent": {
     "id": "41b81e7b-c833-44f2-af35-cea57b179023"
    },
    "slideshow": {
     "slide_type": "fragment"
    }
   },
   "outputs": [
    {
     "data": {
      "text/plain": [
       "[(1, 'a'), (1, 'b'), (2, 'a'), (2, 'b'), (3, 'a'), (3, 'b')]"
      ]
     },
     "execution_count": 1,
     "metadata": {},
     "output_type": "execute_result"
    }
   ],
   "source": [
    "[(i,j) for i in [1,2,3] for j in [\"a\", \"b\"]]"
   ]
  },
  {
   "cell_type": "markdown",
   "metadata": {
    "nbpresent": {
     "id": "7a1d7582-1374-4111-a6cb-aebbadd49332"
    },
    "slideshow": {
     "slide_type": "slide"
    }
   },
   "source": [
    "- inner (right) sequence can depend on outer sequence"
   ]
  },
  {
   "cell_type": "code",
   "execution_count": 3,
   "metadata": {
    "collapsed": false,
    "nbpresent": {
     "id": "752c3b3d-7d2e-4f97-9d36-16394c0b580e"
    },
    "slideshow": {
     "slide_type": "fragment"
    }
   },
   "outputs": [
    {
     "data": {
      "text/plain": [
       "[(1, 0),\n",
       " (2, 0),\n",
       " (2, 1),\n",
       " (3, 0),\n",
       " (3, 1),\n",
       " (3, 2),\n",
       " (4, 0),\n",
       " (4, 1),\n",
       " (4, 2),\n",
       " (4, 3)]"
      ]
     },
     "execution_count": 3,
     "metadata": {},
     "output_type": "execute_result"
    }
   ],
   "source": [
    "[(i,j) for i in range(5) for j in range(i)]"
   ]
  },
  {
   "cell_type": "markdown",
   "metadata": {
    "nbpresent": {
     "id": "f1e6ae91-28e5-49e5-bee5-d3e6a98eab62"
    },
    "slideshow": {
     "slide_type": "fragment"
    }
   },
   "source": [
    "- This is different than a zip"
   ]
  },
  {
   "cell_type": "code",
   "execution_count": 4,
   "metadata": {
    "collapsed": false,
    "nbpresent": {
     "id": "a35b11b7-80d1-4bb0-96fc-f1f270b98ba1"
    },
    "slideshow": {
     "slide_type": "fragment"
    }
   },
   "outputs": [
    {
     "data": {
      "text/plain": [
       "[(1, 'a'), (2, 'b')]"
      ]
     },
     "execution_count": 4,
     "metadata": {},
     "output_type": "execute_result"
    }
   ],
   "source": [
    "[(i,j) for i,j in zip([1,2,3], [\"a\", \"b\"])]"
   ]
  },
  {
   "cell_type": "markdown",
   "metadata": {
    "nbpresent": {
     "id": "910762bd-870c-422c-8293-299e5fa60649"
    },
    "slideshow": {
     "slide_type": "slide"
    }
   },
   "source": [
    "## Processing table like SQL\n",
    "\n",
    "<a src=\"http://code.activestate.com/recipes/159974-sql-like-set-operations-with-list-comprehension-on/\">**Example source** </a>"
   ]
  },
  {
   "cell_type": "code",
   "execution_count": 17,
   "metadata": {
    "collapsed": true,
    "nbpresent": {
     "id": "e3f9857d-fdc8-4383-ad50-21387ad9eeae"
    },
    "slideshow": {
     "slide_type": "slide"
    }
   },
   "outputs": [],
   "source": [
    "# agents\n",
    "# agent_id, agent_famname,agent_name\n",
    "agents=[[100,'Brown','Jack'],\n",
    "        [101,'Red','James'],\n",
    "        [102,'Black','John'],\n",
    "        [103,'White','Jeff'],\n",
    "        [104,'White','Jasper']]\n",
    "\n",
    "# clients\n",
    "# client_id,agent_id,client_name\n",
    "clients=[[100,100,'McDonalds'],\n",
    "         [101,100,'KFC'],\n",
    "         [102,102,'Burger King'],\n",
    "         [103,103,'Chinese'],\n",
    "         [104,999,'French']]\n",
    "\n",
    "# more agents /agents1\n",
    "# agent_id, agent_famname,agent_name\n",
    "agents1=[[200,'Smith','Jack'],\n",
    "         [101,'Red','James'],\n",
    "         [201,'Carpenter','John'],\n",
    "         [103,'White','Jeff']]\n"
   ]
  },
  {
   "cell_type": "markdown",
   "metadata": {
    "nbpresent": {
     "id": "7b3ae289-3db2-45e7-b9cc-fad85380b961"
    },
    "slideshow": {
     "slide_type": "slide"
    }
   },
   "source": [
    "### Useful function for working with tables: `get` from `toolz`\n",
    "\n",
    "* `get(2, row)` is the same as `row[2]`\n",
    "* `get([2,1], row)` is the same as `[row[2], row[1]]`"
   ]
  },
  {
   "cell_type": "code",
   "execution_count": 18,
   "metadata": {
    "collapsed": false,
    "nbpresent": {
     "id": "4b23fcb1-8956-4bea-b46a-05f0734533e7"
    },
    "scrolled": true,
    "slideshow": {
     "slide_type": "fragment"
    }
   },
   "outputs": [
    {
     "data": {
      "text/plain": [
       "['Jack', 'James', 'John', 'Jeff', 'Jasper']"
      ]
     },
     "execution_count": 18,
     "metadata": {},
     "output_type": "execute_result"
    }
   ],
   "source": [
    "from toolz import get\n",
    "[get(2, row) for row in agents]"
   ]
  },
  {
   "cell_type": "code",
   "execution_count": 19,
   "metadata": {
    "collapsed": false,
    "nbpresent": {
     "id": "bd268036-53c4-4158-8f37-c5b891164786"
    },
    "slideshow": {
     "slide_type": "fragment"
    }
   },
   "outputs": [
    {
     "data": {
      "text/plain": [
       "[('Jack', 'Brown'),\n",
       " ('James', 'Red'),\n",
       " ('John', 'Black'),\n",
       " ('Jeff', 'White'),\n",
       " ('Jasper', 'White')]"
      ]
     },
     "execution_count": 19,
     "metadata": {},
     "output_type": "execute_result"
    }
   ],
   "source": [
    "[get([2,1], row) for row in agents]"
   ]
  },
  {
   "cell_type": "markdown",
   "metadata": {
    "nbpresent": {
     "id": "9bc23126-f18a-4427-9dbb-f44376dbc9e0"
    },
    "slideshow": {
     "slide_type": "slide"
    }
   },
   "source": [
    "## Restriction\n",
    " **SQL:** \n",
    " \n",
    "    select * \n",
    "    from agents \n",
    "    where agent_famname='White'"
   ]
  },
  {
   "cell_type": "code",
   "execution_count": 20,
   "metadata": {
    "collapsed": false,
    "nbpresent": {
     "id": "c26614a5-58d1-4c16-a9c5-a1a9bc92f752"
    },
    "slideshow": {
     "slide_type": "fragment"
    }
   },
   "outputs": [
    {
     "data": {
      "text/plain": [
       "[[103, 'White', 'Jeff'], [104, 'White', 'Jasper']]"
      ]
     },
     "execution_count": 20,
     "metadata": {},
     "output_type": "execute_result"
    }
   ],
   "source": [
    "res=[row for row in agents if get(1, row)=='White']\n",
    "res"
   ]
  },
  {
   "cell_type": "markdown",
   "metadata": {
    "nbpresent": {
     "id": "a464bc6f-5f08-4474-9aa5-15a3028db6bd"
    },
    "slideshow": {
     "slide_type": "slide"
    }
   },
   "source": [
    "## Projection\n",
    "**SQL:** \n",
    "\n",
    "    select agent_name,agent_famname \n",
    "    from agents"
   ]
  },
  {
   "cell_type": "code",
   "execution_count": 21,
   "metadata": {
    "collapsed": false,
    "nbpresent": {
     "id": "3ab71b73-e50a-4e21-99d1-826459e55c1c"
    },
    "slideshow": {
     "slide_type": "fragment"
    }
   },
   "outputs": [
    {
     "data": {
      "text/plain": [
       "[('Jack', 'Brown'),\n",
       " ('James', 'Red'),\n",
       " ('John', 'Black'),\n",
       " ('Jeff', 'White'),\n",
       " ('Jasper', 'White')]"
      ]
     },
     "execution_count": 21,
     "metadata": {},
     "output_type": "execute_result"
    }
   ],
   "source": [
    "[get([2,1], row) for row in agents]"
   ]
  },
  {
   "cell_type": "markdown",
   "metadata": {
    "nbpresent": {
     "id": "c9bf15f6-139d-43b7-9b30-36aaf5ee519b"
    },
    "slideshow": {
     "slide_type": "slide"
    }
   },
   "source": [
    "## Cross-Product (Cartesian Product)\n",
    "\n",
    "**SQL:** \n",
    "\n",
    "    select * \n",
    "    from agents, clients\n"
   ]
  },
  {
   "cell_type": "code",
   "execution_count": 22,
   "metadata": {
    "collapsed": false,
    "nbpresent": {
     "id": "fb1b16b4-9a0b-46f2-8173-fd53ff4515fc"
    },
    "slideshow": {
     "slide_type": "fragment"
    }
   },
   "outputs": [
    {
     "data": {
      "text/plain": [
       "[[100, 'Brown', 'Jack', 100, 100, 'McDonalds'],\n",
       " [100, 'Brown', 'Jack', 101, 100, 'KFC'],\n",
       " [100, 'Brown', 'Jack', 102, 102, 'Burger King'],\n",
       " [100, 'Brown', 'Jack', 103, 103, 'Chinese'],\n",
       " [100, 'Brown', 'Jack', 104, 999, 'French'],\n",
       " [101, 'Red', 'James', 100, 100, 'McDonalds'],\n",
       " [101, 'Red', 'James', 101, 100, 'KFC'],\n",
       " [101, 'Red', 'James', 102, 102, 'Burger King'],\n",
       " [101, 'Red', 'James', 103, 103, 'Chinese'],\n",
       " [101, 'Red', 'James', 104, 999, 'French'],\n",
       " [102, 'Black', 'John', 100, 100, 'McDonalds'],\n",
       " [102, 'Black', 'John', 101, 100, 'KFC'],\n",
       " [102, 'Black', 'John', 102, 102, 'Burger King'],\n",
       " [102, 'Black', 'John', 103, 103, 'Chinese'],\n",
       " [102, 'Black', 'John', 104, 999, 'French'],\n",
       " [103, 'White', 'Jeff', 100, 100, 'McDonalds'],\n",
       " [103, 'White', 'Jeff', 101, 100, 'KFC'],\n",
       " [103, 'White', 'Jeff', 102, 102, 'Burger King'],\n",
       " [103, 'White', 'Jeff', 103, 103, 'Chinese'],\n",
       " [103, 'White', 'Jeff', 104, 999, 'French'],\n",
       " [104, 'White', 'Jasper', 100, 100, 'McDonalds'],\n",
       " [104, 'White', 'Jasper', 101, 100, 'KFC'],\n",
       " [104, 'White', 'Jasper', 102, 102, 'Burger King'],\n",
       " [104, 'White', 'Jasper', 103, 103, 'Chinese'],\n",
       " [104, 'White', 'Jasper', 104, 999, 'French']]"
      ]
     },
     "execution_count": 22,
     "metadata": {},
     "output_type": "execute_result"
    }
   ],
   "source": [
    "[r1 + r2 for r1 in agents for r2 in clients]"
   ]
  },
  {
   "cell_type": "markdown",
   "metadata": {
    "slideshow": {
     "slide_type": "slide"
    }
   },
   "source": [
    "## union\n",
    "\n",
    "**SQL:** \n",
    "\n",
    "    select * \n",
    "    from agents \n",
    "    union \n",
    "    select * \n",
    "    from agents1"
   ]
  },
  {
   "cell_type": "code",
   "execution_count": 26,
   "metadata": {
    "collapsed": false,
    "slideshow": {
     "slide_type": "fragment"
    }
   },
   "outputs": [
    {
     "data": {
      "text/plain": [
       "[[100, 'Brown', 'Jack'],\n",
       " [101, 'Red', 'James'],\n",
       " [102, 'Black', 'John'],\n",
       " [103, 'White', 'Jeff'],\n",
       " [104, 'White', 'Jasper'],\n",
       " [200, 'Smith', 'Jack'],\n",
       " [201, 'Carpenter', 'John']]"
      ]
     },
     "execution_count": 26,
     "metadata": {},
     "output_type": "execute_result"
    }
   ],
   "source": [
    "res=t1+[r2 for r2 in agents1 if r2 not in agents]\n",
    "res"
   ]
  }
 ],
 "metadata": {
  "anaconda-cloud": {},
  "kernelspec": {
   "display_name": "Python [Root]",
   "language": "python",
   "name": "Python [Root]"
  },
  "language_info": {
   "codemirror_mode": {
    "name": "ipython",
    "version": 3
   },
   "file_extension": ".py",
   "mimetype": "text/x-python",
   "name": "python",
   "nbconvert_exporter": "python",
   "pygments_lexer": "ipython3",
   "version": "3.5.1"
  },
  "nbpresent": {
   "slides": {},
   "themes": {}
  }
 },
 "nbformat": 4,
 "nbformat_minor": 0
}
