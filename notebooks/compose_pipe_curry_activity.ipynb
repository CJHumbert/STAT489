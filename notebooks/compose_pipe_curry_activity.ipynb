{
 "cells": [
  {
   "cell_type": "markdown",
   "metadata": {},
   "source": [
    "# Map and Filter Group Work\n",
    "\n",
    "In this exercise, we will revisit the group work assignment on reading and writing tables.  Below you will find the answer key for the earlier assignment.  Your task will be to convert all code to use `map` and `filter` whereever possible.\n",
    "\n",
    "**Here are the rules**\n",
    "\n",
    "1. Use `with_iter` from `more_itertools` combined with `csv.reader` to read tables.\n",
    "2. Combine steps using `compose` and/or `pipe`\n",
    "    a. Use curried functions when possible (`get`, `map`, `filter` at the least)\n",
    "3. Rewrite the helper functions curried function and functions from `operator`\n",
    "\n"
   ]
  },
  {
   "cell_type": "markdown",
   "metadata": {},
   "source": [
    "<font color=\"red\">**Question 1:**</font>  While rare in the modern era, it used to be common practice for teams to have player-managers, i.e. using a current player as a manager.  Compute the total number of runs scored by all player-managers (all time).\n",
    "\n",
    "**Relevant Files:**  Managers.csv, Batting.csv\n",
    "\n",
    "**Hint:** You will need to join the tables on `playerID` and `year`"
   ]
  },
  {
   "cell_type": "code",
   "execution_count": null,
   "metadata": {
    "collapsed": true
   },
   "outputs": [],
   "source": [
    "from more_itertools import with_iter\n",
    "from csv import reader\n",
    "from toolz import get\n",
    "\n",
    "read_csv = lambda filename: list(reader(with_iter(open(filename))))\n",
    "managers = read_csv(\"Managers.csv\")\n",
    "batting = read_csv(\"Batting.csv\")"
   ]
  },
  {
   "cell_type": "code",
   "execution_count": 8,
   "metadata": {
    "collapsed": false
   },
   "outputs": [
    {
     "data": {
      "text/plain": [
       "159530"
      ]
     },
     "execution_count": 8,
     "metadata": {},
     "output_type": "execute_result"
    }
   ],
   "source": [
    "player_managers = filter(lambda r: get(-1, r) == 'Y', managers)\n",
    "\n",
    "# Note: We will be using this to check membership --> use a set for efficiency\n",
    "player_managers_IDs = set(map(lambda r: get(0, r), player_managers))\n",
    "\n",
    "runs_filtered = filter(lambda r: get(0,r) in player_managers_IDs, batting)\n",
    "runs = map(lambda r: int(get(7, r)), runs_filtered)\n",
    "\n",
    "sum(runs)"
   ]
  },
  {
   "cell_type": "markdown",
   "metadata": {},
   "source": [
    "<font color=\"red\">**Question 2:**</font> Create a table of statistics on pitching that contains the following information:\n",
    "\n",
    "* players_name, \n",
    "* year, \n",
    "* team_name,\n",
    "* wins(W), \n",
    "* losses(L), \n",
    "* complete games (CG), \n",
    "* innings pitched (IP)\n",
    "\n",
    "Write this information to a file named **PitchingNames.csv** and include this file with your submission.\n",
    "\n",
    "**Edit:** Do this for the last 10 years.\n",
    "\n",
    "**Relevant Files:** Pitching.csv, Master.csv, Teams.csv"
   ]
  },
  {
   "cell_type": "code",
   "execution_count": 15,
   "metadata": {
    "collapsed": true
   },
   "outputs": [],
   "source": [
    "pitching = read_csv('Pitching.csv')\n",
    "master = read_csv('Master.csv')\n",
    "teams = read_csv('Teams.csv')"
   ]
  },
  {
   "cell_type": "code",
   "execution_count": 16,
   "metadata": {
    "collapsed": true
   },
   "outputs": [],
   "source": [
    "# Step 1: get the info from pitching.\n",
    "# We need playerID (0), yearId(1), teamID (3),wins (5), loses(6), complete games (9) and IPouts (12) \n",
    "# See enumeration in Question 3\n",
    "from toolz import drop\n",
    "filter_row = lambda r: get([0, 1, 3, 5, 6, 9, 12], r)\n",
    "pitching2006_2010_filt = filter(lambda r: 2006 <= int(get(1, r)) <= 2010, drop(1, pitching))\n",
    "pitching2006_2010 = list(map(filter_row, pitching2006_2010_filt))\n",
    "\n",
    "pitchersIDs = set(map(lambda r: get(0, r), pitching2006_2010))"
   ]
  },
  {
   "cell_type": "code",
   "execution_count": 17,
   "metadata": {
    "collapsed": true
   },
   "outputs": [],
   "source": [
    "raw_names_filt = filter(lambda r: get(0, r) in pitchersIDs, master)\n",
    "raw_names = map(lambda r: get([0, 13, 14], r), raw_names_filt)\n",
    "\n",
    "add_names = lambda row: (row[0], row[1] + \" \" + row[2])\n",
    "names = list(map(add_names, raw_names))"
   ]
  },
  {
   "cell_type": "code",
   "execution_count": 18,
   "metadata": {
    "collapsed": false
   },
   "outputs": [],
   "source": [
    "from itertools import product\n",
    "name_row = lambda tup: get(0, tup)\n",
    "info_row = lambda tup: get(1, tup)\n",
    "combined_row = lambda tup: get([1], name_row(tup)) + get([1, 2, 3, 4, 5, 6], info_row(tup))\n",
    "# The rows will be joined by mathcing playerIDs.  Here is a helper to do this.\n",
    "match_on_playerID = lambda tup: get(0, name_row(tup)) == get(0, info_row(tup))\n",
    "info_with_names_filt = filter(match_on_playerID, product(names, pitching2006_2010))\n",
    "info_with_names = list(map(combined_row, info_with_names_filt))"
   ]
  },
  {
   "cell_type": "code",
   "execution_count": 19,
   "metadata": {
    "collapsed": false
   },
   "outputs": [
    {
     "data": {
      "text/plain": [
       "[('yearID', 'teamID', 'name'),\n",
       " ('1871', 'BS1', 'Boston Red Stockings'),\n",
       " ('1871', 'CH1', 'Chicago White Stockings'),\n",
       " ('1871', 'CL1', 'Cleveland Forest Citys'),\n",
       " ('1871', 'FW1', 'Fort Wayne Kekiongas'),\n",
       " ('1871', 'NY2', 'New York Mutuals'),\n",
       " ('1871', 'PH1', 'Philadelphia Athletics'),\n",
       " ('1871', 'RC1', 'Rockford Forest Citys'),\n",
       " ('1871', 'TRO', 'Troy Haymakers'),\n",
       " ('1871', 'WS3', 'Washington Olympics')]"
      ]
     },
     "execution_count": 19,
     "metadata": {},
     "output_type": "execute_result"
    }
   ],
   "source": [
    "team_names_filt = filter(lambda r: get([0,2], r), teams)\n",
    "team_names = list(map(lambda r: get([0,2,40], r), team_names_filt))\n",
    "team_names[:10]"
   ]
  },
  {
   "cell_type": "code",
   "execution_count": 20,
   "metadata": {
    "collapsed": false
   },
   "outputs": [],
   "source": [
    "teamIDs = set(map(lambda r: get([1, 2], r), info_with_names))"
   ]
  },
  {
   "cell_type": "code",
   "execution_count": 21,
   "metadata": {
    "collapsed": false
   },
   "outputs": [
    {
     "data": {
      "text/plain": [
       "[('Greg Aquino', '2006', 'Arizona Diamondbacks', '2', '0', '0', '145'),\n",
       " ('Jeff Bajenaru', '2006', 'Arizona Diamondbacks', '0', '1', '0', '3'),\n",
       " ('Miguel Batista', '2006', 'Arizona Diamondbacks', '11', '8', '3', '619')]"
      ]
     },
     "execution_count": 21,
     "metadata": {},
     "output_type": "execute_result"
    }
   ],
   "source": [
    "info_row = lambda tup: get(1, tup)\n",
    "team_row = lambda tup: get(0, tup)\n",
    "combined_row = lambda tup: get([0,1], info_row(tup)) + get([2], team_row(tup)) + get([-4, -3, -2, -1], info_row(tup))\n",
    "\n",
    "join_on_teamID_year  = lambda tup: get(0, team_row(tup)) == get(1, info_row(tup)) and get(1, team_row(tup)) == get(2, info_row(tup))\n",
    "info_with_name_team_filt = filter(join_on_teamID_year, product(team_names, info_with_names))\n",
    "info_with_name_team = list(map(combined_row, info_with_name_team_filt))\n",
    "info_with_name_team[:3]"
   ]
  },
  {
   "cell_type": "code",
   "execution_count": 22,
   "metadata": {
    "collapsed": false
   },
   "outputs": [
    {
     "name": "stdout",
     "output_type": "stream",
     "text": [
      "Greg Aquino,2006,Arizona Diamondbacks,2,0,0,145\r\n",
      "Jeff Bajenaru,2006,Arizona Diamondbacks,0,1,0,3\r\n",
      "Miguel Batista,2006,Arizona Diamondbacks,11,8,3,619\r\n",
      "Randy Choate,2006,Arizona Diamondbacks,0,1,0,48\r\n",
      "Juan Cruz,2006,Arizona Diamondbacks,5,6,0,284\r\n",
      "cat: stdout: Broken pipe\r\n"
     ]
    }
   ],
   "source": [
    "from more_itertools import consume\n",
    "with open('PitchingNames.csv', 'w') as out:\n",
    "    joined_rows = map(lambda r: ','.join(r),info_with_name_team)\n",
    "    consume(map(lambda r: print(r, file=out), joined_rows))\n",
    "! cat PitchingNames.csv | head -n 5"
   ]
  },
  {
   "cell_type": "markdown",
   "metadata": {},
   "source": [
    "<font color=\"red\">**Question 3:**</font> Find the name of the pitcher and the associated team name for the pitcher with the lowest ERA (earned runs average) out of all pitchers between the years 1970 and 2010.  Limit your search to pitchers with at least 5 games pitched in a given year.\n",
    "\n",
    "** Relevant Files:** Pitching.csv, Master.csv, Teams.csv"
   ]
  },
  {
   "cell_type": "markdown",
   "metadata": {},
   "source": [
    "**Step 1:** Read in all three files."
   ]
  },
  {
   "cell_type": "code",
   "execution_count": 40,
   "metadata": {
    "collapsed": false
   },
   "outputs": [],
   "source": [
    "pitching = read_csv('Pitching.csv')\n",
    "master = read_csv('Master.csv')\n",
    "teams = read_csv('Teams.csv')"
   ]
  },
  {
   "cell_type": "markdown",
   "metadata": {},
   "source": [
    "**Step 2:** Filter the pitching table to only include the years 1970 to 2010."
   ]
  },
  {
   "cell_type": "code",
   "execution_count": 41,
   "metadata": {
    "collapsed": false
   },
   "outputs": [
    {
     "data": {
      "text/plain": [
       "[(0, 'playerID'),\n",
       " (1, 'yearID'),\n",
       " (2, 'stint'),\n",
       " (3, 'teamID'),\n",
       " (4, 'lgID'),\n",
       " (5, 'W'),\n",
       " (6, 'L'),\n",
       " (7, 'G'),\n",
       " (8, 'GS'),\n",
       " (9, 'CG'),\n",
       " (10, 'SHO'),\n",
       " (11, 'SV'),\n",
       " (12, 'IPouts'),\n",
       " (13, 'H'),\n",
       " (14, 'ER'),\n",
       " (15, 'HR'),\n",
       " (16, 'BB'),\n",
       " (17, 'SO'),\n",
       " (18, 'BAOpp'),\n",
       " (19, 'ERA'),\n",
       " (20, 'IBB'),\n",
       " (21, 'WP'),\n",
       " (22, 'HBP'),\n",
       " (23, 'BK'),\n",
       " (24, 'BFP'),\n",
       " (25, 'GF'),\n",
       " (26, 'R'),\n",
       " (27, 'SH'),\n",
       " (28, 'SF'),\n",
       " (29, 'GIDP')]"
      ]
     },
     "execution_count": 41,
     "metadata": {},
     "output_type": "execute_result"
    }
   ],
   "source": [
    "# Look at the pitching header to determine the location of year\n",
    "pitching_header = pitching[0]\n",
    "list(enumerate(pitching_header))"
   ]
  },
  {
   "cell_type": "code",
   "execution_count": 42,
   "metadata": {
    "collapsed": false
   },
   "outputs": [
    {
     "data": {
      "text/plain": [
       "[['abernte02',\n",
       "  '1970',\n",
       "  '1',\n",
       "  'CHN',\n",
       "  'NL',\n",
       "  '0',\n",
       "  '0',\n",
       "  '11',\n",
       "  '0',\n",
       "  '0',\n",
       "  '0',\n",
       "  '1',\n",
       "  '27',\n",
       "  '9',\n",
       "  '2',\n",
       "  '0',\n",
       "  '5',\n",
       "  '2',\n",
       "  '0.28',\n",
       "  '2',\n",
       "  '1',\n",
       "  '0',\n",
       "  '1',\n",
       "  '0',\n",
       "  '40',\n",
       "  '3',\n",
       "  '2',\n",
       "  '',\n",
       "  '',\n",
       "  '']]"
      ]
     },
     "execution_count": 42,
     "metadata": {},
     "output_type": "execute_result"
    }
   ],
   "source": [
    "pitching1970_2010 = list(filter(lambda r: 1970 <= int(get(1, r)) <= 2010, drop(1, pitching)))\n",
    "pitching1970_2010[:1]"
   ]
  },
  {
   "cell_type": "markdown",
   "metadata": {},
   "source": [
    "**Step 3:** Make a new table that contains the ERA (int) and playerID of each pitcher in the filtered list\n",
    "\n",
    "**Note** We also need to hang onto the year and teamID for later joins."
   ]
  },
  {
   "cell_type": "code",
   "execution_count": 43,
   "metadata": {
    "collapsed": false
   },
   "outputs": [],
   "source": [
    "# Pull out the raw string entries using get\n",
    "eras = list(map(lambda r: get([0,1,3,19], r), pitching1970_2010))\n",
    "# Map float to era, making sure we skip empty rows\n",
    "process_row = lambda r: get([0,1,2], r) + tuple(map(float, get([-1], r)))\n",
    "assert process_row(['a', 'b', 'c', '2.5']) == ('a', 'b', 'c', 2.5)"
   ]
  },
  {
   "cell_type": "code",
   "execution_count": 44,
   "metadata": {
    "collapsed": false
   },
   "outputs": [
    {
     "data": {
      "text/plain": [
       "[('abernte02', '1970', 'CHN', 2.0),\n",
       " ('abernte02', '1970', 'KCA', 2.59),\n",
       " ('abernte02', '1970', 'SLN', 2.95)]"
      ]
     },
     "execution_count": 44,
     "metadata": {},
     "output_type": "execute_result"
    }
   ],
   "source": [
    "eras = list(filter(lambda r: len(get(-1, r)) > 0, eras))\n",
    "eras = list(map(process_row, eras))\n",
    "# NOTE we will use an abstraction to allow us to do this in one step in a later exercise\n",
    "eras[:3]"
   ]
  },
  {
   "cell_type": "markdown",
   "metadata": {},
   "source": [
    "**Step 4:** Use `min` with a key function (see **Section 4.3.4** of the book) to identify the player with the lowest ERA"
   ]
  },
  {
   "cell_type": "code",
   "execution_count": 45,
   "metadata": {
    "collapsed": false
   },
   "outputs": [
    {
     "data": {
      "text/plain": [
       "('bolinbo01', '1970', 'BOS', 0.0)"
      ]
     },
     "execution_count": 45,
     "metadata": {},
     "output_type": "execute_result"
    }
   ],
   "source": [
    "# We are sorting by era, which has index 2\n",
    "key_func = lambda r: get(3, r)\n",
    "min_era = min(eras, key=key_func)\n",
    "min_era"
   ]
  },
  {
   "cell_type": "code",
   "execution_count": 46,
   "metadata": {
    "collapsed": false
   },
   "outputs": [
    {
     "data": {
      "text/plain": [
       "'bolinbo01'"
      ]
     },
     "execution_count": 46,
     "metadata": {},
     "output_type": "execute_result"
    }
   ],
   "source": [
    "min_player, min_year, min_team, min_era = min_era\n",
    "min_player"
   ]
  },
  {
   "cell_type": "code",
   "execution_count": 47,
   "metadata": {
    "collapsed": false
   },
   "outputs": [
    {
     "data": {
      "text/plain": [
       "434"
      ]
     },
     "execution_count": 47,
     "metadata": {},
     "output_type": "execute_result"
    }
   ],
   "source": [
    "# BONUS - For fun lets find all players with that tie with this era\n",
    "ties = [r for r in eras if get(3, r) == min_era]\n",
    "list(filter(lambda r: get(3, r) == min_era, eras))\n",
    "len(ties)"
   ]
  },
  {
   "cell_type": "code",
   "execution_count": 48,
   "metadata": {
    "collapsed": false
   },
   "outputs": [
    {
     "data": {
      "text/plain": [
       "[('bolinbo01', '1970', 'BOS', 0.0),\n",
       " ('jonesga01', '1970', 'NYA', 0.0),\n",
       " ('mcbeaal01', '1970', 'LAN', 0.0),\n",
       " ('molonri01', '1970', 'CHA', 0.0)]"
      ]
     },
     "execution_count": 48,
     "metadata": {},
     "output_type": "execute_result"
    }
   ],
   "source": [
    "ties[:4]"
   ]
  },
  {
   "cell_type": "markdown",
   "metadata": {},
   "source": [
    "**Step 5:** Use filters to get the name and the team of the player identified in the last step."
   ]
  },
  {
   "cell_type": "code",
   "execution_count": 49,
   "metadata": {
    "collapsed": false
   },
   "outputs": [
    {
     "data": {
      "text/plain": [
       "[(0, 'playerID'),\n",
       " (1, 'birthYear'),\n",
       " (2, 'birthMonth'),\n",
       " (3, 'birthDay'),\n",
       " (4, 'birthCountry'),\n",
       " (5, 'birthState'),\n",
       " (6, 'birthCity'),\n",
       " (7, 'deathYear'),\n",
       " (8, 'deathMonth'),\n",
       " (9, 'deathDay'),\n",
       " (10, 'deathCountry'),\n",
       " (11, 'deathState'),\n",
       " (12, 'deathCity'),\n",
       " (13, 'nameFirst'),\n",
       " (14, 'nameLast'),\n",
       " (15, 'nameGiven'),\n",
       " (16, 'weight'),\n",
       " (17, 'height'),\n",
       " (18, 'bats'),\n",
       " (19, 'throws'),\n",
       " (20, 'debut'),\n",
       " (21, 'finalGame'),\n",
       " (22, 'retroID'),\n",
       " (23, 'bbrefID')]"
      ]
     },
     "execution_count": 49,
     "metadata": {},
     "output_type": "execute_result"
    }
   ],
   "source": [
    "# Use enumerate on the header to find the indexes for nameGiven\n",
    "master_header = master[0]\n",
    "list(enumerate(master_header))"
   ]
  },
  {
   "cell_type": "code",
   "execution_count": 51,
   "metadata": {
    "collapsed": false
   },
   "outputs": [
    {
     "data": {
      "text/plain": [
       "'Bobby Bolin'"
      ]
     },
     "execution_count": 51,
     "metadata": {},
     "output_type": "execute_result"
    }
   ],
   "source": [
    "# Get the  name by matching with id\n",
    "# Note that the name sill be first + last\n",
    "from toolz import first\n",
    "add_name = lambda row: row[0] + \" \" + row[1]\n",
    "player_name_filt = filter(lambda r: get(0, r) == min_player, master)\n",
    "player_name_map = map(lambda r: add_name(get([13, 14], r)), player_name_filt)\n",
    "player_name = first(player_name_map)\n",
    "player_name"
   ]
  },
  {
   "cell_type": "code",
   "execution_count": 52,
   "metadata": {
    "collapsed": false
   },
   "outputs": [
    {
     "data": {
      "text/plain": [
       "[(0, 'yearID'),\n",
       " (1, 'lgID'),\n",
       " (2, 'teamID'),\n",
       " (3, 'franchID'),\n",
       " (4, 'divID'),\n",
       " (5, 'Rank'),\n",
       " (6, 'G'),\n",
       " (7, 'Ghome'),\n",
       " (8, 'W'),\n",
       " (9, 'L'),\n",
       " (10, 'DivWin'),\n",
       " (11, 'WCWin'),\n",
       " (12, 'LgWin'),\n",
       " (13, 'WSWin'),\n",
       " (14, 'R'),\n",
       " (15, 'AB'),\n",
       " (16, 'H'),\n",
       " (17, '2B'),\n",
       " (18, '3B'),\n",
       " (19, 'HR'),\n",
       " (20, 'BB'),\n",
       " (21, 'SO'),\n",
       " (22, 'SB'),\n",
       " (23, 'CS'),\n",
       " (24, 'HBP'),\n",
       " (25, 'SF'),\n",
       " (26, 'RA'),\n",
       " (27, 'ER'),\n",
       " (28, 'ERA'),\n",
       " (29, 'CG'),\n",
       " (30, 'SHO'),\n",
       " (31, 'SV'),\n",
       " (32, 'IPouts'),\n",
       " (33, 'HA'),\n",
       " (34, 'HRA'),\n",
       " (35, 'BBA'),\n",
       " (36, 'SOA'),\n",
       " (37, 'E'),\n",
       " (38, 'DP'),\n",
       " (39, 'FP'),\n",
       " (40, 'name'),\n",
       " (41, 'park'),\n",
       " (42, 'attendance'),\n",
       " (43, 'BPF'),\n",
       " (44, 'PPF'),\n",
       " (45, 'teamIDBR'),\n",
       " (46, 'teamIDlahman45'),\n",
       " (47, 'teamIDretro')]"
      ]
     },
     "execution_count": 52,
     "metadata": {},
     "output_type": "execute_result"
    }
   ],
   "source": [
    "team_header = teams[0]\n",
    "list(enumerate(team_header))"
   ]
  },
  {
   "cell_type": "code",
   "execution_count": 53,
   "metadata": {
    "collapsed": false
   },
   "outputs": [
    {
     "data": {
      "text/plain": [
       "'Boston Red Sox'"
      ]
     },
     "execution_count": 53,
     "metadata": {},
     "output_type": "execute_result"
    }
   ],
   "source": [
    "from toolz import get_in\n",
    "team_name_filt = list(filter(lambda r: get(0, r) == min_year and get(2, r) == min_team, teams))\n",
    "team_name = get_in([0,-8], team_name_filt)\n",
    "team_name"
   ]
  },
  {
   "cell_type": "code",
   "execution_count": 54,
   "metadata": {
    "collapsed": false
   },
   "outputs": [
    {
     "data": {
      "text/plain": [
       "('Bobby Bolin', 'Boston Red Sox', '1970', 0.0)"
      ]
     },
     "execution_count": 54,
     "metadata": {},
     "output_type": "execute_result"
    }
   ],
   "source": [
    "player_name, team_name, min_year, min_era"
   ]
  }
 ],
 "metadata": {
  "anaconda-cloud": {},
  "kernelspec": {
   "display_name": "Python 3",
   "language": "python",
   "name": "python3"
  },
  "language_info": {
   "codemirror_mode": {
    "name": "ipython",
    "version": 3
   },
   "file_extension": ".py",
   "mimetype": "text/x-python",
   "name": "python",
   "nbconvert_exporter": "python",
   "pygments_lexer": "ipython3",
   "version": "3.5.2"
  }
 },
 "nbformat": 4,
 "nbformat_minor": 0
}
