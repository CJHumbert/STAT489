{
 "cells": [
  {
   "cell_type": "markdown",
   "metadata": {},
   "source": [
    "# Map and Filter Group Work\n",
    "\n",
    "In this exercise, we will revisit the group work assignment on reading and writing tables.  Below you will find the answer key for the earlier assignment.  Your task will be to convert all code to use `map` and `filter` whereever possible.\n",
    "\n",
    "**Here are the rules**\n",
    "\n",
    "1. Use `with_iter` from `more_itertools` combined with `csv.reader` to read tables.\n",
    "2. Combine steps using `compose` and/or `pipe`\n",
    "    a. Use curried functions when possible (`get`, `map`, `filter` at the least)\n",
    "3. Rewrite the helper functions curried function and functions from `operator`\n",
    "\n"
   ]
  },
  {
   "cell_type": "markdown",
   "metadata": {},
   "source": [
    "<font color=\"red\">**Question 1:**</font>  While rare in the modern era, it used to be common practice for teams to have player-managers, i.e. using a current player as a manager.  Compute the total number of runs scored by all player-managers (all time).\n",
    "\n",
    "**Relevant Files:**  Managers.csv, Batting.csv\n",
    "\n",
    "**Hint:** You will need to join the tables on `playerID` and `year`"
   ]
  },
  {
   "cell_type": "code",
   "execution_count": 34,
   "metadata": {
    "collapsed": true
   },
   "outputs": [],
   "source": [
    "from more_itertools import with_iter\n",
    "from csv import reader\n",
    "from toolz.curried import get, map, filter, curry, drop\n",
    "from operator import add, contains, add, gt\n",
    "\n",
    "read_csv = lambda filename: list(reader(with_iter(open(filename))))\n",
    "managers = read_csv(\"Managers.csv\")\n",
    "batting = read_csv(\"Batting.csv\")"
   ]
  },
  {
   "cell_type": "code",
   "execution_count": 19,
   "metadata": {
    "collapsed": false
   },
   "outputs": [
    {
     "data": {
      "text/plain": [
       "[['playerID',\n",
       "  'yearID',\n",
       "  'teamID',\n",
       "  'lgID',\n",
       "  'inseason',\n",
       "  'G',\n",
       "  'W',\n",
       "  'L',\n",
       "  'rank',\n",
       "  'plyrMgr'],\n",
       " ['wrighha01', '1871', 'BS1', 'NA', '1', '31', '20', '10', '3', 'Y'],\n",
       " ['woodji01', '1871', 'CH1', 'NA', '1', '28', '19', '9', '2', 'Y']]"
      ]
     },
     "execution_count": 19,
     "metadata": {},
     "output_type": "execute_result"
    }
   ],
   "source": [
    "player_managers = filter(lambda r: get(-1, r) == 'Y', managers)\n",
    "player_managers = pipe(managers, filter(get(-1)), list)\n",
    "player_managers[:3]"
   ]
  },
  {
   "cell_type": "code",
   "execution_count": 20,
   "metadata": {
    "collapsed": false
   },
   "outputs": [
    {
     "data": {
      "text/plain": [
       "{'actama99',\n",
       " 'adairbi99',\n",
       " 'adcocjo01',\n",
       " 'addybo01',\n",
       " 'allenbo01',\n",
       " 'allisdo01',\n",
       " 'alomasa02',\n",
       " 'aloufe01',\n",
       " 'alstowa01',\n",
       " 'altobjo01',\n",
       " 'amalfjo01',\n",
       " 'andersp01',\n",
       " 'ansonca01',\n",
       " 'applilu01',\n",
       " 'armoubi99',\n",
       " 'asproke01',\n",
       " 'ausmubr01',\n",
       " 'austiji01',\n",
       " 'bakerde01',\n",
       " 'bakerdu01',\n",
       " 'bambege01',\n",
       " 'bancrda01',\n",
       " 'bancrfr99',\n",
       " 'banisje01',\n",
       " 'barklsa01',\n",
       " 'barnibi01',\n",
       " 'barroed99',\n",
       " 'barryja01',\n",
       " 'battijo01',\n",
       " 'bauerha01',\n",
       " 'baylodo01',\n",
       " 'bellbu01',\n",
       " 'bensove01',\n",
       " 'berrayo01',\n",
       " 'bevinte99',\n",
       " 'bezdehu99',\n",
       " 'bicke99',\n",
       " 'birmijo01',\n",
       " 'bissode01',\n",
       " 'blackbu02',\n",
       " 'blackle01',\n",
       " 'bladera01',\n",
       " 'blairwa01',\n",
       " 'bluegos01',\n",
       " 'bochybr01',\n",
       " 'bogarti01',\n",
       " 'bolesjo99',\n",
       " 'bondto01',\n",
       " 'boonebo01',\n",
       " 'borosst01',\n",
       " 'bottoji01',\n",
       " 'boudrlo01',\n",
       " 'bowala01',\n",
       " 'bowerfr01',\n",
       " 'boydbi01',\n",
       " 'boyerke01',\n",
       " 'bradlbi01',\n",
       " 'bragabo01',\n",
       " 'brenlbo01',\n",
       " 'bresnro01',\n",
       " 'bristda99',\n",
       " 'brownda99',\n",
       " 'brownfr99',\n",
       " 'brownmo01',\n",
       " 'brownto01',\n",
       " 'bruckea01',\n",
       " 'buckeal99',\n",
       " 'buffich01',\n",
       " 'burdoja01',\n",
       " 'burkeji01',\n",
       " 'burnhwa99',\n",
       " 'burnsto01',\n",
       " 'burwebi01',\n",
       " 'bushdo01',\n",
       " 'butleor99',\n",
       " 'byrnech99',\n",
       " 'callani01',\n",
       " 'cammebi99',\n",
       " 'campaco01',\n",
       " 'cantijo99',\n",
       " 'careyma01',\n",
       " 'careyto01',\n",
       " 'carribi02',\n",
       " 'carutbo01',\n",
       " 'cashke01',\n",
       " 'cavarph01',\n",
       " 'cayloop99',\n",
       " 'chancfr01',\n",
       " 'chapmbe01',\n",
       " 'chapmja01',\n",
       " 'chaseha01',\n",
       " 'clappjo01',\n",
       " 'clarkda05',\n",
       " 'clarkfr01',\n",
       " 'clemeja01',\n",
       " 'clintji01',\n",
       " 'cobbty01',\n",
       " 'cochrmi01',\n",
       " 'cohenan01',\n",
       " 'colembo01',\n",
       " 'colemje01',\n",
       " 'collied01',\n",
       " 'colliji01',\n",
       " 'collish01',\n",
       " 'collite99',\n",
       " 'comisch01',\n",
       " 'connoro01',\n",
       " 'cookedu01',\n",
       " 'coombja01',\n",
       " 'coonejo01',\n",
       " 'coopece01',\n",
       " 'coopedo01',\n",
       " 'corrapa01',\n",
       " 'corrire01',\n",
       " 'cottich01',\n",
       " 'counscr01',\n",
       " 'coxbo01',\n",
       " 'craftha01',\n",
       " 'craigro01',\n",
       " 'crandde01',\n",
       " 'cranesa01',\n",
       " 'cravaga01',\n",
       " 'cravebi01',\n",
       " 'creamge01',\n",
       " 'cronijo01',\n",
       " 'crookja01',\n",
       " 'crossla01',\n",
       " 'cubbami01',\n",
       " 'curtied99',\n",
       " 'cushmch99',\n",
       " 'cuthbne01',\n",
       " 'dahlebi01',\n",
       " 'darkal01',\n",
       " 'davenji01',\n",
       " 'davidmo99',\n",
       " 'davisge01',\n",
       " 'davisha01',\n",
       " 'davissp01',\n",
       " 'dayjo99',\n",
       " 'deaneha01',\n",
       " 'defrato99',\n",
       " 'dentbu01',\n",
       " 'dickebi01',\n",
       " 'diddlha99',\n",
       " 'dierkla01',\n",
       " 'dobyla01',\n",
       " 'donovbi01',\n",
       " 'donovpa01',\n",
       " 'dooinre01',\n",
       " 'dorgami01',\n",
       " 'dowdto01',\n",
       " 'doyleja01',\n",
       " 'dressch01',\n",
       " 'duffyhu01',\n",
       " 'dunlafr01',\n",
       " 'durocle01',\n",
       " 'dwyerfr01',\n",
       " 'dyered01',\n",
       " 'dykesji01',\n",
       " 'ebbetch99',\n",
       " 'edwardo01',\n",
       " 'elberki01',\n",
       " 'eliale01',\n",
       " 'ellicjo01',\n",
       " 'elliobo01',\n",
       " 'ensje01',\n",
       " 'ermerca01',\n",
       " 'essiaji01',\n",
       " 'esterdu01',\n",
       " 'eversjo01',\n",
       " 'ewingbu01',\n",
       " 'faatzja01',\n",
       " 'falkbi01',\n",
       " 'fanniji01',\n",
       " 'farreja02',\n",
       " 'farrejo03',\n",
       " 'farreke01',\n",
       " 'felskjo01',\n",
       " 'fergubo01',\n",
       " 'ferrami01',\n",
       " 'fessewa99',\n",
       " 'fitzsfr01',\n",
       " 'fletcar01',\n",
       " 'flintsi01',\n",
       " 'fogarji01',\n",
       " 'fogelho99',\n",
       " 'fohlle01',\n",
       " 'fonsele01',\n",
       " 'foutzda01',\n",
       " 'foxch01',\n",
       " 'francte01',\n",
       " 'frankhe01',\n",
       " 'frazege99',\n",
       " 'frazijo01',\n",
       " 'fregoji01',\n",
       " 'freyji99',\n",
       " 'friscfr01',\n",
       " 'fuchsju99',\n",
       " 'gaffnjo99',\n",
       " 'galanma99',\n",
       " 'galvipu01',\n",
       " 'ganzejo01',\n",
       " 'garcida99',\n",
       " 'gardero01',\n",
       " 'gardnbi02',\n",
       " 'garneph01',\n",
       " 'gastoci01',\n",
       " 'gerenbo01',\n",
       " 'gerhajo01',\n",
       " 'gessldo01',\n",
       " 'gibbojo02',\n",
       " 'gibsoge01',\n",
       " 'gibsoki01',\n",
       " 'giffoji99',\n",
       " 'girarjo01',\n",
       " 'glassja01',\n",
       " 'gleaski01',\n",
       " 'gomezpr01',\n",
       " 'gonzafr99',\n",
       " 'gonzami01',\n",
       " 'gordojo01',\n",
       " 'gorege01',\n",
       " 'goryljo01',\n",
       " 'gouldch01',\n",
       " 'gowdyha01',\n",
       " 'graffma99',\n",
       " 'grammal01',\n",
       " 'greenda02',\n",
       " 'griffcl01',\n",
       " 'griffmi01',\n",
       " 'griffsa01',\n",
       " 'grimebu01',\n",
       " 'grimmch01',\n",
       " 'grohhe01',\n",
       " 'guilloz01',\n",
       " 'guttedo01',\n",
       " 'haased01',\n",
       " 'hackech99',\n",
       " 'hackst01',\n",
       " 'halech01',\n",
       " 'hallmbi01',\n",
       " 'haneyfr01',\n",
       " 'hanlone01',\n",
       " 'hardeme01',\n",
       " 'hargrmi01',\n",
       " 'harrato01',\n",
       " 'harrebu01',\n",
       " 'harribu01',\n",
       " 'harrilu01',\n",
       " 'hartji99',\n",
       " 'hartjo99',\n",
       " 'hartnga01',\n",
       " 'hartsro01',\n",
       " 'hastisc01',\n",
       " 'hatfijo01',\n",
       " 'hattogr01',\n",
       " 'heckegu01',\n",
       " 'heffndo01',\n",
       " 'heilblo99',\n",
       " 'helmsto01',\n",
       " 'hemusso01',\n",
       " 'hendebi99',\n",
       " 'hendrja01',\n",
       " 'hengled99',\n",
       " 'hermabi01',\n",
       " 'herzobu01',\n",
       " 'herzowh01',\n",
       " 'hewetwa99',\n",
       " 'hicksna01',\n",
       " 'higgipi01',\n",
       " 'highadi01',\n",
       " 'hillmtr99',\n",
       " 'himslve99',\n",
       " 'hinchaj01',\n",
       " 'hitchbi01',\n",
       " 'hobsobu01',\n",
       " 'hodgegi01',\n",
       " 'hoeyfr99',\n",
       " 'hoffmgl01',\n",
       " 'holbebi01',\n",
       " 'holliho01',\n",
       " 'holmeto01',\n",
       " 'hornsro01',\n",
       " 'houkra01',\n",
       " 'howarfr01',\n",
       " 'howear01',\n",
       " 'howleda01',\n",
       " 'howsedi01',\n",
       " 'huffge99',\n",
       " 'huggimi01',\n",
       " 'huntebi03',\n",
       " 'hurdlcl01',\n",
       " 'hurstti99',\n",
       " 'hutchfr01',\n",
       " 'hydebr99',\n",
       " 'irwinar01',\n",
       " 'jennida99',\n",
       " 'jennihu01',\n",
       " 'johnsda01',\n",
       " 'johnsda02',\n",
       " 'johnsro01',\n",
       " 'johnsti01',\n",
       " 'johnswa01',\n",
       " 'jonesfi01',\n",
       " 'joosted01',\n",
       " 'jorgemi01',\n",
       " 'joycebi01',\n",
       " 'jurgebi01',\n",
       " 'kaskoed01',\n",
       " 'keanejo99',\n",
       " 'kellejo01',\n",
       " 'kellyjo01',\n",
       " 'kellyki01',\n",
       " 'kellyto01',\n",
       " 'kennebo01',\n",
       " 'kenneji99',\n",
       " 'kenneke99',\n",
       " 'kerinjo01',\n",
       " 'kerrijo01',\n",
       " 'kessido01',\n",
       " 'killebi01',\n",
       " 'kimmbr01',\n",
       " 'kingcl01',\n",
       " 'kittrma01',\n",
       " 'kleinlo01',\n",
       " 'klingjo01',\n",
       " 'knabeot01',\n",
       " 'knighlo01',\n",
       " 'knighra01',\n",
       " 'krolja99',\n",
       " 'kuehlka99',\n",
       " 'kuennha01',\n",
       " 'kuheljo01',\n",
       " 'lachema01',\n",
       " 'lachere01',\n",
       " 'lajoina01',\n",
       " 'lakefr01',\n",
       " 'lamonge01',\n",
       " 'lanieha01',\n",
       " 'larkihe01',\n",
       " 'larusto01',\n",
       " 'lasorto01',\n",
       " 'lathaar01',\n",
       " 'lathaju01',\n",
       " 'lavagco01',\n",
       " 'lawleto01',\n",
       " 'leadlbo99',\n",
       " 'lefebji01',\n",
       " 'lemonbo01',\n",
       " 'lemonji01',\n",
       " 'lennobi01',\n",
       " 'leylaji99',\n",
       " 'leyvani99',\n",
       " 'lillibo01',\n",
       " 'liponjo01',\n",
       " 'littlgr99',\n",
       " 'loberha01',\n",
       " 'lockmwh01',\n",
       " 'loftuto01',\n",
       " 'lopated01',\n",
       " 'lopesda01',\n",
       " 'lopezal01',\n",
       " 'lordha01',\n",
       " 'lowebo01',\n",
       " 'lucchfr99',\n",
       " 'lumleha01',\n",
       " 'lyonste01',\n",
       " 'machake01',\n",
       " 'mackape01',\n",
       " 'mackco01',\n",
       " 'mackde01',\n",
       " 'mackea01',\n",
       " 'maculji01',\n",
       " 'maddojo99',\n",
       " 'mageele01',\n",
       " 'malonfe01',\n",
       " 'mannija01',\n",
       " 'manniji01',\n",
       " 'manuech01',\n",
       " 'manueje01',\n",
       " 'maranra01',\n",
       " 'marioma01',\n",
       " 'marshji01',\n",
       " 'martibi02',\n",
       " 'martibu01',\n",
       " 'martima01',\n",
       " 'masonch01',\n",
       " 'mathech01',\n",
       " 'matheed01',\n",
       " 'mathemi01',\n",
       " 'mattibo01',\n",
       " 'mattido01',\n",
       " 'mauchge01',\n",
       " 'mazzile01',\n",
       " 'mcaleji01',\n",
       " 'mcbridi01',\n",
       " 'mcbrige01',\n",
       " 'mccalja99',\n",
       " 'mccarjo99',\n",
       " 'mccarto01',\n",
       " 'mcclell01',\n",
       " 'mcclojo99',\n",
       " 'mccorji01',\n",
       " 'mcgahme99',\n",
       " 'mcgeami01',\n",
       " 'mcgrajo01',\n",
       " 'mcguide01',\n",
       " 'mcgunbi01',\n",
       " 'mcinnst01',\n",
       " 'mckecbi01',\n",
       " 'mckeoja99',\n",
       " 'mckinal01',\n",
       " 'mcknide99',\n",
       " 'mclarjo99',\n",
       " 'mcmange99',\n",
       " 'mcmanma01',\n",
       " 'mcmilro01',\n",
       " 'mcnamjo99',\n",
       " 'mcphebi01',\n",
       " 'mcraeha01',\n",
       " 'mcveyca01',\n",
       " 'melesa01',\n",
       " 'melilsk01',\n",
       " 'melvibo01',\n",
       " 'merrist99',\n",
       " 'metroch01',\n",
       " 'meyerbi01',\n",
       " 'michage01',\n",
       " 'milancl01',\n",
       " 'mileyda99',\n",
       " 'milledo01',\n",
       " 'millejo01',\n",
       " 'millera99',\n",
       " 'millsbr01',\n",
       " 'millsbu01',\n",
       " 'millsev01',\n",
       " 'mitchfr01',\n",
       " 'mizerjo01',\n",
       " 'molitpa01',\n",
       " 'mooreja01',\n",
       " 'moorete01',\n",
       " 'moranpa01',\n",
       " 'morgajo01',\n",
       " 'moriage02',\n",
       " 'morrijo01',\n",
       " 'mortoch01',\n",
       " 'mosesfe99',\n",
       " 'mossle01',\n",
       " 'murnati01',\n",
       " 'murphpa99',\n",
       " 'murrabi99',\n",
       " 'murtada01',\n",
       " 'muserto01',\n",
       " 'mutriji99',\n",
       " 'myattge01',\n",
       " 'myershe01',\n",
       " 'narroje01',\n",
       " 'nashbi01',\n",
       " 'neunjo01',\n",
       " 'newmaje01',\n",
       " 'nichoki01',\n",
       " 'nicolhu01',\n",
       " 'nixonru01',\n",
       " 'normabi01',\n",
       " 'oakesre01',\n",
       " 'oatesjo01',\n",
       " 'oconnja01',\n",
       " 'odayha01',\n",
       " 'ofarrbo01',\n",
       " 'olearda01',\n",
       " 'oneilst01',\n",
       " 'onsloja01',\n",
       " 'orourji01',\n",
       " 'orrda01',\n",
       " 'ottme01',\n",
       " 'owenspa99',\n",
       " 'ozarkda99',\n",
       " 'paborch01',\n",
       " 'parkesa01',\n",
       " 'parksbi01',\n",
       " 'parrila01',\n",
       " 'pearcdi01',\n",
       " 'peckiro01',\n",
       " 'pedrial01',\n",
       " 'penato01',\n",
       " 'perezto01',\n",
       " 'perkicy01',\n",
       " 'perlosa01',\n",
       " 'peskyjo01',\n",
       " 'pfefffr01',\n",
       " 'phelale99',\n",
       " 'phillbi02',\n",
       " 'phillho99',\n",
       " 'phillle99',\n",
       " 'pikeli01',\n",
       " 'pinielo01',\n",
       " 'playerID',\n",
       " 'plummbi01',\n",
       " 'popowed99',\n",
       " 'portebo03',\n",
       " 'portema01',\n",
       " 'powerpa99',\n",
       " 'prattal01',\n",
       " 'pricebr99',\n",
       " 'priceji99',\n",
       " 'prothdo01',\n",
       " 'pujollu01',\n",
       " 'purcebl01',\n",
       " 'quademi99',\n",
       " 'queenme02',\n",
       " 'quilifr01',\n",
       " 'quinnjo02',\n",
       " 'raderdo02',\n",
       " 'randowi01',\n",
       " 'rappve99',\n",
       " 'reachal01',\n",
       " 'redmomi01',\n",
       " 'reganph01',\n",
       " 'renteri01',\n",
       " 'ricede01',\n",
       " 'richada01',\n",
       " 'richapa01',\n",
       " 'rickebr01',\n",
       " 'riddogr99',\n",
       " 'rigglji99',\n",
       " 'rignebi01',\n",
       " 'ripkeca99',\n",
       " 'roberda07',\n",
       " 'robinfr02',\n",
       " 'robinwi01',\n",
       " 'robisst99',\n",
       " 'rodgebu01',\n",
       " 'rodried02',\n",
       " 'roeniro01',\n",
       " 'rogerji01',\n",
       " 'rojasco01',\n",
       " 'rolfere01',\n",
       " 'rosemch01',\n",
       " 'rosepe01',\n",
       " 'rothsla01',\n",
       " 'roweda01',\n",
       " 'roweja01',\n",
       " 'rowlapa99',\n",
       " 'roystje01',\n",
       " 'ruelmu01',\n",
       " 'runnepe01',\n",
       " 'runneto01',\n",
       " 'russebi01',\n",
       " 'russejo02',\n",
       " 'ryanco01',\n",
       " 'samueju01',\n",
       " 'sandbry01',\n",
       " 'sawyeed99',\n",
       " 'scanlmi99',\n",
       " 'schaebo99',\n",
       " 'schalra01',\n",
       " 'schefbo01',\n",
       " 'schlala01',\n",
       " 'schmegu99',\n",
       " 'schoere01',\n",
       " 'schuljo05',\n",
       " 'sciosmi01',\n",
       " 'seleefr99',\n",
       " 'sewellu01',\n",
       " 'shannda01',\n",
       " 'sharsbi99',\n",
       " 'shawkbo01',\n",
       " 'sheehto02',\n",
       " 'shepala99',\n",
       " 'sherrno01',\n",
       " 'shettbi99',\n",
       " 'shottbu01',\n",
       " 'showabu99',\n",
       " 'silveke01',\n",
       " 'simmojo01',\n",
       " 'simmole99',\n",
       " 'sisledi01',\n",
       " 'sislege01',\n",
       " 'skafffr01',\n",
       " 'skinnbo01',\n",
       " 'skinnjo01',\n",
       " 'slattja01',\n",
       " 'smithbi01',\n",
       " 'smithha03',\n",
       " 'smithhe01',\n",
       " 'smithma01',\n",
       " 'snydeji02',\n",
       " 'snydepo01',\n",
       " 'sothoal01',\n",
       " 'southbi01',\n",
       " 'spaldal01',\n",
       " 'speaktr01',\n",
       " 'spencha99',\n",
       " 'stahlch01',\n",
       " 'stahlja01',\n",
       " 'stallge01',\n",
       " 'stanked01',\n",
       " 'startjo01',\n",
       " 'stengca01',\n",
       " 'stovage01',\n",
       " 'stoveha01',\n",
       " 'streega01',\n",
       " 'striccu01',\n",
       " 'stricge01',\n",
       " 'stubimo01',\n",
       " 'sukefcl01',\n",
       " 'sullibi03',\n",
       " 'sulliha02',\n",
       " 'sullipa99',\n",
       " 'sullite01',\n",
       " 'sveumda01',\n",
       " 'sweasch01',\n",
       " 'swiftbo01',\n",
       " 'tannech01',\n",
       " 'tappeel01',\n",
       " 'tayloge99',\n",
       " 'tayloza02',\n",
       " 'tebbebi01',\n",
       " 'tebeapa01',\n",
       " 'tenacge01',\n",
       " 'tennefr02',\n",
       " 'terrybi01',\n",
       " 'thomafr99',\n",
       " 'thompam99',\n",
       " 'tigheja99',\n",
       " 'tinkejo01',\n",
       " 'torboje01',\n",
       " 'torrejo01',\n",
       " 'toscaca99',\n",
       " 'tracedi01',\n",
       " 'tracyji01',\n",
       " 'trammal01',\n",
       " 'traynpi01',\n",
       " 'trebeto99',\n",
       " 'trembda99',\n",
       " 'trottsa01',\n",
       " 'turnete99',\n",
       " 'unglabo01',\n",
       " 'valenbo02',\n",
       " 'vanhage01',\n",
       " 'varshga01',\n",
       " 'venturo01',\n",
       " 'vernomi01',\n",
       " 'virdobi01',\n",
       " 'vittos01',\n",
       " 'vondech99',\n",
       " 'vukovjo01',\n",
       " 'wagnehe01',\n",
       " 'wagneho01',\n",
       " 'wakamdo01',\n",
       " 'walkeha01',\n",
       " 'wallabo01',\n",
       " 'walshed01',\n",
       " 'walshmi99',\n",
       " 'waltebu01',\n",
       " 'waltzjo99',\n",
       " 'wardjo01',\n",
       " 'washiro01',\n",
       " 'wathajo01',\n",
       " 'watkibi01',\n",
       " 'watkiha99',\n",
       " 'weaveea99',\n",
       " 'wedgeer01',\n",
       " 'weisswa01',\n",
       " 'westrwe01',\n",
       " 'wheelha01',\n",
       " 'whitede01',\n",
       " 'whitejo01',\n",
       " 'whitewa01',\n",
       " 'whitewi01',\n",
       " 'wilbede01',\n",
       " 'wilheka01',\n",
       " 'willidi02',\n",
       " 'williji03',\n",
       " 'williji99',\n",
       " 'willima04',\n",
       " 'willite01',\n",
       " 'willsma01',\n",
       " 'wilsoji01',\n",
       " 'winebo01',\n",
       " 'wingoiv01',\n",
       " 'winklbo99',\n",
       " 'wolfji01',\n",
       " 'wolveha01',\n",
       " 'woodge01',\n",
       " 'woodji01',\n",
       " 'wrighal99',\n",
       " 'wrighge01',\n",
       " 'wrighha01',\n",
       " 'yorkru01',\n",
       " 'yorkto01',\n",
       " 'yosted01',\n",
       " 'yostne01',\n",
       " 'youngcy01',\n",
       " 'youngni99',\n",
       " 'zimmech01',\n",
       " 'zimmedo01'}"
      ]
     },
     "execution_count": 20,
     "metadata": {},
     "output_type": "execute_result"
    }
   ],
   "source": [
    "# Note: We will be using this to check membership --> use a set for efficiency\n",
    "player_managers_IDs = set(map(lambda r: get(0, r), player_managers))\n",
    "player_managers_IDs = pipe(player_managers, \n",
    "                           map(get(0)), \n",
    "                           set)\n",
    "\n",
    "player_managers_IDs"
   ]
  },
  {
   "cell_type": "code",
   "execution_count": 28,
   "metadata": {
    "collapsed": false
   },
   "outputs": [
    {
     "data": {
      "text/plain": [
       "True"
      ]
     },
     "execution_count": 28,
     "metadata": {},
     "output_type": "execute_result"
    }
   ],
   "source": [
    "contains = curry(contains)\n",
    "run_filt_help = compose(contains(player_managers_IDs), get(0))\n",
    "run_filt_help(player_managers[0])"
   ]
  },
  {
   "cell_type": "code",
   "execution_count": null,
   "metadata": {
    "collapsed": true
   },
   "outputs": [],
   "source": []
  },
  {
   "cell_type": "code",
   "execution_count": 36,
   "metadata": {
    "collapsed": false
   },
   "outputs": [
    {
     "data": {
      "text/plain": [
       "274877"
      ]
     },
     "execution_count": 36,
     "metadata": {},
     "output_type": "execute_result"
    }
   ],
   "source": [
    "runs_filtered = filter(run_filt_help, drop(1, batting))\n",
    "runs = map(lambda r: len(get(7, r)) > 0 and int(get(7, r)), runs_filtered)\n",
    "\n",
    "sum(runs)"
   ]
  },
  {
   "cell_type": "code",
   "execution_count": null,
   "metadata": {
    "collapsed": true
   },
   "outputs": [],
   "source": [
    "runs = pipe(batting,\n",
    "           drop(1),\n",
    "           filter(runs_filtered),\n",
    "           map(compose(len,))"
   ]
  },
  {
   "cell_type": "code",
   "execution_count": null,
   "metadata": {
    "collapsed": true
   },
   "outputs": [],
   "source": [
    "runs_map_help = lambda r: len(get(7, r)) > 0 and int(get(7, r))\n",
    "\n",
    "runs_map_help "
   ]
  },
  {
   "cell_type": "code",
   "execution_count": 8,
   "metadata": {
    "collapsed": false
   },
   "outputs": [
    {
     "ename": "TypeError",
     "evalue": "unsupported operand type(s) for +: 'int' and 'str'",
     "output_type": "error",
     "traceback": [
      "\u001b[0;31m---------------------------------------------------------------------------\u001b[0m",
      "\u001b[0;31mTypeError\u001b[0m                                 Traceback (most recent call last)",
      "\u001b[0;32m<ipython-input-8-efe69a25c7cf>\u001b[0m in \u001b[0;36m<module>\u001b[0;34m()\u001b[0m\n\u001b[1;32m      7\u001b[0m                          get(-1))),\n\u001b[1;32m      8\u001b[0m            \u001b[0mmap\u001b[0m\u001b[0;34m(\u001b[0m\u001b[0mget\u001b[0m\u001b[0;34m(\u001b[0m\u001b[0;36m0\u001b[0m\u001b[0;34m)\u001b[0m\u001b[0;34m)\u001b[0m\u001b[0;34m,\u001b[0m\u001b[0;34m\u001b[0m\u001b[0m\n\u001b[0;32m----> 9\u001b[0;31m            sum)\n\u001b[0m",
      "\u001b[0;32m/Users/bn8210wy/.pyenv/versions/3.5.2/envs/runestone/lib/python3.5/site-packages/toolz/functoolz.py\u001b[0m in \u001b[0;36mpipe\u001b[0;34m(data, *funcs)\u001b[0m\n\u001b[1;32m    550\u001b[0m     \"\"\"\n\u001b[1;32m    551\u001b[0m     \u001b[0;32mfor\u001b[0m \u001b[0mfunc\u001b[0m \u001b[0;32min\u001b[0m \u001b[0mfuncs\u001b[0m\u001b[0;34m:\u001b[0m\u001b[0;34m\u001b[0m\u001b[0m\n\u001b[0;32m--> 552\u001b[0;31m         \u001b[0mdata\u001b[0m \u001b[0;34m=\u001b[0m \u001b[0mfunc\u001b[0m\u001b[0;34m(\u001b[0m\u001b[0mdata\u001b[0m\u001b[0;34m)\u001b[0m\u001b[0;34m\u001b[0m\u001b[0m\n\u001b[0m\u001b[1;32m    553\u001b[0m     \u001b[0;32mreturn\u001b[0m \u001b[0mdata\u001b[0m\u001b[0;34m\u001b[0m\u001b[0m\n\u001b[1;32m    554\u001b[0m \u001b[0;34m\u001b[0m\u001b[0m\n",
      "\u001b[0;31mTypeError\u001b[0m: unsupported operand type(s) for +: 'int' and 'str'"
     ]
    }
   ],
   "source": [
    "from toolz import pipe, compose\n",
    "from toolz.curried import get, map, filter\n",
    "from operator import eq\n",
    "\n",
    "runs = pipe(managers,\n",
    "           filter(compose(lambda mgr: eq(mgr, 'Y'),\n",
    "                         get(-1))),\n",
    "           map(get(0)),\n",
    "           sum)"
   ]
  },
  {
   "cell_type": "markdown",
   "metadata": {},
   "source": [
    "<font color=\"red\">**Question 2:**</font> Create a table of statistics on pitching that contains the following information:\n",
    "\n",
    "* players_name, \n",
    "* year, \n",
    "* team_name,\n",
    "* wins(W), \n",
    "* losses(L), \n",
    "* complete games (CG), \n",
    "* innings pitched (IP)\n",
    "\n",
    "Write this information to a file named **PitchingNames.csv** and include this file with your submission.\n",
    "\n",
    "**Edit:** Do this for the last 10 years.\n",
    "\n",
    "**Relevant Files:** Pitching.csv, Master.csv, Teams.csv"
   ]
  },
  {
   "cell_type": "code",
   "execution_count": 15,
   "metadata": {
    "collapsed": true
   },
   "outputs": [],
   "source": [
    "pitching = read_csv('Pitching.csv')\n",
    "master = read_csv('Master.csv')\n",
    "teams = read_csv('Teams.csv')"
   ]
  },
  {
   "cell_type": "code",
   "execution_count": 16,
   "metadata": {
    "collapsed": true
   },
   "outputs": [],
   "source": [
    "# Step 1: get the info from pitching.\n",
    "# We need playerID (0), yearId(1), teamID (3),wins (5), loses(6), complete games (9) and IPouts (12) \n",
    "# See enumeration in Question 3\n",
    "from toolz import drop\n",
    "filter_row = lambda r: get([0, 1, 3, 5, 6, 9, 12], r)\n",
    "pitching2006_2010_filt = filter(lambda r: 2006 <= int(get(1, r)) <= 2010, drop(1, pitching))\n",
    "pitching2006_2010 = list(map(filter_row, pitching2006_2010_filt))\n",
    "\n",
    "pitchersIDs = set(map(lambda r: get(0, r), pitching2006_2010))"
   ]
  },
  {
   "cell_type": "code",
   "execution_count": 17,
   "metadata": {
    "collapsed": true
   },
   "outputs": [],
   "source": [
    "raw_names_filt = filter(lambda r: get(0, r) in pitchersIDs, master)\n",
    "raw_names = map(lambda r: get([0, 13, 14], r), raw_names_filt)\n",
    "\n",
    "add_names = lambda row: (row[0], row[1] + \" \" + row[2])\n",
    "names = list(map(add_names, raw_names))"
   ]
  },
  {
   "cell_type": "code",
   "execution_count": 18,
   "metadata": {
    "collapsed": false
   },
   "outputs": [],
   "source": [
    "from itertools import product\n",
    "name_row = lambda tup: get(0, tup)\n",
    "info_row = lambda tup: get(1, tup)\n",
    "combined_row = lambda tup: get([1], name_row(tup)) + get([1, 2, 3, 4, 5, 6], info_row(tup))\n",
    "# The rows will be joined by mathcing playerIDs.  Here is a helper to do this.\n",
    "match_on_playerID = lambda tup: get(0, name_row(tup)) == get(0, info_row(tup))\n",
    "info_with_names_filt = filter(match_on_playerID, product(names, pitching2006_2010))\n",
    "info_with_names = list(map(combined_row, info_with_names_filt))"
   ]
  },
  {
   "cell_type": "code",
   "execution_count": 19,
   "metadata": {
    "collapsed": false
   },
   "outputs": [
    {
     "data": {
      "text/plain": [
       "[('yearID', 'teamID', 'name'),\n",
       " ('1871', 'BS1', 'Boston Red Stockings'),\n",
       " ('1871', 'CH1', 'Chicago White Stockings'),\n",
       " ('1871', 'CL1', 'Cleveland Forest Citys'),\n",
       " ('1871', 'FW1', 'Fort Wayne Kekiongas'),\n",
       " ('1871', 'NY2', 'New York Mutuals'),\n",
       " ('1871', 'PH1', 'Philadelphia Athletics'),\n",
       " ('1871', 'RC1', 'Rockford Forest Citys'),\n",
       " ('1871', 'TRO', 'Troy Haymakers'),\n",
       " ('1871', 'WS3', 'Washington Olympics')]"
      ]
     },
     "execution_count": 19,
     "metadata": {},
     "output_type": "execute_result"
    }
   ],
   "source": [
    "team_names_filt = filter(lambda r: get([0,2], r), teams)\n",
    "team_names = list(map(lambda r: get([0,2,40], r), team_names_filt))\n",
    "team_names[:10]"
   ]
  },
  {
   "cell_type": "code",
   "execution_count": 20,
   "metadata": {
    "collapsed": false
   },
   "outputs": [],
   "source": [
    "teamIDs = set(map(lambda r: get([1, 2], r), info_with_names))"
   ]
  },
  {
   "cell_type": "code",
   "execution_count": 21,
   "metadata": {
    "collapsed": false
   },
   "outputs": [
    {
     "data": {
      "text/plain": [
       "[('Greg Aquino', '2006', 'Arizona Diamondbacks', '2', '0', '0', '145'),\n",
       " ('Jeff Bajenaru', '2006', 'Arizona Diamondbacks', '0', '1', '0', '3'),\n",
       " ('Miguel Batista', '2006', 'Arizona Diamondbacks', '11', '8', '3', '619')]"
      ]
     },
     "execution_count": 21,
     "metadata": {},
     "output_type": "execute_result"
    }
   ],
   "source": [
    "info_row = lambda tup: get(1, tup)\n",
    "team_row = lambda tup: get(0, tup)\n",
    "combined_row = lambda tup: get([0,1], info_row(tup)) + get([2], team_row(tup)) + get([-4, -3, -2, -1], info_row(tup))\n",
    "\n",
    "join_on_teamID_year  = lambda tup: get(0, team_row(tup)) == get(1, info_row(tup)) and get(1, team_row(tup)) == get(2, info_row(tup))\n",
    "info_with_name_team_filt = filter(join_on_teamID_year, product(team_names, info_with_names))\n",
    "info_with_name_team = list(map(combined_row, info_with_name_team_filt))\n",
    "info_with_name_team[:3]"
   ]
  },
  {
   "cell_type": "code",
   "execution_count": 22,
   "metadata": {
    "collapsed": false
   },
   "outputs": [
    {
     "name": "stdout",
     "output_type": "stream",
     "text": [
      "Greg Aquino,2006,Arizona Diamondbacks,2,0,0,145\r\n",
      "Jeff Bajenaru,2006,Arizona Diamondbacks,0,1,0,3\r\n",
      "Miguel Batista,2006,Arizona Diamondbacks,11,8,3,619\r\n",
      "Randy Choate,2006,Arizona Diamondbacks,0,1,0,48\r\n",
      "Juan Cruz,2006,Arizona Diamondbacks,5,6,0,284\r\n",
      "cat: stdout: Broken pipe\r\n"
     ]
    }
   ],
   "source": [
    "from more_itertools import consume\n",
    "with open('PitchingNames.csv', 'w') as out:\n",
    "    joined_rows = map(lambda r: ','.join(r),info_with_name_team)\n",
    "    consume(map(lambda r: print(r, file=out), joined_rows))\n",
    "! cat PitchingNames.csv | head -n 5"
   ]
  },
  {
   "cell_type": "markdown",
   "metadata": {},
   "source": [
    "<font color=\"red\">**Question 3:**</font> Find the name of the pitcher and the associated team name for the pitcher with the lowest ERA (earned runs average) out of all pitchers between the years 1970 and 2010.  Limit your search to pitchers with at least 5 games pitched in a given year.\n",
    "\n",
    "** Relevant Files:** Pitching.csv, Master.csv, Teams.csv"
   ]
  },
  {
   "cell_type": "markdown",
   "metadata": {},
   "source": [
    "**Step 1:** Read in all three files."
   ]
  },
  {
   "cell_type": "code",
   "execution_count": 40,
   "metadata": {
    "collapsed": false
   },
   "outputs": [],
   "source": [
    "pitching = read_csv('Pitching.csv')\n",
    "master = read_csv('Master.csv')\n",
    "teams = read_csv('Teams.csv')"
   ]
  },
  {
   "cell_type": "markdown",
   "metadata": {},
   "source": [
    "**Step 2:** Filter the pitching table to only include the years 1970 to 2010."
   ]
  },
  {
   "cell_type": "code",
   "execution_count": 41,
   "metadata": {
    "collapsed": false
   },
   "outputs": [
    {
     "data": {
      "text/plain": [
       "[(0, 'playerID'),\n",
       " (1, 'yearID'),\n",
       " (2, 'stint'),\n",
       " (3, 'teamID'),\n",
       " (4, 'lgID'),\n",
       " (5, 'W'),\n",
       " (6, 'L'),\n",
       " (7, 'G'),\n",
       " (8, 'GS'),\n",
       " (9, 'CG'),\n",
       " (10, 'SHO'),\n",
       " (11, 'SV'),\n",
       " (12, 'IPouts'),\n",
       " (13, 'H'),\n",
       " (14, 'ER'),\n",
       " (15, 'HR'),\n",
       " (16, 'BB'),\n",
       " (17, 'SO'),\n",
       " (18, 'BAOpp'),\n",
       " (19, 'ERA'),\n",
       " (20, 'IBB'),\n",
       " (21, 'WP'),\n",
       " (22, 'HBP'),\n",
       " (23, 'BK'),\n",
       " (24, 'BFP'),\n",
       " (25, 'GF'),\n",
       " (26, 'R'),\n",
       " (27, 'SH'),\n",
       " (28, 'SF'),\n",
       " (29, 'GIDP')]"
      ]
     },
     "execution_count": 41,
     "metadata": {},
     "output_type": "execute_result"
    }
   ],
   "source": [
    "# Look at the pitching header to determine the location of year\n",
    "pitching_header = pitching[0]\n",
    "list(enumerate(pitching_header))"
   ]
  },
  {
   "cell_type": "code",
   "execution_count": 42,
   "metadata": {
    "collapsed": false
   },
   "outputs": [
    {
     "data": {
      "text/plain": [
       "[['abernte02',\n",
       "  '1970',\n",
       "  '1',\n",
       "  'CHN',\n",
       "  'NL',\n",
       "  '0',\n",
       "  '0',\n",
       "  '11',\n",
       "  '0',\n",
       "  '0',\n",
       "  '0',\n",
       "  '1',\n",
       "  '27',\n",
       "  '9',\n",
       "  '2',\n",
       "  '0',\n",
       "  '5',\n",
       "  '2',\n",
       "  '0.28',\n",
       "  '2',\n",
       "  '1',\n",
       "  '0',\n",
       "  '1',\n",
       "  '0',\n",
       "  '40',\n",
       "  '3',\n",
       "  '2',\n",
       "  '',\n",
       "  '',\n",
       "  '']]"
      ]
     },
     "execution_count": 42,
     "metadata": {},
     "output_type": "execute_result"
    }
   ],
   "source": [
    "pitching1970_2010 = list(filter(lambda r: 1970 <= int(get(1, r)) <= 2010, drop(1, pitching)))\n",
    "pitching1970_2010[:1]"
   ]
  },
  {
   "cell_type": "markdown",
   "metadata": {},
   "source": [
    "**Step 3:** Make a new table that contains the ERA (int) and playerID of each pitcher in the filtered list\n",
    "\n",
    "**Note** We also need to hang onto the year and teamID for later joins."
   ]
  },
  {
   "cell_type": "code",
   "execution_count": 43,
   "metadata": {
    "collapsed": false
   },
   "outputs": [],
   "source": [
    "# Pull out the raw string entries using get\n",
    "eras = list(map(lambda r: get([0,1,3,19], r), pitching1970_2010))\n",
    "# Map float to era, making sure we skip empty rows\n",
    "process_row = lambda r: get([0,1,2], r) + tuple(map(float, get([-1], r)))\n",
    "assert process_row(['a', 'b', 'c', '2.5']) == ('a', 'b', 'c', 2.5)"
   ]
  },
  {
   "cell_type": "code",
   "execution_count": 44,
   "metadata": {
    "collapsed": false
   },
   "outputs": [
    {
     "data": {
      "text/plain": [
       "[('abernte02', '1970', 'CHN', 2.0),\n",
       " ('abernte02', '1970', 'KCA', 2.59),\n",
       " ('abernte02', '1970', 'SLN', 2.95)]"
      ]
     },
     "execution_count": 44,
     "metadata": {},
     "output_type": "execute_result"
    }
   ],
   "source": [
    "eras = list(filter(lambda r: len(get(-1, r)) > 0, eras))\n",
    "eras = list(map(process_row, eras))\n",
    "# NOTE we will use an abstraction to allow us to do this in one step in a later exercise\n",
    "eras[:3]"
   ]
  },
  {
   "cell_type": "markdown",
   "metadata": {},
   "source": [
    "**Step 4:** Use `min` with a key function (see **Section 4.3.4** of the book) to identify the player with the lowest ERA"
   ]
  },
  {
   "cell_type": "code",
   "execution_count": 45,
   "metadata": {
    "collapsed": false
   },
   "outputs": [
    {
     "data": {
      "text/plain": [
       "('bolinbo01', '1970', 'BOS', 0.0)"
      ]
     },
     "execution_count": 45,
     "metadata": {},
     "output_type": "execute_result"
    }
   ],
   "source": [
    "# We are sorting by era, which has index 2\n",
    "key_func = lambda r: get(3, r)\n",
    "min_era = min(eras, key=key_func)\n",
    "min_era"
   ]
  },
  {
   "cell_type": "code",
   "execution_count": 46,
   "metadata": {
    "collapsed": false
   },
   "outputs": [
    {
     "data": {
      "text/plain": [
       "'bolinbo01'"
      ]
     },
     "execution_count": 46,
     "metadata": {},
     "output_type": "execute_result"
    }
   ],
   "source": [
    "min_player, min_year, min_team, min_era = min_era\n",
    "min_player"
   ]
  },
  {
   "cell_type": "code",
   "execution_count": 47,
   "metadata": {
    "collapsed": false
   },
   "outputs": [
    {
     "data": {
      "text/plain": [
       "434"
      ]
     },
     "execution_count": 47,
     "metadata": {},
     "output_type": "execute_result"
    }
   ],
   "source": [
    "# BONUS - For fun lets find all players with that tie with this era\n",
    "ties = [r for r in eras if get(3, r) == min_era]\n",
    "list(filter(lambda r: get(3, r) == min_era, eras))\n",
    "len(ties)"
   ]
  },
  {
   "cell_type": "code",
   "execution_count": 48,
   "metadata": {
    "collapsed": false
   },
   "outputs": [
    {
     "data": {
      "text/plain": [
       "[('bolinbo01', '1970', 'BOS', 0.0),\n",
       " ('jonesga01', '1970', 'NYA', 0.0),\n",
       " ('mcbeaal01', '1970', 'LAN', 0.0),\n",
       " ('molonri01', '1970', 'CHA', 0.0)]"
      ]
     },
     "execution_count": 48,
     "metadata": {},
     "output_type": "execute_result"
    }
   ],
   "source": [
    "ties[:4]"
   ]
  },
  {
   "cell_type": "markdown",
   "metadata": {},
   "source": [
    "**Step 5:** Use filters to get the name and the team of the player identified in the last step."
   ]
  },
  {
   "cell_type": "code",
   "execution_count": 49,
   "metadata": {
    "collapsed": false
   },
   "outputs": [
    {
     "data": {
      "text/plain": [
       "[(0, 'playerID'),\n",
       " (1, 'birthYear'),\n",
       " (2, 'birthMonth'),\n",
       " (3, 'birthDay'),\n",
       " (4, 'birthCountry'),\n",
       " (5, 'birthState'),\n",
       " (6, 'birthCity'),\n",
       " (7, 'deathYear'),\n",
       " (8, 'deathMonth'),\n",
       " (9, 'deathDay'),\n",
       " (10, 'deathCountry'),\n",
       " (11, 'deathState'),\n",
       " (12, 'deathCity'),\n",
       " (13, 'nameFirst'),\n",
       " (14, 'nameLast'),\n",
       " (15, 'nameGiven'),\n",
       " (16, 'weight'),\n",
       " (17, 'height'),\n",
       " (18, 'bats'),\n",
       " (19, 'throws'),\n",
       " (20, 'debut'),\n",
       " (21, 'finalGame'),\n",
       " (22, 'retroID'),\n",
       " (23, 'bbrefID')]"
      ]
     },
     "execution_count": 49,
     "metadata": {},
     "output_type": "execute_result"
    }
   ],
   "source": [
    "# Use enumerate on the header to find the indexes for nameGiven\n",
    "master_header = master[0]\n",
    "list(enumerate(master_header))"
   ]
  },
  {
   "cell_type": "code",
   "execution_count": 51,
   "metadata": {
    "collapsed": false
   },
   "outputs": [
    {
     "data": {
      "text/plain": [
       "'Bobby Bolin'"
      ]
     },
     "execution_count": 51,
     "metadata": {},
     "output_type": "execute_result"
    }
   ],
   "source": [
    "# Get the  name by matching with id\n",
    "# Note that the name sill be first + last\n",
    "from toolz import first\n",
    "add_name = lambda row: row[0] + \" \" + row[1]\n",
    "player_name_filt = filter(lambda r: get(0, r) == min_player, master)\n",
    "player_name_map = map(lambda r: add_name(get([13, 14], r)), player_name_filt)\n",
    "player_name = first(player_name_map)\n",
    "player_name"
   ]
  },
  {
   "cell_type": "code",
   "execution_count": 52,
   "metadata": {
    "collapsed": false
   },
   "outputs": [
    {
     "data": {
      "text/plain": [
       "[(0, 'yearID'),\n",
       " (1, 'lgID'),\n",
       " (2, 'teamID'),\n",
       " (3, 'franchID'),\n",
       " (4, 'divID'),\n",
       " (5, 'Rank'),\n",
       " (6, 'G'),\n",
       " (7, 'Ghome'),\n",
       " (8, 'W'),\n",
       " (9, 'L'),\n",
       " (10, 'DivWin'),\n",
       " (11, 'WCWin'),\n",
       " (12, 'LgWin'),\n",
       " (13, 'WSWin'),\n",
       " (14, 'R'),\n",
       " (15, 'AB'),\n",
       " (16, 'H'),\n",
       " (17, '2B'),\n",
       " (18, '3B'),\n",
       " (19, 'HR'),\n",
       " (20, 'BB'),\n",
       " (21, 'SO'),\n",
       " (22, 'SB'),\n",
       " (23, 'CS'),\n",
       " (24, 'HBP'),\n",
       " (25, 'SF'),\n",
       " (26, 'RA'),\n",
       " (27, 'ER'),\n",
       " (28, 'ERA'),\n",
       " (29, 'CG'),\n",
       " (30, 'SHO'),\n",
       " (31, 'SV'),\n",
       " (32, 'IPouts'),\n",
       " (33, 'HA'),\n",
       " (34, 'HRA'),\n",
       " (35, 'BBA'),\n",
       " (36, 'SOA'),\n",
       " (37, 'E'),\n",
       " (38, 'DP'),\n",
       " (39, 'FP'),\n",
       " (40, 'name'),\n",
       " (41, 'park'),\n",
       " (42, 'attendance'),\n",
       " (43, 'BPF'),\n",
       " (44, 'PPF'),\n",
       " (45, 'teamIDBR'),\n",
       " (46, 'teamIDlahman45'),\n",
       " (47, 'teamIDretro')]"
      ]
     },
     "execution_count": 52,
     "metadata": {},
     "output_type": "execute_result"
    }
   ],
   "source": [
    "team_header = teams[0]\n",
    "list(enumerate(team_header))"
   ]
  },
  {
   "cell_type": "code",
   "execution_count": 53,
   "metadata": {
    "collapsed": false
   },
   "outputs": [
    {
     "data": {
      "text/plain": [
       "'Boston Red Sox'"
      ]
     },
     "execution_count": 53,
     "metadata": {},
     "output_type": "execute_result"
    }
   ],
   "source": [
    "from toolz import get_in\n",
    "team_name_filt = list(filter(lambda r: get(0, r) == min_year and get(2, r) == min_team, teams))\n",
    "team_name = get_in([0,-8], team_name_filt)\n",
    "team_name"
   ]
  },
  {
   "cell_type": "code",
   "execution_count": 54,
   "metadata": {
    "collapsed": false
   },
   "outputs": [
    {
     "data": {
      "text/plain": [
       "('Bobby Bolin', 'Boston Red Sox', '1970', 0.0)"
      ]
     },
     "execution_count": 54,
     "metadata": {},
     "output_type": "execute_result"
    }
   ],
   "source": [
    "player_name, team_name, min_year, min_era"
   ]
  }
 ],
 "metadata": {
  "anaconda-cloud": {},
  "kernelspec": {
   "display_name": "Python 3",
   "language": "python",
   "name": "python3"
  },
  "language_info": {
   "codemirror_mode": {
    "name": "ipython",
    "version": 3
   },
   "file_extension": ".py",
   "mimetype": "text/x-python",
   "name": "python",
   "nbconvert_exporter": "python",
   "pygments_lexer": "ipython3",
   "version": "3.5.2"
  }
 },
 "nbformat": 4,
 "nbformat_minor": 0
}
