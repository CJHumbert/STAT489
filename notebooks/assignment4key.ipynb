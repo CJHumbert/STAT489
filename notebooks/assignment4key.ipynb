{
 "cells": [
  {
   "cell_type": "markdown",
   "metadata": {
    "collapsed": true
   },
   "source": [
    "**Problem 1**\n",
    "\n",
    "In Robert McCloskey’s book Make Way for Ducklings, the names of the ducklings are Jack, Kack, Lack, Mack, Nack, Ouack, Pack, and Quack. This loop tries to output these names in order.\n",
    "\n",
    "    prefixes = \"JKLMNOPQ\"\n",
    "    suffix = \"ack\"\n",
    "\n",
    "    words = [first + suffix for first in prefixes]\n",
    "\n",
    "Of course, that’s not quite right because Ouack and Quack are misspelled. Can you fix it?"
   ]
  },
  {
   "cell_type": "code",
   "execution_count": 3,
   "metadata": {
    "collapsed": false
   },
   "outputs": [],
   "source": [
    "prefixes = \"JKLMNOPQ\"\n",
    "suffix = \"ack\"\n",
    "\n",
    "proper_prefix = lambda ch: ch + 'u' if ch in 'OQ' else ch \n",
    "words = [proper_prefix(first) + suffix for first in prefixes]\n",
    "assert words == ['Jack', 'Kack', 'Lack', 'Mack', 'Nack', 'Ouack', 'Pack', 'Quack']"
   ]
  },
  {
   "cell_type": "markdown",
   "metadata": {},
   "source": [
    "**Problem 3**\n",
    "\n",
    "Write a function that reverses its string argument."
   ]
  },
  {
   "cell_type": "code",
   "execution_count": 9,
   "metadata": {
    "collapsed": true
   },
   "outputs": [],
   "source": [
    "reverse_str = lambda s: \"\".join([ch for ch in reversed(s)])\n",
    "assert reverse_str(\"Python\") == \"nohtyP\""
   ]
  },
  {
   "cell_type": "markdown",
   "metadata": {},
   "source": [
    "**Problem 5**\n",
    "\n",
    "Write a function that removes all occurrences of a given letter from a string."
   ]
  },
  {
   "cell_type": "code",
   "execution_count": 10,
   "metadata": {
    "collapsed": true
   },
   "outputs": [],
   "source": [
    "remove_char = lambda ch, s: \"\".join(s.split(ch))\n",
    "assert remove_char('y', \"Python\") == \"Pthon\""
   ]
  },
  {
   "cell_type": "markdown",
   "metadata": {},
   "source": [
    "**Problem 7**\n",
    "\n",
    "Write a function that removes all occurrences of a string from another string. Do not use the remove string method in your solution."
   ]
  },
  {
   "cell_type": "code",
   "execution_count": 11,
   "metadata": {
    "collapsed": true
   },
   "outputs": [],
   "source": [
    "remove_substring = lambda substring, s: \"\".join(s.split(substring))\n",
    "assert remove_substring('yt', 'Python') == 'Phon'"
   ]
  },
  {
   "cell_type": "markdown",
   "metadata": {},
   "source": [
    "**Problem 8**\n",
    "\n",
    "Create a list containing 100 random integers between 0 and 1000 (use iteration, a comprehension, and the random module). Write a function called average that will take the list as a parameter and return the average."
   ]
  },
  {
   "cell_type": "code",
   "execution_count": 12,
   "metadata": {
    "collapsed": true
   },
   "outputs": [],
   "source": [
    "from random import randint\n",
    "\n",
    "randint_sample = lambda n, m: [randint(1,m) for i in range(n+1)]\n",
    "samp = randint_sample(100, 1000)\n",
    "average = lambda L: sum(L)/len(L)\n",
    "assert average([1,2,3,4,5]) == 3"
   ]
  },
  {
   "cell_type": "markdown",
   "metadata": {},
   "source": [
    "**Problem 10**\n",
    "\n",
    "Write a function that computes the mean of n randomly selected values taken from a normal distribution with mean m and standard deviation sd."
   ]
  },
  {
   "cell_type": "code",
   "execution_count": 14,
   "metadata": {
    "collapsed": false
   },
   "outputs": [
    {
     "name": "stdout",
     "output_type": "stream",
     "text": [
      "5.5765653327360925\n"
     ]
    }
   ],
   "source": [
    "from random import normalvariate\n",
    "\n",
    "mean_normal = lambda n, m, sd: average([normalvariate(m, sd) for i in range(n)])\n",
    "print(mean_normal(10, 5, 2))"
   ]
  },
  {
   "cell_type": "markdown",
   "metadata": {},
   "source": [
    "**Problem 11**\n",
    "\n",
    "Write a function sum_of_squares(xs) that computes the sum of the squares of the numbers in the list xs. For example, sum_of_squares([2, 3, 4]) should return 4+9+16 which is 29:"
   ]
  },
  {
   "cell_type": "code",
   "execution_count": 16,
   "metadata": {
    "collapsed": true
   },
   "outputs": [],
   "source": [
    "sum_of_squares = lambda L: sum([x**2 for x in L])\n",
    "assert sum_of_squares([2,3,4]) == 29\n",
    "assert sum_of_squares([]) == 0\n",
    "assert sum_of_squares([1]) == 1"
   ]
  },
  {
   "cell_type": "markdown",
   "metadata": {},
   "source": [
    "**Problem 13**\n",
    "\n",
    "Sum up all the even numbers in a list."
   ]
  },
  {
   "cell_type": "code",
   "execution_count": 17,
   "metadata": {
    "collapsed": true
   },
   "outputs": [],
   "source": [
    "sum_even = lambda L: sum([i for i in L if i % 2 == 0])\n",
    "assert sum_even([]) == 0\n",
    "assert sum_even([1]) == 0\n",
    "assert sum_even([2]) == 2\n",
    "assert sum_even([1,2,3,4,5]) == 6"
   ]
  },
  {
   "cell_type": "markdown",
   "metadata": {},
   "source": [
    "**Problem 15**\n",
    "\n",
    "Count how many words in a list have length 5."
   ]
  },
  {
   "cell_type": "code",
   "execution_count": 18,
   "metadata": {
    "collapsed": true
   },
   "outputs": [],
   "source": [
    "num_greater_5 = lambda L: len([s for s in L if len(s) > 5])\n",
    "assert num_greater_5([]) == 0\n",
    "assert num_greater_5(['a']) == 0\n",
    "assert num_greater_5(['a', 'fifteen']) == 1\n",
    "assert num_greater_5(['Python', 'is', 'awesome', '!']) == 2"
   ]
  },
  {
   "cell_type": "markdown",
   "metadata": {},
   "source": [
    "**Problem 16**\n",
    "\n",
    " Count how many words in Emma have length of at least 5."
   ]
  },
  {
   "cell_type": "code",
   "execution_count": 1,
   "metadata": {
    "collapsed": false
   },
   "outputs": [
    {
     "ename": "NameError",
     "evalue": "name 'num_greater_5' is not defined",
     "output_type": "error",
     "traceback": [
      "\u001b[0;31m---------------------------------------------------------------------------\u001b[0m",
      "\u001b[0;31mNameError\u001b[0m                                 Traceback (most recent call last)",
      "\u001b[0;32m<ipython-input-1-3346ac235331>\u001b[0m in \u001b[0;36m<module>\u001b[0;34m()\u001b[0m\n\u001b[1;32m     16\u001b[0m \u001b[0memma\u001b[0m \u001b[0;34m=\u001b[0m \u001b[0mclean_text\u001b[0m\u001b[0;34m(\u001b[0m\u001b[0memma\u001b[0m\u001b[0;34m)\u001b[0m\u001b[0;34m\u001b[0m\u001b[0m\n\u001b[1;32m     17\u001b[0m \u001b[0memma_words\u001b[0m \u001b[0;34m=\u001b[0m \u001b[0memma\u001b[0m\u001b[0;34m.\u001b[0m\u001b[0msplit\u001b[0m\u001b[0;34m(\u001b[0m\u001b[0;34m)\u001b[0m\u001b[0;34m\u001b[0m\u001b[0m\n\u001b[0;32m---> 18\u001b[0;31m \u001b[0;32massert\u001b[0m \u001b[0mnum_greater_5\u001b[0m\u001b[0;34m(\u001b[0m\u001b[0memma_words\u001b[0m\u001b[0;34m)\u001b[0m \u001b[0;34m==\u001b[0m \u001b[0;36m38250\u001b[0m\u001b[0;34m\u001b[0m\u001b[0m\n\u001b[0m",
      "\u001b[0;31mNameError\u001b[0m: name 'num_greater_5' is not defined"
     ]
    }
   ],
   "source": [
    "from string import punctuation as punc\n",
    "from nltk.corpus import gutenberg\n",
    "emma = gutenberg.raw('austen-emma.txt')\n",
    "\n",
    "remove_title = lambda s: ''.join(s.split(']')[1:])\n",
    "remove_chapter = lambda s: '\\n'.join([substring \n",
    "                                      for substring in s.split('\\n') \n",
    "                                      if not substring.startswith('CHA')])\n",
    "remove_volume = lambda s:  '\\n'.join([substring \n",
    "                                      for substring in s.split('\\n') \n",
    "                                      if not substring.startswith('VOL')])\n",
    "remove_punc = lambda s: ''.join([' ' if ch in punc else ch for ch in s])\n",
    "lower_case = lambda s: s.lower()\n",
    "clean_text = lambda s: lower_case(remove_punc(remove_volume(remove_chapter(remove_title(s)))))\n",
    "\n",
    "emma = clean_text(emma)\n",
    "emma_words = emma.split()\n",
    "assert num_greater_5(emma_words) == 38250"
   ]
  },
  {
   "cell_type": "code",
   "execution_count": null,
   "metadata": {
    "collapsed": true
   },
   "outputs": [],
   "source": []
  }
 ],
 "metadata": {
  "kernelspec": {
   "display_name": "Python 3",
   "language": "python",
   "name": "python3"
  },
  "language_info": {
   "codemirror_mode": {
    "name": "ipython",
    "version": 3
   },
   "file_extension": ".py",
   "mimetype": "text/x-python",
   "name": "python",
   "nbconvert_exporter": "python",
   "pygments_lexer": "ipython3",
   "version": "3.5.2"
  }
 },
 "nbformat": 4,
 "nbformat_minor": 2
}
