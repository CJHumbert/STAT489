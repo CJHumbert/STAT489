{
 "cells": [
  {
   "cell_type": "markdown",
   "metadata": {},
   "source": [
    "## Tables and Dictionaries"
   ]
  },
  {
   "cell_type": "markdown",
   "metadata": {},
   "source": [
    "## `unzip` is the inverse of `zip`"
   ]
  },
  {
   "cell_type": "markdown",
   "metadata": {},
   "source": [
    "### `unzip` a table = transpose"
   ]
  },
  {
   "cell_type": "code",
   "execution_count": 64,
   "metadata": {
    "collapsed": false
   },
   "outputs": [
    {
     "data": {
      "text/plain": [
       "[('name', 'Ann', 'Bob', 'Alice'),\n",
       " ('hours', '42', '55', '12'),\n",
       " ('rate', '37.5', '7.5', '225')]"
      ]
     },
     "execution_count": 64,
     "metadata": {},
     "output_type": "execute_result"
    }
   ],
   "source": [
    "# zip is lazy\n",
    "# We use list to force completion here\n",
    "unzip = lambda seq: list(zip(*seq))\n",
    "\n",
    "hours = [['name', 'hours', 'rate'],\n",
    "        ['Ann', '42', '37.5'],\n",
    "        ['Bob', '55', '7.5'],\n",
    "        ['Alice', '12', '225']]\n",
    "transpose = unzip(hours)\n",
    "transpose"
   ]
  },
  {
   "cell_type": "markdown",
   "metadata": {},
   "source": [
    "## Making a column dictionary"
   ]
  },
  {
   "cell_type": "markdown",
   "metadata": {},
   "source": [
    "#### Task: Turn the transpose into a dictionary\n",
    "\n",
    "* header string is key\n",
    "* rest of the list is val"
   ]
  },
  {
   "cell_type": "code",
   "execution_count": 65,
   "metadata": {
    "collapsed": false
   },
   "outputs": [
    {
     "data": {
      "text/plain": [
       "{'hours': ('42', '55', '12'),\n",
       " 'name': ('Ann', 'Bob', 'Alice'),\n",
       " 'rate': ('37.5', '7.5', '225')}"
      ]
     },
     "execution_count": 65,
     "metadata": {},
     "output_type": "execute_result"
    }
   ],
   "source": [
    "from toolz import get\n",
    "columns = {get(0, col):col[1:] for col in transpose}\n",
    "columns"
   ]
  },
  {
   "cell_type": "markdown",
   "metadata": {},
   "source": [
    "## Use `first` and `drop` to clean up the code\n",
    "\n",
    "* get(0, col):col[1:] is obtuse\n",
    "* use `first` and `drop`"
   ]
  },
  {
   "cell_type": "code",
   "execution_count": 17,
   "metadata": {
    "collapsed": false
   },
   "outputs": [
    {
     "name": "stdout",
     "output_type": "stream",
     "text": [
      "Help on function first in module toolz.itertoolz:\n",
      "\n",
      "first(seq)\n",
      "    The first element in a sequence\n",
      "    \n",
      "    >>> first('ABC')\n",
      "    'A'\n",
      "\n"
     ]
    }
   ],
   "source": [
    "from toolz import first, drop\n",
    "help(first)"
   ]
  },
  {
   "cell_type": "code",
   "execution_count": 24,
   "metadata": {
    "collapsed": false
   },
   "outputs": [
    {
     "name": "stdout",
     "output_type": "stream",
     "text": [
      "Help on function drop in module toolz.itertoolz:\n",
      "\n",
      "drop(n, seq)\n",
      "    The sequence following the first n elements\n",
      "    \n",
      "    >>> list(drop(2, [10, 20, 30, 40, 50]))\n",
      "    [30, 40, 50]\n",
      "    \n",
      "    See Also:\n",
      "        take\n",
      "        tail\n",
      "\n"
     ]
    }
   ],
   "source": [
    "help(drop)\n",
    "# Note: drop is lazy\n",
    "rest = lambda seq: list(drop(1, seq))"
   ]
  },
  {
   "cell_type": "markdown",
   "metadata": {},
   "source": [
    "### Use `first` and `rest` in place of `get(0,col):col[1:]` "
   ]
  },
  {
   "cell_type": "code",
   "execution_count": 49,
   "metadata": {
    "collapsed": false
   },
   "outputs": [
    {
     "data": {
      "text/plain": [
       "{'hours': ('42', '55', '12'),\n",
       " 'name': ('Ann', 'Bob', 'Alice'),\n",
       " 'rate': ('37.5', '7.5', '225')}"
      ]
     },
     "execution_count": 49,
     "metadata": {},
     "output_type": "execute_result"
    }
   ],
   "source": [
    "columns = {get(0, col):col[1:] for col in transpose}\n",
    "columns"
   ]
  },
  {
   "cell_type": "code",
   "execution_count": 50,
   "metadata": {
    "collapsed": false
   },
   "outputs": [
    {
     "data": {
      "text/plain": [
       "{'hours': ['42', '55', '12'],\n",
       " 'name': ['Ann', 'Bob', 'Alice'],\n",
       " 'rate': ['37.5', '7.5', '225']}"
      ]
     },
     "execution_count": 50,
     "metadata": {},
     "output_type": "execute_result"
    }
   ],
   "source": [
    "columns = {first(col):rest(col) for col in transpose}\n",
    "columns"
   ]
  },
  {
   "cell_type": "markdown",
   "metadata": {},
   "source": [
    "## Column transformations\n",
    "\n",
    "* Now we can transform a column\n",
    "    * Apply conversion functions\n",
    "    * Perform column operations like Excel"
   ]
  },
  {
   "cell_type": "markdown",
   "metadata": {},
   "source": [
    "### <font color='red'> Task: Change hours to ints</font>"
   ]
  },
  {
   "cell_type": "markdown",
   "metadata": {},
   "source": [
    "#### Use `get` to get the hours column"
   ]
  },
  {
   "cell_type": "code",
   "execution_count": 38,
   "metadata": {
    "collapsed": false
   },
   "outputs": [
    {
     "data": {
      "text/plain": [
       "[42, 55, 12]"
      ]
     },
     "execution_count": 38,
     "metadata": {},
     "output_type": "execute_result"
    }
   ],
   "source": [
    "get('hours', columns)"
   ]
  },
  {
   "cell_type": "markdown",
   "metadata": {},
   "source": [
    "#### Write a list comprehension to convert the hours to ints"
   ]
  },
  {
   "cell_type": "code",
   "execution_count": 39,
   "metadata": {
    "collapsed": false,
    "scrolled": true
   },
   "outputs": [
    {
     "data": {
      "text/plain": [
       "[42, 55, 12]"
      ]
     },
     "execution_count": 39,
     "metadata": {},
     "output_type": "execute_result"
    }
   ],
   "source": [
    "[int(val) for val in get('hours', columns)]"
   ]
  },
  {
   "cell_type": "markdown",
   "metadata": {},
   "source": [
    "#### Turn your expression into a function"
   ]
  },
  {
   "cell_type": "code",
   "execution_count": 40,
   "metadata": {
    "collapsed": false,
    "scrolled": true
   },
   "outputs": [
    {
     "data": {
      "text/plain": [
       "[42, 55, 12]"
      ]
     },
     "execution_count": 40,
     "metadata": {},
     "output_type": "execute_result"
    }
   ],
   "source": [
    "col_to_int_col = lambda col_key, col_dict: [int(val) for val in get(col_key, col_dict)]\n",
    "col_to_int_col('hours', columns)"
   ]
  },
  {
   "cell_type": "markdown",
   "metadata": {},
   "source": [
    "#### Use `assoc` and your conversion function to make a new updated dictionary"
   ]
  },
  {
   "cell_type": "code",
   "execution_count": 41,
   "metadata": {
    "collapsed": false
   },
   "outputs": [
    {
     "data": {
      "text/plain": [
       "{'hours': [42, 55, 12],\n",
       " 'name': ['Ann', 'Bob', 'Alice'],\n",
       " 'rate': ['37.5', '7.5', '225']}"
      ]
     },
     "execution_count": 41,
     "metadata": {},
     "output_type": "execute_result"
    }
   ],
   "source": [
    "from toolz import assoc\n",
    "assoc(columns, 'hours', col_to_int_col('hours', columns))"
   ]
  },
  {
   "cell_type": "markdown",
   "metadata": {},
   "source": [
    "#### Turn your expression into a function"
   ]
  },
  {
   "cell_type": "code",
   "execution_count": 42,
   "metadata": {
    "collapsed": false
   },
   "outputs": [
    {
     "data": {
      "text/plain": [
       "{'hours': [42, 55, 12],\n",
       " 'name': ['Ann', 'Bob', 'Alice'],\n",
       " 'rate': ['37.5', '7.5', '225']}"
      ]
     },
     "execution_count": 42,
     "metadata": {},
     "output_type": "execute_result"
    }
   ],
   "source": [
    "convert_col_to_int = lambda col_key, col_dict: assoc(col_dict, col_key, col_to_int_col(col_key, col_dict))\n",
    "convert_col_to_int('hours', columns)"
   ]
  },
  {
   "cell_type": "code",
   "execution_count": null,
   "metadata": {
    "collapsed": true
   },
   "outputs": [],
   "source": []
  },
  {
   "cell_type": "markdown",
   "metadata": {},
   "source": [
    "### Task: Change rates to floats"
   ]
  },
  {
   "cell_type": "markdown",
   "metadata": {},
   "source": [
    "#### Use `get` to get the rates column"
   ]
  },
  {
   "cell_type": "code",
   "execution_count": 44,
   "metadata": {
    "collapsed": false
   },
   "outputs": [
    {
     "data": {
      "text/plain": [
       "['37.5', '7.5', '225']"
      ]
     },
     "execution_count": 44,
     "metadata": {},
     "output_type": "execute_result"
    }
   ],
   "source": [
    "get('rate', columns)"
   ]
  },
  {
   "cell_type": "markdown",
   "metadata": {},
   "source": [
    "#### Write a list comprehension to convert the hours to ints"
   ]
  },
  {
   "cell_type": "code",
   "execution_count": 45,
   "metadata": {
    "collapsed": false,
    "scrolled": true
   },
   "outputs": [
    {
     "data": {
      "text/plain": [
       "[37.5, 7.5, 225.0]"
      ]
     },
     "execution_count": 45,
     "metadata": {},
     "output_type": "execute_result"
    }
   ],
   "source": [
    "[float(val) for val in get('rate', columns)]"
   ]
  },
  {
   "cell_type": "markdown",
   "metadata": {},
   "source": [
    "#### Turn your expression into a function"
   ]
  },
  {
   "cell_type": "code",
   "execution_count": 51,
   "metadata": {
    "collapsed": false,
    "scrolled": true
   },
   "outputs": [
    {
     "data": {
      "text/plain": [
       "[37.5, 7.5, 225.0]"
      ]
     },
     "execution_count": 51,
     "metadata": {},
     "output_type": "execute_result"
    }
   ],
   "source": [
    "col_to_float_col = lambda col_key, col_dict: [float(val) for val in get(col_key, col_dict)]\n",
    "col_to_float_col('rate', columns)"
   ]
  },
  {
   "cell_type": "markdown",
   "metadata": {},
   "source": [
    "#### Use `assoc` and your conversion function to make a new updated dictionary"
   ]
  },
  {
   "cell_type": "code",
   "execution_count": 52,
   "metadata": {
    "collapsed": false
   },
   "outputs": [
    {
     "data": {
      "text/plain": [
       "{'hours': ['42', '55', '12'],\n",
       " 'name': ['Ann', 'Bob', 'Alice'],\n",
       " 'rate': [37.5, 7.5, 225.0]}"
      ]
     },
     "execution_count": 52,
     "metadata": {},
     "output_type": "execute_result"
    }
   ],
   "source": [
    "from toolz import assoc\n",
    "assoc(columns, 'rate', col_to_float_col('rate', columns))"
   ]
  },
  {
   "cell_type": "markdown",
   "metadata": {},
   "source": [
    "#### Turn your expression into a function"
   ]
  },
  {
   "cell_type": "code",
   "execution_count": 55,
   "metadata": {
    "collapsed": false
   },
   "outputs": [
    {
     "data": {
      "text/plain": [
       "{'hours': ['42', '55', '12'],\n",
       " 'name': ['Ann', 'Bob', 'Alice'],\n",
       " 'rate': [37.5, 7.5, 225.0]}"
      ]
     },
     "execution_count": 55,
     "metadata": {},
     "output_type": "execute_result"
    }
   ],
   "source": [
    "convert_col_to_float = lambda col_key, col_dict: assoc(col_dict, col_key, col_to_float_col(col_key, col_dict))\n",
    "convert_col_to_float('rate', columns)"
   ]
  },
  {
   "cell_type": "markdown",
   "metadata": {},
   "source": [
    "## TIME TO UP OUR GAME!!!\n",
    "\n",
    "Write a few sentences comparing and contrasting `col_to_int_col` and `col_to_float_col`"
   ]
  },
  {
   "cell_type": "markdown",
   "metadata": {},
   "source": []
  },
  {
   "cell_type": "markdown",
   "metadata": {},
   "source": [
    "Write a few sentences comparning `convert_col_to_float` and `convert_col_to_int`"
   ]
  },
  {
   "cell_type": "markdown",
   "metadata": {},
   "source": []
  },
  {
   "cell_type": "markdown",
   "metadata": {},
   "source": [
    "Say some stuff about the DRY principle"
   ]
  },
  {
   "cell_type": "markdown",
   "metadata": {},
   "source": []
  },
  {
   "cell_type": "markdown",
   "metadata": {},
   "source": [
    "### <font color='red'>Task: Write a more general column conversion function</font>"
   ]
  },
  {
   "cell_type": "code",
   "execution_count": 56,
   "metadata": {
    "collapsed": true
   },
   "outputs": [],
   "source": [
    "col_to_float_col = lambda col_key, col_dict: [float(val) for val in get(col_key, col_dict)]\n",
    "col_to_int_col = lambda col_key, col_dict: [int(val) for val in get(col_key, col_dict)]"
   ]
  },
  {
   "cell_type": "code",
   "execution_count": 57,
   "metadata": {
    "collapsed": true
   },
   "outputs": [],
   "source": [
    "col_to_type = lambda convert, col_key, col_dict: [convert(val) for val in get(col_key, col_dict)]"
   ]
  },
  {
   "cell_type": "markdown",
   "metadata": {},
   "source": [
    "### <font color='red'>Task: Write a more general convert and update function</font>"
   ]
  },
  {
   "cell_type": "code",
   "execution_count": 58,
   "metadata": {
    "collapsed": true
   },
   "outputs": [],
   "source": [
    "convert_col_to_int = lambda col_key, col_dict: assoc(col_dict, col_key, col_to_int_col(col_key, col_dict))\n",
    "convert_col_to_float = lambda col_key, col_dict: assoc(col_dict, col_key, col_to_float_col(col_key, col_dict))"
   ]
  },
  {
   "cell_type": "code",
   "execution_count": 61,
   "metadata": {
    "collapsed": true
   },
   "outputs": [],
   "source": [
    "convert_col = lambda convert, col_key, col_dict: assoc(col_dict, col_key, col_to_type(convert, col_key, col_dict))"
   ]
  },
  {
   "cell_type": "code",
   "execution_count": 62,
   "metadata": {
    "collapsed": false
   },
   "outputs": [
    {
     "data": {
      "text/plain": [
       "{'hours': [42, 55, 12],\n",
       " 'name': ['Ann', 'Bob', 'Alice'],\n",
       " 'rate': ['37.5', '7.5', '225']}"
      ]
     },
     "execution_count": 62,
     "metadata": {},
     "output_type": "execute_result"
    }
   ],
   "source": [
    "convert_col(int, 'hours', columns)"
   ]
  },
  {
   "cell_type": "code",
   "execution_count": 63,
   "metadata": {
    "collapsed": false
   },
   "outputs": [
    {
     "data": {
      "text/plain": [
       "{'hours': ['42', '55', '12'],\n",
       " 'name': ['Ann', 'Bob', 'Alice'],\n",
       " 'rate': [37.5, 7.5, 225.0]}"
      ]
     },
     "execution_count": 63,
     "metadata": {},
     "output_type": "execute_result"
    }
   ],
   "source": [
    "convert_col(float, 'rate', columns)"
   ]
  },
  {
   "cell_type": "markdown",
   "metadata": {},
   "source": [
    "# TIME TO BLOW YOUR MIND!!!!111!!one!!\n",
    "\n",
    "**Dewey:** *Alright, let's pray. God of ~~Rock~~ Code, thank you for this chance to kick ~~ass~~butt. We are your humble servants, please give us the power to blow people's minds with our high voltage ~~rock~~ code. In your name, we pray. Amen.*"
   ]
  },
  {
   "cell_type": "markdown",
   "metadata": {},
   "source": [
    "### <font color='red'>Task: Write a function to perform multiple conversion</font>\n",
    "\n",
    "* arguments\n",
    "    * conversion dictionary\n",
    "        * keys: col_keys to be converts\n",
    "        * values: conversion functions\n",
    "    * column_dictionary\n",
    "* returns an updated column dictionary"
   ]
  },
  {
   "cell_type": "markdown",
   "metadata": {},
   "source": [
    "#### Write a column conversion function\n",
    "\n",
    "* Arguments\n",
    "    * key\n",
    "    * conversion dictionary\n",
    "    * column \n",
    "* returns\n",
    "* converted column if key in conversion dictionary\n",
    "* original column, if not\n",
    "\n",
    "Hint: Use the `identity` function from `toolz` as the default for `get`"
   ]
  },
  {
   "cell_type": "markdown",
   "metadata": {},
   "source": [
    "#### Verify that `identity` is an identity function\n",
    "\n",
    "* Always returns the unchanged argument"
   ]
  },
  {
   "cell_type": "code",
   "execution_count": null,
   "metadata": {
    "collapsed": true
   },
   "outputs": [],
   "source": [
    "from toolz import identity"
   ]
  },
  {
   "cell_type": "markdown",
   "metadata": {},
   "source": [
    "#### Write a an expression for getting the right function for a key\n",
    "\n",
    "* Use `identity` as the default"
   ]
  },
  {
   "cell_type": "code",
   "execution_count": 80,
   "metadata": {
    "collapsed": false
   },
   "outputs": [
    {
     "data": {
      "text/plain": [
       "int"
      ]
     },
     "execution_count": 80,
     "metadata": {},
     "output_type": "execute_result"
    }
   ],
   "source": [
    "convert_dict = {'hours':int, 'rate':float}\n",
    "\n",
    "get('hours', convert_dict, identity)"
   ]
  },
  {
   "cell_type": "markdown",
   "metadata": {},
   "source": [
    "#### Write an expression that gets and applys the conversion function to the column"
   ]
  },
  {
   "cell_type": "code",
   "execution_count": 84,
   "metadata": {
    "collapsed": false
   },
   "outputs": [
    {
     "data": {
      "text/plain": [
       "[42, 55, 12]"
      ]
     },
     "execution_count": 84,
     "metadata": {},
     "output_type": "execute_result"
    }
   ],
   "source": [
    "key = 'hours'\n",
    "col = get(key, columns)\n",
    "func = get(key, convert_dict, identity)\n",
    "return_value = [func(item) for item in col]\n",
    "return_value"
   ]
  },
  {
   "cell_type": "markdown",
   "metadata": {},
   "source": [
    "#### Compose func and return_value expressions into one expression"
   ]
  },
  {
   "cell_type": "code",
   "execution_count": 86,
   "metadata": {
    "collapsed": false
   },
   "outputs": [
    {
     "data": {
      "text/plain": [
       "[42, 55, 12]"
      ]
     },
     "execution_count": 86,
     "metadata": {},
     "output_type": "execute_result"
    }
   ],
   "source": [
    "[get(key, convert_dict, identity)(item) for item in col]"
   ]
  },
  {
   "cell_type": "markdown",
   "metadata": {},
   "source": [
    "#### Convert the last expression into a function"
   ]
  },
  {
   "cell_type": "code",
   "execution_count": 90,
   "metadata": {
    "collapsed": true
   },
   "outputs": [],
   "source": [
    "from toolz import identity\n",
    "maybe_convert = lambda key, convert_dict, column: [get(key, convert_dict, identity)(val) for val in column]"
   ]
  },
  {
   "cell_type": "code",
   "execution_count": 91,
   "metadata": {
    "collapsed": false
   },
   "outputs": [],
   "source": [
    "assert maybe_convert('hours', convert_dict, get('hours', columns)) == [42, 55, 12]\n",
    "assert maybe_convert('name', convert_dict, get('name', columns)) == ['Ann', 'Bob', 'Alice']\n",
    "assert maybe_convert('rate', convert_dict, get('rate', columns)) == [37.5, 7.5, 225.0] "
   ]
  },
  {
   "cell_type": "markdown",
   "metadata": {},
   "source": [
    "#### get(key, convert_dict, identity)(item) is obtuse.  Refactor"
   ]
  },
  {
   "cell_type": "code",
   "execution_count": 104,
   "metadata": {
    "collapsed": false
   },
   "outputs": [],
   "source": [
    "get_and_apply_conversion = lambda key, item, convert_dict: get(key, convert_dict, identity)(item)\n",
    "maybe_convert = lambda key, convert_dict, column: [get_and_apply_conversion(key, val, convert_dict) for val in column]"
   ]
  },
  {
   "cell_type": "code",
   "execution_count": 105,
   "metadata": {
    "collapsed": false
   },
   "outputs": [],
   "source": [
    "assert maybe_convert('hours', convert_dict, get('hours', columns)) == [42, 55, 12]\n",
    "assert maybe_convert('name', convert_dict, get('name', columns)) == ['Ann', 'Bob', 'Alice']\n",
    "assert maybe_convert('rate', convert_dict, get('rate', columns)) == [37.5, 7.5, 225.0] "
   ]
  },
  {
   "cell_type": "markdown",
   "metadata": {},
   "source": [
    "#### Write a dictionary comprehension to convert all columns in the conversion dictionary\n",
    "\n",
    "* Use the function from above."
   ]
  },
  {
   "cell_type": "code",
   "execution_count": 108,
   "metadata": {
    "collapsed": false
   },
   "outputs": [
    {
     "data": {
      "text/plain": [
       "[('name', ('Ann', 'Bob', 'Alice')),\n",
       " ('hours', ('42', '55', '12')),\n",
       " ('rate', ('37.5', '7.5', '225'))]"
      ]
     },
     "execution_count": 108,
     "metadata": {},
     "output_type": "execute_result"
    }
   ],
   "source": [
    "list(columns.items())"
   ]
  },
  {
   "cell_type": "code",
   "execution_count": 106,
   "metadata": {
    "collapsed": true
   },
   "outputs": [],
   "source": [
    "convert_columns = lambda convert_dict, col_dict: {key:maybe_convert(key, convert_dict, col) for key, col in col_dict.items()}"
   ]
  },
  {
   "cell_type": "code",
   "execution_count": 109,
   "metadata": {
    "collapsed": false
   },
   "outputs": [],
   "source": [
    "assert convert_columns(convert_dict, columns) == {'hours': [42, 55, 12], 'name': ['Ann', 'Bob', 'Alice'], 'rate': [37.5, 7.5, 225.0]}"
   ]
  },
  {
   "cell_type": "markdown",
   "metadata": {},
   "source": [
    "## <font color='red'>Task: Write a function that turns a column dictionary back into a table.</font>"
   ]
  },
  {
   "cell_type": "code",
   "execution_count": null,
   "metadata": {
    "collapsed": true
   },
   "outputs": [],
   "source": []
  }
 ],
 "metadata": {
  "kernelspec": {
   "display_name": "Python 3",
   "language": "python",
   "name": "python3"
  },
  "language_info": {
   "codemirror_mode": {
    "name": "ipython",
    "version": 3
   },
   "file_extension": ".py",
   "mimetype": "text/x-python",
   "name": "python",
   "nbconvert_exporter": "python",
   "pygments_lexer": "ipython3",
   "version": "3.5.2"
  }
 },
 "nbformat": 4,
 "nbformat_minor": 2
}
