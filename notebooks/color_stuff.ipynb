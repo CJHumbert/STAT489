{
 "cells": [
  {
   "cell_type": "code",
   "execution_count": 6,
   "metadata": {
    "collapsed": false
   },
   "outputs": [
    {
     "data": {
      "text/plain": [
       "182"
      ]
     },
     "execution_count": 6,
     "metadata": {},
     "output_type": "execute_result"
    }
   ],
   "source": [
    "import numpy as np                                                              \n",
    "                                                                                \n",
    "example_color = np.array([100, 200, 250], dtype = np.uint8)                     \n",
    "average_color = lambda tup: sum([c//3 for c in tup])                            \n",
    "color = average_color(example_color)                                            \n",
    "color                                                                           "
   ]
  },
  {
   "cell_type": "code",
   "execution_count": 7,
   "metadata": {
    "collapsed": false
   },
   "outputs": [
    {
     "data": {
      "text/plain": [
       "[182, 182, 182]"
      ]
     },
     "execution_count": 7,
     "metadata": {},
     "output_type": "execute_result"
    }
   ],
   "source": [
    "average_RGB_tuple = lambda tup: [average_color(tup) for i in range(3)]          \n",
    "average_RGB_tuple(example_color)                                                \n",
    "                                                                                \n",
    "                                                                                "
   ]
  },
  {
   "cell_type": "code",
   "execution_count": 8,
   "metadata": {
    "collapsed": false
   },
   "outputs": [
    {
     "data": {
      "text/plain": [
       "[[182, 182, 182], [44, 44, 44]]"
      ]
     },
     "execution_count": 8,
     "metadata": {},
     "output_type": "execute_result"
    }
   ],
   "source": [
    "example_row = np.array([[100, 200, 250], [20, 0, 115]], dtype=np.uint8)         \n",
    "averaged_row = lambda row: [average_RGB_tuple(tup) for tup in row]              \n",
    "averaged_row(example_row)                                                       \n",
    "                                                                                "
   ]
  },
  {
   "cell_type": "code",
   "execution_count": 9,
   "metadata": {
    "collapsed": false
   },
   "outputs": [
    {
     "data": {
      "text/plain": [
       "array([[[182, 182, 182],\n",
       "        [ 44,  44,  44]],\n",
       "\n",
       "       [[188, 188, 188],\n",
       "        [ 49,  49,  49]]])"
      ]
     },
     "execution_count": 9,
     "metadata": {},
     "output_type": "execute_result"
    }
   ],
   "source": [
    "example_matrix = np.array([example_row, example_row + 5], dtype=np.uint8)       \n",
    "example_matrix                                                                  \n",
    "averaged_matrix = lambda mat: np.array([averaged_row(row) for row in mat])      \n",
    "gray_pic = averaged_matrix(example_matrix)                                      \n",
    "gray_pic                                                                        \n",
    "                                                                                "
   ]
  },
  {
   "cell_type": "code",
   "execution_count": 10,
   "metadata": {
    "collapsed": false
   },
   "outputs": [
    {
     "data": {
      "text/plain": [
       "<matplotlib.image.AxesImage at 0x107e4b3c8>"
      ]
     },
     "execution_count": 10,
     "metadata": {},
     "output_type": "execute_result"
    },
    {
     "data": {
      "image/png": "[encoded data removed]",
      "text/plain": [
       "<matplotlib.figure.Figure at 0x107c9cda0>"
      ]
     },
     "metadata": {},
     "output_type": "display_data"
    }
   ],
   "source": [
    "import matplotlib.pylab as plt                                                  \n",
    "%matplotlib inline                                                              \n",
    "plt.imshow(gray_pic)                                                            "
   ]
  },
  {
   "cell_type": "markdown",
   "metadata": {},
   "source": [
    "import matplotlib.pylab as plt\n",
    "%matplotlib inline\n",
    "from skimage import data\n",
    "cat = data.chelsea()\n",
    "plt.imshow(cat)"
   ]
  },
  {
   "cell_type": "markdown",
   "metadata": {},
   "source": [
    "averaged_cat = averaged_matrix(cat)\n",
    "plt.imshow(averaged_cat)"
   ]
  },
  {
   "cell_type": "code",
   "execution_count": null,
   "metadata": {
    "collapsed": true
   },
   "outputs": [],
   "source": []
  }
 ],
 "metadata": {
  "kernelspec": {
   "display_name": "Python 3",
   "language": "python",
   "name": "python3"
  },
  "language_info": {
   "codemirror_mode": {
    "name": "ipython",
    "version": 3
   },
   "file_extension": ".py",
   "mimetype": "text/x-python",
   "name": "python",
   "nbconvert_exporter": "python",
   "pygments_lexer": "ipython3",
   "version": "3.5.2"
  }
 },
 "nbformat": 4,
 "nbformat_minor": 2
}
