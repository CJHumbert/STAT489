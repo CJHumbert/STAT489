{
 "cells": [
  {
   "cell_type": "code",
   "execution_count": 6,
   "metadata": {
    "collapsed": false
   },
   "outputs": [
    {
     "data": {
      "text/html": [
       "<script>\n",
       "code_show=true; \n",
       "function code_toggle() {\n",
       "  if (code_show) {\n",
       "    $('div.input').each(function(id) {\n",
       "      el = $(this).find('.cm-variable:first');\n",
       "      if (id == 0 || el.text() == 'hide_me') {\n",
       "        $(this).hide();\n",
       "      }\n",
       "    });\n",
       "    $('div.output_prompt').css('opacity', 0);\n",
       "  } else {\n",
       "    $('div.input').each(function(id) {\n",
       "      $(this).show();\n",
       "    });\n",
       "    $('div.output_prompt').css('opacity', 1);\n",
       "  }\n",
       "  code_show = !code_show\n",
       "} \n",
       "$( document ).ready(code_toggle);\n",
       "</script>\n",
       "<form action=\"javascript:code_toggle()\"><input style=\"opacity:0\" type=\"submit\" value=\"Click here to toggle on/off the raw code.\"></form>"
      ],
      "text/plain": [
       "<IPython.core.display.HTML object>"
      ]
     },
     "execution_count": 6,
     "metadata": {},
     "output_type": "execute_result"
    }
   ],
   "source": [
    "# This is a cell to hide code snippets from displaying\n",
    "# This must be at first cell!\n",
    "\n",
    "from IPython.display import HTML\n",
    "\n",
    "hide_me = ''\n",
    "HTML('''<script>\n",
    "code_show=true; \n",
    "function code_toggle() {\n",
    "  if (code_show) {\n",
    "    $('div.input').each(function(id) {\n",
    "      el = $(this).find('.cm-variable:first');\n",
    "      if (id == 0 || el.text() == 'hide_me') {\n",
    "        $(this).hide();\n",
    "      }\n",
    "    });\n",
    "    $('div.output_prompt').css('opacity', 0);\n",
    "  } else {\n",
    "    $('div.input').each(function(id) {\n",
    "      $(this).show();\n",
    "    });\n",
    "    $('div.output_prompt').css('opacity', 1);\n",
    "  }\n",
    "  code_show = !code_show\n",
    "} \n",
    "$( document ).ready(code_toggle);\n",
    "</script>\n",
    "<form action=\"javascript:code_toggle()\"><input style=\"opacity:0\" type=\"submit\" value=\"Click here to toggle on/off the raw code.\"></form>''')"
   ]
  },
  {
   "cell_type": "code",
   "execution_count": 8,
   "metadata": {
    "collapsed": false,
    "scrolled": true
   },
   "outputs": [
    {
     "data": {
      "text/html": [
       "<script type=\"text/javascript\" src=\"../_static/mchoice.js\"></script>\n",
       "<div class=\"alert alert-warning\" id=\"test_question2_1_2\">\n",
       "    data-2-2: What is the data type of ‘this is what kind of data’?\n",
       "    <form id=\"test_question2_1_2_form\" method=\"get\" action=\"\" onsubmit=\"return false;\">\n",
       "      <label><input name=\"group1\" value=\"0\" id=\"test_question2_1_2_opt_0\" type=\"radio\">\n",
       "        <span>(A) Character</span></label>\n",
       "      <br>\n",
       "      <label><input name=\"group1\" value=\"1\" id=\"test_question2_1_2_opt_1\" type=\"radio\">\n",
       "         <span>(B) Integer</span></label>\n",
       "      <br>\n",
       "      <label><input name=\"group1\" value=\"2\" id=\"test_question2_1_2_opt_2\" type=\"radio\">\n",
       "        <span>(C) Float</span></label>\n",
       "      <br><label><input name=\"group1\" value=\"3\" id=\"test_question2_1_2_opt_3\" type=\"radio\">\n",
       "         <span>(D) String</span></label>\n",
       "      <br>\n",
       "      <button class=\"btn btn-success\" name=\"do answer\">Check Me</button>\n",
       "    </form>\n",
       "    <br>\n",
       "    <div id=\"test_question2_1_2_feedback\">\n",
       "    </div>\n",
       "</div>"
      ],
      "text/plain": [
       "<IPython.core.display.HTML object>"
      ]
     },
     "metadata": {},
     "output_type": "display_data"
    }
   ],
   "source": [
    "#hide_me\n",
    "js = \"\"\"<script type=\"text/javascript\" src=\"../_static/mchoice.js\"></script>\n",
    "<div class=\"alert alert-warning\" id=\"test_question2_1_2\">\n",
    "    data-2-2: What is the data type of ‘this is what kind of data’?\n",
    "    <form id=\"test_question2_1_2_form\" method=\"get\" action=\"\" onsubmit=\"return false;\">\n",
    "      <label><input name=\"group1\" value=\"0\" id=\"test_question2_1_2_opt_0\" type=\"radio\">\n",
    "        <span>(A) Character</span></label>\n",
    "      <br>\n",
    "      <label><input name=\"group1\" value=\"1\" id=\"test_question2_1_2_opt_1\" type=\"radio\">\n",
    "         <span>(B) Integer</span></label>\n",
    "      <br>\n",
    "      <label><input name=\"group1\" value=\"2\" id=\"test_question2_1_2_opt_2\" type=\"radio\">\n",
    "        <span>(C) Float</span></label>\n",
    "      <br><label><input name=\"group1\" value=\"3\" id=\"test_question2_1_2_opt_3\" type=\"radio\">\n",
    "         <span>(D) String</span></label>\n",
    "      <br>\n",
    "      <button class=\"btn btn-success\" name=\"do answer\">Check Me</button>\n",
    "    </form>\n",
    "    <br>\n",
    "    <div id=\"test_question2_1_2_feedback\">\n",
    "    </div>\n",
    "</div>\"\"\"\n",
    "\n",
    "from IPython.display import display, HTML\n",
    "display(HTML(js))"
   ]
  },
  {
   "cell_type": "markdown",
   "metadata": {},
   "source": [
    "**Source:** This question was take from [this open source, online, interactive (and excellent) textbook](http://interactivepython.org/runestone/static/thinkcspy/toc.html)"
   ]
  },
  {
   "cell_type": "code",
   "execution_count": null,
   "metadata": {
    "collapsed": true
   },
   "outputs": [],
   "source": []
  }
 ],
 "metadata": {
  "anaconda-cloud": {},
  "kernelspec": {
   "display_name": "Python [Root]",
   "language": "python",
   "name": "Python [Root]"
  },
  "language_info": {
   "codemirror_mode": {
    "name": "ipython",
    "version": 3
   },
   "file_extension": ".py",
   "mimetype": "text/x-python",
   "name": "python",
   "nbconvert_exporter": "python",
   "pygments_lexer": "ipython3",
   "version": "3.5.1"
  }
 },
 "nbformat": 4,
 "nbformat_minor": 0
}
