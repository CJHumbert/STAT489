{
 "cells": [
  {
   "cell_type": "markdown",
   "metadata": {},
   "source": [
    "# List Comprehension Group Work 2\n",
    "\n",
    "Please complete each problem as a group and submit one completed group notebook.\n",
    "\n",
    "Your code should be restricted to `lambda` expressions, the `random` function from the `random` module, list comprehensions, and any of the built-in reduction functions (`max`, `min`, `sum`, `len`, `any`, `all`)"
   ]
  },
  {
   "cell_type": "markdown",
   "metadata": {},
   "source": [
    "**Problem 1**. Write a function called `uniform01` and takes a positive integer `n` as an argument and returns a list of `n` values, each selected at random from the interval $(0,1)$.  **Hint:** Use the `random` function from the `random` module."
   ]
  },
  {
   "cell_type": "code",
   "execution_count": null,
   "metadata": {
    "collapsed": true
   },
   "outputs": [],
   "source": [
    "from random import random\n",
    "# You code starts here."
   ]
  },
  {
   "cell_type": "markdown",
   "metadata": {},
   "source": [
    "**Problem 2**. Suppose that $V = cU + d$.  If $U$ has a distribution that is $uniform(0,1)$ than it can be shown that $V$ has a distribution that is $uniform(d, c+d)$.  Write a function called `uniform` that takes three arguments `n` (sample size), `a` and `b` and returns a list of `n` number that come from a $uniform(a, b)$ distribution.  Your solution should use and transform `uniform01`.  **Hint:** Use a comprehension should be of the form `[ ___ for u in uniform01(n) ___]`."
   ]
  },
  {
   "cell_type": "code",
   "execution_count": null,
   "metadata": {
    "collapsed": true
   },
   "outputs": [],
   "source": []
  },
  {
   "cell_type": "markdown",
   "metadata": {
    "collapsed": false
   },
   "source": [
    "**Problem 3**: Suppose that $V\\sim Uniform(3,4)$ and $U\\sim Uniform(3.5, 4.2)$.  We are interested in $P(U > V)$.  While this problem is not hard to solve analytically, we will use a Python simulation to approximate an answer to the question.  \n",
    "\n",
    "**a.** Write a function called `bivariate_uniform` that take a number `n` as input and returns a list of `n` pairs of the form $(u,v)$, which represent observation from the respective distribution given above (Use `zip`).  \n",
    "**b.** Write another function called `empirical_prob` that takes a list of tuples (like those generated in **a**) as input and returns an estimate of the above probability based on `n` trials (pairs of $(u,v)$).  \n",
    "**c.** Write a function called `probaility_estimate3` that composes the last two functions and use it to estimate the answer to this question with a large number of trials."
   ]
  },
  {
   "cell_type": "code",
   "execution_count": null,
   "metadata": {
    "collapsed": true
   },
   "outputs": [],
   "source": []
  },
  {
   "cell_type": "markdown",
   "metadata": {},
   "source": [
    "**Problem 4:** Describe the difference between the function `sorted` and the list method `sort`.  Why might we prefer `sorted`?"
   ]
  },
  {
   "cell_type": "markdown",
   "metadata": {},
   "source": []
  },
  {
   "cell_type": "markdown",
   "metadata": {
    "collapsed": true
   },
   "source": [
    "**Problem 5:** Consider a vector of the form $\\vec{U} = (U_1,U_2,U_3,U_4)$ where $U_i\\sim Uniform(3,4)$ for all $i$.  The statistic $U_{(3)}$ is the third largest element of the (sorted) $\\vec{U}$ vector.  We are interested in simulating the solution to the question $P(U_{(3)} > 3.5)$.  To do this create each of the following functions.\n",
    "\n",
    "**a.** Create a function called `get_trials` that takes a positive integer `n` as input and returns a list of `n` observations of the form $(u_1,u_2,u_3,u_4)$.  Use `zip` to create the list.\n",
    "\n",
    "**b.** Create a function called `order_statistics` that takes a list of tuples (similar to the once created in part **a**) and returns a list of sorted tuples.  Use a list comprehension and the function `sorted` (instead of the list method `sort`).\n",
    "\n",
    "**c.** Write a function called `third_order_statistic` that takes a tuple of sorted values and returns the third value.  Use a list comprehension and `enumerate` to help identify the third position\n",
    "\n",
    "**d.** Create a function called `get_third_order_statistic` that maps the function from the last part onto a list of sorted tuples.  Use a list comprehension to accomplish this task.\n",
    "\n",
    "**e.** Create a function called `empirical_estimate` that takes a list of order statistics, in particular $U_{(3)}$, and estimates the answers to questions of interest, namely $P\\left(U_{(3)} > 3.5\\right)$.  Use a list comprehension and the `sum` function to reduce the list of sorted tuples to the number of trials that satisfy $U_{(3)} > 3.5$. \n",
    "\n",
    "**f.** Create a function that called `probabilty_estimate5` that composes the function from the last 3 parts and use it to estimate this probability with a large number of trials.\n",
    "\n"
   ]
  },
  {
   "cell_type": "code",
   "execution_count": null,
   "metadata": {
    "collapsed": true
   },
   "outputs": [],
   "source": []
  }
 ],
 "metadata": {
  "anaconda-cloud": {},
  "kernelspec": {
   "display_name": "Python [Root]",
   "language": "python",
   "name": "Python [Root]"
  },
  "language_info": {
   "codemirror_mode": {
    "name": "ipython",
    "version": 3
   },
   "file_extension": ".py",
   "mimetype": "text/x-python",
   "name": "python",
   "nbconvert_exporter": "python",
   "pygments_lexer": "ipython3",
   "version": "3.5.2"
  }
 },
 "nbformat": 4,
 "nbformat_minor": 2
}
