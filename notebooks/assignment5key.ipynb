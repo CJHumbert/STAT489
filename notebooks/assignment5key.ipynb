{
 "cells": [
  {
   "cell_type": "markdown",
   "metadata": {},
   "source": [
    "**Problem 18**\n",
    "\n",
    "Print out a neatly formatted multiplication table, up to 12 x 12. You should do this by constructing a string. For full credit, each column should be right-justified and your solution should include only comprehensions and lambda functions. Hint: Write a lambda function pads a number with the right number of spaces."
   ]
  },
  {
   "cell_type": "code",
   "execution_count": 10,
   "metadata": {
    "collapsed": false
   },
   "outputs": [
    {
     "data": {
      "text/plain": [
       "[[1, 2, 3], [2, 4, 6], [3, 6, 9]]"
      ]
     },
     "execution_count": 10,
     "metadata": {},
     "output_type": "execute_result"
    }
   ],
   "source": [
    "# Function from problem 17 - creates raw table\n",
    "table = lambda n: [[i*j for i in range(1,n+1)] for j in range(1,n+1)]\n",
    "t3 = table(3)\n",
    "t3"
   ]
  },
  {
   "cell_type": "code",
   "execution_count": 11,
   "metadata": {
    "collapsed": false
   },
   "outputs": [
    {
     "data": {
      "text/plain": [
       "[['    1', '    2', '    3'],\n",
       " ['    2', '    4', '    6'],\n",
       " ['    3', '    6', '    9']]"
      ]
     },
     "execution_count": 11,
     "metadata": {},
     "output_type": "execute_result"
    }
   ],
   "source": [
    "# Create a sequence of functions to pad the numbers, \n",
    "# one for each level of abstraction\n",
    "num_digits = lambda s: len(str(s))\n",
    "num_spaces = lambda pad_amt, num: pad_amt - num_digits(num) \n",
    "pad_num = lambda pad_amt, num: num_spaces(pad_amt, num)*\" \" + str(num)\n",
    "pad_row = lambda pad_amt, row: [pad_num(pad_amt, num) for num in row]\n",
    "pad_table = lambda pad_amt, table: [pad_row(pad_amt, row) for row in table]\n",
    "pad_table(5, t3)"
   ]
  },
  {
   "cell_type": "code",
   "execution_count": 12,
   "metadata": {
    "collapsed": false
   },
   "outputs": [
    {
     "name": "stdout",
     "output_type": "stream",
     "text": [
      "    1    2    3    4    5    6    7    8    9   10   11   12\n",
      "    2    4    6    8   10   12   14   16   18   20   22   24\n",
      "    3    6    9   12   15   18   21   24   27   30   33   36\n",
      "    4    8   12   16   20   24   28   32   36   40   44   48\n",
      "    5   10   15   20   25   30   35   40   45   50   55   60\n",
      "    6   12   18   24   30   36   42   48   54   60   66   72\n",
      "    7   14   21   28   35   42   49   56   63   70   77   84\n",
      "    8   16   24   32   40   48   56   64   72   80   88   96\n",
      "    9   18   27   36   45   54   63   72   81   90   99  108\n",
      "   10   20   30   40   50   60   70   80   90  100  110  120\n",
      "   11   22   33   44   55   66   77   88   99  110  121  132\n",
      "   12   24   36   48   60   72   84   96  108  120  132  144\n"
     ]
    }
   ],
   "source": [
    "# Now a series of functions to join up the rows\n",
    "join_row = lambda row: \"\".join(row)\n",
    "join_rows = lambda rows: [join_row(row) for row in rows]\n",
    "# The rows of a table need to be on new lines\n",
    "join_table = lambda table: '\\n'.join(join_rows(table))\n",
    "# Make sure we have more space than the largest number.\n",
    "pad_amt = lambda num: len(str(num**2)) + 2\n",
    "right_just_table = lambda n: join_table(pad_table(pad_amt(n),table(n)))\n",
    "print(right_just_table(12))"
   ]
  },
  {
   "cell_type": "markdown",
   "metadata": {},
   "source": [
    "**Problem 19**\n",
    "\n",
    "Use list comprehensions to filter the hours table to include only managers. In SQL this would be performed using SELECT and WHERE. Hint: Start by creating a list of the names of all managers. .. actex:: select-where"
   ]
  },
  {
   "cell_type": "code",
   "execution_count": 14,
   "metadata": {
    "collapsed": false
   },
   "outputs": [],
   "source": [
    "hours = [['Alice', 43],\n",
    "         ['Bob', 37], \n",
    "         ['Fred', 15]]\n",
    "\n",
    "titles = [['Alice', 'Manager'], \n",
    "          ['Betty', 'Consultant'], \n",
    "          ['Bob', 'Assistant']]"
   ]
  },
  {
   "cell_type": "code",
   "execution_count": 15,
   "metadata": {
    "collapsed": false
   },
   "outputs": [
    {
     "data": {
      "text/plain": [
       "['Alice']"
      ]
     },
     "execution_count": 15,
     "metadata": {},
     "output_type": "execute_result"
    }
   ],
   "source": [
    "# We need to use the titles table to filter the hours table.  \n",
    "# Start by creating alist of name for managers\n",
    "from toolz import get\n",
    "managers = [get(0,r) for r in titles if get(1, r) == 'Manager']\n",
    "managers"
   ]
  },
  {
   "cell_type": "code",
   "execution_count": 18,
   "metadata": {
    "collapsed": false
   },
   "outputs": [
    {
     "data": {
      "text/plain": [
       "[['Alice', 43]]"
      ]
     },
     "execution_count": 18,
     "metadata": {},
     "output_type": "execute_result"
    }
   ],
   "source": [
    "# Now filter the other table using the name list\n",
    "manager_hours = [r for r in hours if get(0, r) in managers]\n",
    "manager_hours"
   ]
  },
  {
   "cell_type": "code",
   "execution_count": 19,
   "metadata": {
    "collapsed": true
   },
   "outputs": [],
   "source": [
    "# Test condition becomes\n",
    "assert manager_hours == [['Alice', 43]]"
   ]
  },
  {
   "cell_type": "markdown",
   "metadata": {},
   "source": [
    "**Problem 20**\n",
    "\n",
    "Use list comprehensions to decide if the following tables contain a manager that worked at least 40 hours."
   ]
  },
  {
   "cell_type": "code",
   "execution_count": 17,
   "metadata": {
    "collapsed": false
   },
   "outputs": [
    {
     "data": {
      "text/plain": [
       "True"
      ]
     },
     "execution_count": 17,
     "metadata": {},
     "output_type": "execute_result"
    }
   ],
   "source": [
    "# Similar solution to last problem\n",
    "# We reuse the managers name table from above\n",
    "# This time filter on both name and the amount of hours.\n",
    "\n",
    "managers_over_40 = [r for r in hours if get(0, r) in managers and get(1,r) > 40]\n",
    "# the question is boolean (any over 40) so we can answer with a boolean operation\n",
    "len(managers_over_40) > 0"
   ]
  },
  {
   "cell_type": "code",
   "execution_count": 20,
   "metadata": {
    "collapsed": true
   },
   "outputs": [],
   "source": [
    "# Test condition becomes\n",
    "assert len(managers_over_40) > 0"
   ]
  },
  {
   "cell_type": "markdown",
   "metadata": {},
   "source": [
    "**Problem 21**\n",
    "\n",
    "Use list comprehensions to perform a right outer join on the following lists. (using the order the tables are presented, i.e. titles -> left, hours -> right)"
   ]
  },
  {
   "cell_type": "code",
   "execution_count": 21,
   "metadata": {
    "collapsed": false
   },
   "outputs": [
    {
     "data": {
      "text/plain": [
       "[('Alice', 43, 'Manager'), ('Bob', 37, 'Assistant')]"
      ]
     },
     "execution_count": 21,
     "metadata": {},
     "output_type": "execute_result"
    }
   ],
   "source": [
    "# The tables share the same names, so we join on names\n",
    "# First get the inner join - rows with a common name\n",
    "inner_join = [(nm1, hrs, ttl) for nm1, hrs in hours for nm2, ttl in titles if nm1 == nm2]\n",
    "inner_join"
   ]
  },
  {
   "cell_type": "code",
   "execution_count": 30,
   "metadata": {
    "collapsed": false
   },
   "outputs": [
    {
     "data": {
      "text/plain": [
       "['Alice', 'Bob', 'Fred']"
      ]
     },
     "execution_count": 30,
     "metadata": {},
     "output_type": "execute_result"
    }
   ],
   "source": [
    "# Now we need to rows from titles for the employees NOT in hours\n",
    "# start by getting the names of all employees in hours\n",
    "hrs_names = [get(0, r) for r in hours]\n",
    "hrs_names"
   ]
  },
  {
   "cell_type": "code",
   "execution_count": 23,
   "metadata": {
    "collapsed": false
   },
   "outputs": [
    {
     "data": {
      "text/plain": [
       "[('Betty', None, 'Consultant')]"
      ]
     },
     "execution_count": 23,
     "metadata": {},
     "output_type": "execute_result"
    }
   ],
   "source": [
    "# We put None in the hours slot, as these employess didn't have any hours listed.\n",
    "right_rows = [(nm, None, ttl) for nm, ttl in titles if nm not in hrs_names]\n",
    "right_rows"
   ]
  },
  {
   "cell_type": "code",
   "execution_count": 24,
   "metadata": {
    "collapsed": false
   },
   "outputs": [
    {
     "data": {
      "text/plain": [
       "[('Alice', 43, 'Manager'),\n",
       " ('Bob', 37, 'Assistant'),\n",
       " ('Betty', None, 'Consultant')]"
      ]
     },
     "execution_count": 24,
     "metadata": {},
     "output_type": "execute_result"
    }
   ],
   "source": [
    "# Right outer join is the sum of these two tables.\n",
    "right_outer_join = inner_join + right_rows\n",
    "right_outer_join"
   ]
  },
  {
   "cell_type": "code",
   "execution_count": 25,
   "metadata": {
    "collapsed": true
   },
   "outputs": [],
   "source": [
    "# To test, we include a sort to deal with different processing orders.\n",
    "assert sorted(right_outer_join) == sorted([('Alice', 43, 'Manager'),\n",
    " ('Bob', 37, 'Assistant'),\n",
    " ('Betty', None, 'Consultant')]) "
   ]
  },
  {
   "cell_type": "markdown",
   "metadata": {},
   "source": [
    "**Problem 22**\n",
    "\n",
    "Use a list comprehension and lambda expression to create a sequence of functions that combine to average two matrices. A complete solution will provide functions for each level of abstraction.\n",
    "\n",
    "**Levels of Abstraction**\n",
    "mats have rows\n",
    "rows have numbers\n",
    "numbers are numbers (atomic elements, can't be broken down)"
   ]
  },
  {
   "cell_type": "code",
   "execution_count": 28,
   "metadata": {
    "collapsed": false
   },
   "outputs": [
    {
     "data": {
      "text/plain": [
       "1.5"
      ]
     },
     "execution_count": 28,
     "metadata": {},
     "output_type": "execute_result"
    }
   ],
   "source": [
    "# Start with a function for lowest level\n",
    "# Average numbers.\n",
    "avg_num = lambda num1, num2: (num1 + num2)/2\n",
    "avg_num(1,2)"
   ]
  },
  {
   "cell_type": "code",
   "execution_count": 29,
   "metadata": {
    "collapsed": false
   },
   "outputs": [
    {
     "data": {
      "text/plain": [
       "[2.0, 2.0]"
      ]
     },
     "execution_count": 29,
     "metadata": {},
     "output_type": "execute_result"
    }
   ],
   "source": [
    "# Now apply that function at the next level\n",
    "# Use zip to line up elements of the rows\n",
    "avg_row = lambda row1, row2: [avg_num(n1, n2) for n1, n2 in zip(row1, row2)]\n",
    "avg_row([1,1], [3,3])"
   ]
  },
  {
   "cell_type": "code",
   "execution_count": 26,
   "metadata": {
    "collapsed": false
   },
   "outputs": [
    {
     "data": {
      "text/plain": [
       "[[2.0, 2.0], [3.0, 3.0]]"
      ]
     },
     "execution_count": 26,
     "metadata": {},
     "output_type": "execute_result"
    }
   ],
   "source": [
    "# And move up to the next level, applying the function from the last level\n",
    "avg_mat = lambda mat1, mat2: [avg_row(r1, r2) for r1, r2 in zip(mat1, mat2)]\n",
    "avg_mat([[1,1],[2,2]], [[3,3],[4,4]])"
   ]
  },
  {
   "cell_type": "code",
   "execution_count": 27,
   "metadata": {
    "collapsed": true
   },
   "outputs": [],
   "source": [
    "# test condition becomes\n",
    "assert avg_mat([[1,1],[2,2]], [[3,3],[4,4]]) == [[2.0, 2.0], [3.0, 3.0]]"
   ]
  },
  {
   "cell_type": "code",
   "execution_count": null,
   "metadata": {
    "collapsed": true
   },
   "outputs": [],
   "source": []
  }
 ],
 "metadata": {
  "kernelspec": {
   "display_name": "Python 3",
   "language": "python",
   "name": "python3"
  },
  "language_info": {
   "codemirror_mode": {
    "name": "ipython",
    "version": 3
   },
   "file_extension": ".py",
   "mimetype": "text/x-python",
   "name": "python",
   "nbconvert_exporter": "python",
   "pygments_lexer": "ipython3",
   "version": "3.5.2"
  }
 },
 "nbformat": 4,
 "nbformat_minor": 2
}
