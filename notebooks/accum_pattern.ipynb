{
 "cells": [
  {
   "cell_type": "markdown",
   "metadata": {
    "slideshow": {
     "slide_type": "slide"
    }
   },
   "source": [
    "# Review: The accumulator pattern"
   ]
  },
  {
   "cell_type": "markdown",
   "metadata": {
    "slideshow": {
     "slide_type": "slide"
    }
   },
   "source": [
    "### Summing a list"
   ]
  },
  {
   "cell_type": "code",
   "execution_count": 1,
   "metadata": {
    "collapsed": false,
    "slideshow": {
     "slide_type": "fragment"
    }
   },
   "outputs": [
    {
     "data": {
      "text/plain": [
       "[0, 1, 2, 3, 4]"
      ]
     },
     "execution_count": 1,
     "metadata": {},
     "output_type": "execute_result"
    }
   ],
   "source": [
    "L = list(range(5))\n",
    "L"
   ]
  },
  {
   "cell_type": "code",
   "execution_count": 2,
   "metadata": {
    "collapsed": false,
    "slideshow": {
     "slide_type": "slide"
    }
   },
   "outputs": [
    {
     "data": {
      "text/plain": [
       "10"
      ]
     },
     "execution_count": 2,
     "metadata": {},
     "output_type": "execute_result"
    }
   ],
   "source": [
    "total = 0\n",
    "for item in L:\n",
    "    total = total + item\n",
    "total"
   ]
  },
  {
   "cell_type": "code",
   "execution_count": 3,
   "metadata": {
    "collapsed": true,
    "slideshow": {
     "slide_type": "fragment"
    }
   },
   "outputs": [],
   "source": [
    "L = range(5)\n",
    "update = lambda a, i: a + i"
   ]
  },
  {
   "cell_type": "code",
   "execution_count": 4,
   "metadata": {
    "collapsed": false,
    "slideshow": {
     "slide_type": "fragment"
    }
   },
   "outputs": [
    {
     "data": {
      "text/plain": [
       "10"
      ]
     },
     "execution_count": 4,
     "metadata": {},
     "output_type": "execute_result"
    }
   ],
   "source": [
    "acc = 0\n",
    "for i in L:\n",
    "    acc = update(acc, i)\n",
    "acc"
   ]
  },
  {
   "cell_type": "markdown",
   "metadata": {
    "slideshow": {
     "slide_type": "slide"
    }
   },
   "source": [
    "### Length of a list"
   ]
  },
  {
   "cell_type": "code",
   "execution_count": 5,
   "metadata": {
    "collapsed": false,
    "slideshow": {
     "slide_type": "slide"
    }
   },
   "outputs": [
    {
     "data": {
      "text/plain": [
       "5"
      ]
     },
     "execution_count": 5,
     "metadata": {},
     "output_type": "execute_result"
    }
   ],
   "source": [
    "length = 0\n",
    "for item in L:\n",
    "    length = length + 1\n",
    "length"
   ]
  },
  {
   "cell_type": "code",
   "execution_count": 6,
   "metadata": {
    "collapsed": true,
    "slideshow": {
     "slide_type": "fragment"
    }
   },
   "outputs": [],
   "source": [
    "update = lambda a, i: a + 1"
   ]
  },
  {
   "cell_type": "code",
   "execution_count": 7,
   "metadata": {
    "collapsed": false,
    "slideshow": {
     "slide_type": "fragment"
    }
   },
   "outputs": [
    {
     "data": {
      "text/plain": [
       "5"
      ]
     },
     "execution_count": 7,
     "metadata": {},
     "output_type": "execute_result"
    }
   ],
   "source": [
    "acc = 0\n",
    "for i in L:\n",
    "    acc = update(acc, i)\n",
    "acc"
   ]
  },
  {
   "cell_type": "markdown",
   "metadata": {
    "slideshow": {
     "slide_type": "slide"
    }
   },
   "source": [
    "### Max value"
   ]
  },
  {
   "cell_type": "code",
   "execution_count": 9,
   "metadata": {
    "collapsed": false,
    "slideshow": {
     "slide_type": "fragment"
    }
   },
   "outputs": [
    {
     "data": {
      "text/plain": [
       "4"
      ]
     },
     "execution_count": 9,
     "metadata": {},
     "output_type": "execute_result"
    }
   ],
   "source": [
    "mx = L[0]\n",
    "for item in L[1:]:\n",
    "    mx = mx if mx >= item else item\n",
    "mx"
   ]
  },
  {
   "cell_type": "code",
   "execution_count": 10,
   "metadata": {
    "collapsed": true
   },
   "outputs": [],
   "source": [
    "update = lambda a, i: acc if acc >= i else i"
   ]
  },
  {
   "cell_type": "code",
   "execution_count": 12,
   "metadata": {
    "collapsed": false
   },
   "outputs": [
    {
     "data": {
      "text/plain": [
       "4"
      ]
     },
     "execution_count": 12,
     "metadata": {},
     "output_type": "execute_result"
    }
   ],
   "source": [
    "acc = L[0]\n",
    "for item in L[1:]:\n",
    "    acc = update(acc, item)\n",
    "acc"
   ]
  },
  {
   "cell_type": "markdown",
   "metadata": {},
   "source": [
    "## Notes about reduce\n",
    "\n",
    "- arguments:\n",
    "    - update function\n",
    "    - sequence\n",
    "- optional intial value\n",
    "    - sometimes specify initial value.\n",
    "    - sometimes use first element."
   ]
  },
  {
   "cell_type": "code",
   "execution_count": 22,
   "metadata": {
    "collapsed": true
   },
   "outputs": [],
   "source": [
    "from toolz import first, drop\n",
    "rest = lambda seq: drop(1, seq)\n",
    "def my_reduce(func, seq, init=None):\n",
    "    \"\"\" Reduce a list to a value using func, with an optional initial value\"\"\"\n",
    "    acc = first(seq) if init is None else init\n",
    "    seq = rest(seq) if init is None else seq\n",
    "    for item in seq:\n",
    "        acc = func(acc, item)\n",
    "    return acc"
   ]
  },
  {
   "cell_type": "code",
   "execution_count": 23,
   "metadata": {
    "collapsed": false
   },
   "outputs": [
    {
     "data": {
      "text/plain": [
       "10"
      ]
     },
     "execution_count": 23,
     "metadata": {},
     "output_type": "execute_result"
    }
   ],
   "source": [
    "my_reduce(lambda a, i: a + i, range(5), 0)"
   ]
  },
  {
   "cell_type": "code",
   "execution_count": 24,
   "metadata": {
    "collapsed": false
   },
   "outputs": [
    {
     "data": {
      "text/plain": [
       "5"
      ]
     },
     "execution_count": 24,
     "metadata": {},
     "output_type": "execute_result"
    }
   ],
   "source": [
    "my_reduce(lambda a, i: a + 1, range(5), 0)"
   ]
  },
  {
   "cell_type": "code",
   "execution_count": 25,
   "metadata": {
    "collapsed": false
   },
   "outputs": [
    {
     "data": {
      "text/plain": [
       "4"
      ]
     },
     "execution_count": 25,
     "metadata": {},
     "output_type": "execute_result"
    }
   ],
   "source": [
    "my_reduce(lambda a, i: a if a > i else i, range(5))"
   ]
  },
  {
   "cell_type": "code",
   "execution_count": 26,
   "metadata": {
    "collapsed": true
   },
   "outputs": [],
   "source": [
    "from functools import reduce"
   ]
  },
  {
   "cell_type": "code",
   "execution_count": 27,
   "metadata": {
    "collapsed": false
   },
   "outputs": [
    {
     "data": {
      "text/plain": [
       "10"
      ]
     },
     "execution_count": 27,
     "metadata": {},
     "output_type": "execute_result"
    }
   ],
   "source": [
    "reduce(lambda a, i: a + i, range(5), 0)"
   ]
  },
  {
   "cell_type": "code",
   "execution_count": 28,
   "metadata": {
    "collapsed": false
   },
   "outputs": [
    {
     "data": {
      "text/plain": [
       "4"
      ]
     },
     "execution_count": 28,
     "metadata": {},
     "output_type": "execute_result"
    }
   ],
   "source": [
    "reduce(lambda a, i: a if a > i else i, range(5))"
   ]
  },
  {
   "cell_type": "markdown",
   "metadata": {
    "collapsed": true
   },
   "source": [
    "## Mapping and filtering two sequences\n",
    "\n",
    "- `map(f, s1, s2)` is like `zip`\n",
    "- Use `product` from `itertools` for \"two for loops\""
   ]
  },
  {
   "cell_type": "code",
   "execution_count": 1,
   "metadata": {
    "collapsed": true
   },
   "outputs": [],
   "source": [
    "# agents\n",
    "# agent_id, agent_famname,agent_name\n",
    "agents=[[100,'Brown','Jack'],\n",
    "        [101,'Red','James'],\n",
    "        [102,'Black','John'],\n",
    "        [103,'White','Jeff'],\n",
    "        [104,'White','Jasper']]\n",
    "\n",
    "# clients\n",
    "# client_id,agent_id,client_name\n",
    "clients=[[100,100,'McDonalds'],\n",
    "         [101,100,'KFC'],\n",
    "         [102,102,'Burger King'],\n",
    "         [103,103,'Chinese'],\n",
    "         [104,999,'French']]\n",
    "\n",
    "# more agents /agents1\n",
    "# agent_id, agent_famname,agent_name\n",
    "agents1=[[200,'Smith','Jack'],\n",
    "         [101,'Red','James'],\n",
    "         [201,'Carpenter','John'],\n",
    "         [103,'White','Jeff']]\n"
   ]
  },
  {
   "cell_type": "code",
   "execution_count": 3,
   "metadata": {
    "collapsed": false
   },
   "outputs": [
    {
     "data": {
      "text/plain": [
       "[([100, 'Brown', 'Jack'], [100, 100, 'McDonalds']),\n",
       " ([100, 'Brown', 'Jack'], [101, 100, 'KFC']),\n",
       " ([100, 'Brown', 'Jack'], [102, 102, 'Burger King']),\n",
       " ([100, 'Brown', 'Jack'], [103, 103, 'Chinese']),\n",
       " ([100, 'Brown', 'Jack'], [104, 999, 'French']),\n",
       " ([101, 'Red', 'James'], [100, 100, 'McDonalds']),\n",
       " ([101, 'Red', 'James'], [101, 100, 'KFC']),\n",
       " ([101, 'Red', 'James'], [102, 102, 'Burger King']),\n",
       " ([101, 'Red', 'James'], [103, 103, 'Chinese']),\n",
       " ([101, 'Red', 'James'], [104, 999, 'French']),\n",
       " ([102, 'Black', 'John'], [100, 100, 'McDonalds']),\n",
       " ([102, 'Black', 'John'], [101, 100, 'KFC']),\n",
       " ([102, 'Black', 'John'], [102, 102, 'Burger King']),\n",
       " ([102, 'Black', 'John'], [103, 103, 'Chinese']),\n",
       " ([102, 'Black', 'John'], [104, 999, 'French']),\n",
       " ([103, 'White', 'Jeff'], [100, 100, 'McDonalds']),\n",
       " ([103, 'White', 'Jeff'], [101, 100, 'KFC']),\n",
       " ([103, 'White', 'Jeff'], [102, 102, 'Burger King']),\n",
       " ([103, 'White', 'Jeff'], [103, 103, 'Chinese']),\n",
       " ([103, 'White', 'Jeff'], [104, 999, 'French']),\n",
       " ([104, 'White', 'Jasper'], [100, 100, 'McDonalds']),\n",
       " ([104, 'White', 'Jasper'], [101, 100, 'KFC']),\n",
       " ([104, 'White', 'Jasper'], [102, 102, 'Burger King']),\n",
       " ([104, 'White', 'Jasper'], [103, 103, 'Chinese']),\n",
       " ([104, 'White', 'Jasper'], [104, 999, 'French'])]"
      ]
     },
     "execution_count": 3,
     "metadata": {},
     "output_type": "execute_result"
    }
   ],
   "source": [
    "from itertools import product\n",
    "pairs = list(product(agents, clients))\n",
    "pairs"
   ]
  },
  {
   "cell_type": "code",
   "execution_count": 4,
   "metadata": {
    "collapsed": false
   },
   "outputs": [
    {
     "data": {
      "text/plain": [
       "(100, 'Jack', 'Brown', 'McDonalds')"
      ]
     },
     "execution_count": 4,
     "metadata": {},
     "output_type": "execute_result"
    }
   ],
   "source": [
    "from toolz import get_in\n",
    "process_pair = lambda tup: (get_in([0,0], tup), get_in([0,2], tup), get_in([0,1], tup), get_in([-1,-1], tup))\n",
    "process_pair(pairs[0])"
   ]
  },
  {
   "cell_type": "code",
   "execution_count": 6,
   "metadata": {
    "collapsed": false
   },
   "outputs": [
    {
     "data": {
      "text/plain": [
       "[([100, 'Brown', 'Jack'], [100, 100, 'McDonalds']),\n",
       " ([101, 'Red', 'James'], [100, 100, 'McDonalds']),\n",
       " ([102, 'Black', 'John'], [100, 100, 'McDonalds']),\n",
       " ([103, 'White', 'Jeff'], [100, 100, 'McDonalds']),\n",
       " ([104, 'White', 'Jasper'], [100, 100, 'McDonalds'])]"
      ]
     },
     "execution_count": 6,
     "metadata": {},
     "output_type": "execute_result"
    }
   ],
   "source": [
    "filter_pair = lambda tup: get_in([-1,-1], tup) == 'McDonalds'\n",
    "filt_pairs = list(filter(filter_pair, pairs))\n",
    "filt_pairs"
   ]
  },
  {
   "cell_type": "code",
   "execution_count": 7,
   "metadata": {
    "collapsed": false
   },
   "outputs": [
    {
     "data": {
      "text/plain": [
       "[(100, 'Jack', 'Brown', 'McDonalds'),\n",
       " (101, 'James', 'Red', 'McDonalds'),\n",
       " (102, 'John', 'Black', 'McDonalds'),\n",
       " (103, 'Jeff', 'White', 'McDonalds'),\n",
       " (104, 'Jasper', 'White', 'McDonalds')]"
      ]
     },
     "execution_count": 7,
     "metadata": {},
     "output_type": "execute_result"
    }
   ],
   "source": [
    "mapped_pairs = list(map(process_pair, filt_pairs))\n",
    "mapped_pairs"
   ]
  },
  {
   "cell_type": "code",
   "execution_count": null,
   "metadata": {
    "collapsed": true
   },
   "outputs": [],
   "source": []
  }
 ],
 "metadata": {
  "anaconda-cloud": {},
  "kernelspec": {
   "display_name": "Python [Root]",
   "language": "python",
   "name": "Python [Root]"
  },
  "language_info": {
   "codemirror_mode": {
    "name": "ipython",
    "version": 3
   },
   "file_extension": ".py",
   "mimetype": "text/x-python",
   "name": "python",
   "nbconvert_exporter": "python",
   "pygments_lexer": "ipython3",
   "version": "3.5.2"
  }
 },
 "nbformat": 4,
 "nbformat_minor": 2
}
