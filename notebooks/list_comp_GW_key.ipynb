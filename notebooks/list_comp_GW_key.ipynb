{
 "cells": [
  {
   "cell_type": "markdown",
   "metadata": {},
   "source": [
    "# List Comprehension Group Work 2\n",
    "\n",
    "Please complete each problem as a group and submit one completed group notebook.\n",
    "\n",
    "Your code should be restricted to `lambda` expressions, the `random` function from the `random` module, list comprehensions, and any of the built-in reduction functions (`max`, `min`, `sum`, `len`, `any`, `all`)"
   ]
  },
  {
   "cell_type": "markdown",
   "metadata": {},
   "source": [
    "**Problem 1**. Write a function called `uniform01` and takes a positive integer `n` as an argument and returns a list of `n` values, each selected at random from the interval $(0,1)$.  **Hint:** Use the `random` function from the `random` module."
   ]
  },
  {
   "cell_type": "code",
   "execution_count": 1,
   "metadata": {
    "collapsed": false
   },
   "outputs": [
    {
     "data": {
      "text/plain": [
       "[0.40307379844372015,\n",
       " 0.06818433558800008,\n",
       " 0.6596082065853045,\n",
       " 0.602765988342635,\n",
       " 0.7664556223896369,\n",
       " 0.27820649550612253,\n",
       " 0.9085208480792304,\n",
       " 0.4358778607283341,\n",
       " 0.09886560847324621,\n",
       " 0.3263146286378402]"
      ]
     },
     "execution_count": 1,
     "metadata": {},
     "output_type": "execute_result"
    }
   ],
   "source": [
    "from random import random\n",
    "uniform01 = lambda n: [random() for i in range(n)]\n",
    "uniform01(10)"
   ]
  },
  {
   "cell_type": "markdown",
   "metadata": {},
   "source": [
    "**Problem 2**. Suppose that $V = cU + d$.  If $U$ has a distribution that is $uniform(0,1)$ than it can be shown that $V$ has a distribution that is $uniform(d, c+d)$.  Write a function called `uniform` that takes three arguments `n` (sample size), `a` and `b` and returns a list of `n` number that come from a $uniform(a, b)$ distribution.  Your solution should use and transform `uniform01`.  **Hint:** Use a comprehension should be of the form `[ ___ for u in uniform01(n) ___]`."
   ]
  },
  {
   "cell_type": "code",
   "execution_count": 3,
   "metadata": {
    "collapsed": false
   },
   "outputs": [
    {
     "data": {
      "text/plain": [
       "[4.663995953011613,\n",
       " 4.015408024175015,\n",
       " 4.971315489701123,\n",
       " 4.408454605182806,\n",
       " 3.653914018910796,\n",
       " 3.5252271066030207,\n",
       " 4.2767647169584535,\n",
       " 3.8050260888435856,\n",
       " 3.8043657430061475,\n",
       " 4.287205168484535]"
      ]
     },
     "execution_count": 3,
     "metadata": {},
     "output_type": "execute_result"
    }
   ],
   "source": [
    "uniform = lambda n, a, b: [(b - a)* u + a for u in uniform01(n)]\n",
    "uniform(10, 3, 5)"
   ]
  },
  {
   "cell_type": "markdown",
   "metadata": {
    "collapsed": false
   },
   "source": [
    "**Problem 3**: Suppose that $V\\sim Uniform(3,4)$ and $U\\sim Uniform(3.5, 4.2)$.  We are interested in $P(U > V)$.  While this problem is not hard to solve analytically, we will use a Python simulation to approximate an answer to the question.  \n",
    "\n",
    "**a.** Write a function called `bivariate_uniform` that take a number `n` as input and returns a list of `n` pairs of the form $(u,v)$, which represent observation from the respective distribution given above (Use `zip`).  \n",
    "**b.** Write another function called `empirical_prob` that takes a list of tuples (like those generated in **a**) as input and returns an estimate of the above probability based on `n` trials (pairs of $(u,v)$).  \n",
    "**c.** Write a function called `probaility_estimate3` that composes the last two functions and use it to estimate the answer to this question with a large number of trials."
   ]
  },
  {
   "cell_type": "code",
   "execution_count": 5,
   "metadata": {
    "collapsed": false
   },
   "outputs": [
    {
     "data": {
      "text/plain": [
       "[(3.8397251091932216, 4.037694731309945),\n",
       " (3.526974062772953, 3.61114547235094),\n",
       " (3.408336994342472, 3.813736387826728),\n",
       " (3.0791925857929954, 3.923425173527765),\n",
       " (3.198309280874166, 3.5427572970057226),\n",
       " (3.2993858147157695, 4.110420593827442),\n",
       " (3.2077648352429593, 4.026897411151944),\n",
       " (3.0797033642011686, 3.849990546148917),\n",
       " (3.477814593372557, 3.5874834953199137),\n",
       " (3.610678822623043, 3.593716972519708)]"
      ]
     },
     "execution_count": 5,
     "metadata": {},
     "output_type": "execute_result"
    }
   ],
   "source": [
    "bivariate_uniform = lambda n: [(u, v) for u, v in zip(uniform(n, 3, 4), uniform(n, 3.5, 4.12))]\n",
    "trials = bivariate_uniform(10)\n",
    "trials"
   ]
  },
  {
   "cell_type": "code",
   "execution_count": 7,
   "metadata": {
    "collapsed": false
   },
   "outputs": [
    {
     "data": {
      "text/plain": [
       "0.1"
      ]
     },
     "execution_count": 7,
     "metadata": {},
     "output_type": "execute_result"
    }
   ],
   "source": [
    "empirical_prob = lambda tuples: len([1 for u, v in tuples if u > v])/len(tuples)\n",
    "empirical_prob(trials)"
   ]
  },
  {
   "cell_type": "code",
   "execution_count": 9,
   "metadata": {
    "collapsed": false
   },
   "outputs": [
    {
     "data": {
      "text/plain": [
       "0.201749"
      ]
     },
     "execution_count": 9,
     "metadata": {},
     "output_type": "execute_result"
    }
   ],
   "source": [
    "probability_estimate3 = lambda n: empirical_prob(bivariate_uniform(n))\n",
    "probability_estimate3(10000000)"
   ]
  },
  {
   "cell_type": "markdown",
   "metadata": {},
   "source": [
    "**Problem 4:** Describe the difference between the function `sorted` and the list method `sort`.  Why might we prefer `sorted`?"
   ]
  },
  {
   "cell_type": "markdown",
   "metadata": {},
   "source": [
    "*`sort` mutates the list by rearranging the values in place.  `sorted` returns a new sorted list and does not change the original list*"
   ]
  },
  {
   "cell_type": "markdown",
   "metadata": {
    "collapsed": true
   },
   "source": [
    "**Problem 5:** Consider a vector of the form $\\vec{U} = (U_1,U_2,U_3,U_4)$ where $U_i\\sim Uniform(3,4)$ for all $i$.  The statistic $U_{(3)}$ is the third largest element of the (sorted) $\\vec{U}$ vector.  We are interested in simulating the solution to the question $P(U_{(3)} > 3.5)$.  To do this create each of the following functions.\n",
    "\n",
    "**a.** Create a function called `get_trials` that takes a positive integer `n` as input and returns a list of `n` observations of the form $(u_1,u_2,u_3,u_4)$.  Use `zip` to create the list.\n",
    "\n",
    "**b.** Create a function called `order_statistics` that takes a list of tuples (similar to the once created in part **a**) and returns a list of sorted tuples.  Use a list comprehension and the function `sorted` (instead of the list method `sort`).\n",
    "\n",
    "**c.** Write a function called `third_order_statistic` that takes a tuple of sorted values and returns the third value.  Use a list comprehension and `enumerate` to help identify the third position\n",
    "\n",
    "**d.** Create a function called `get_third_order_statistic` that maps the function from the last part onto a list of sorted tuples.  Use a list comprehension to accomplish this task.\n",
    "\n",
    "**e.** Create a function called `empirical_estimate` that takes a list of order statistics, in particular $U_{(3)}$, and estimates the answers to questions of interest, namely $P\\left(U_{(3)} > 3.5\\right)$.  Use a list comprehension and the `sum` function to reduce the list of sorted tuples to the number of trials that satisfy $U_{(3)} > 3.5$. \n",
    "\n",
    "**f.** Create a function that called `probabilty_estimate5` that composes the function from the last 3 parts and use it to estimate this probability with a large number of trials.\n",
    "\n"
   ]
  },
  {
   "cell_type": "code",
   "execution_count": 14,
   "metadata": {
    "collapsed": false
   },
   "outputs": [
    {
     "data": {
      "text/plain": [
       "[(3.1128656542808444,\n",
       "  3.8999936393151904,\n",
       "  3.981141840942606,\n",
       "  3.134975538043695),\n",
       " (3.1798538964610006,\n",
       "  3.708408178558215,\n",
       "  3.737096523977467,\n",
       "  3.0661104098892893)]"
      ]
     },
     "execution_count": 14,
     "metadata": {},
     "output_type": "execute_result"
    }
   ],
   "source": [
    "get_trials = lambda n: [tup for tup in zip(uniform(n,3,4),\n",
    "                                           uniform(n,3,4),\n",
    "                                           uniform(n,3,4),\n",
    "                                           uniform(n,3,4))]\n",
    "trials = get_trials(10)\n",
    "trials[:2]"
   ]
  },
  {
   "cell_type": "code",
   "execution_count": 18,
   "metadata": {
    "collapsed": false
   },
   "outputs": [
    {
     "data": {
      "text/plain": [
       "[[3.1128656542808444,\n",
       "  3.134975538043695,\n",
       "  3.8999936393151904,\n",
       "  3.981141840942606],\n",
       " [3.0661104098892893,\n",
       "  3.1798538964610006,\n",
       "  3.708408178558215,\n",
       "  3.737096523977467]]"
      ]
     },
     "execution_count": 18,
     "metadata": {},
     "output_type": "execute_result"
    }
   ],
   "source": [
    "order_statistic = lambda tups: [sorted(tup) for tup in tups]\n",
    "ordered_trials = order_statistic(trials)\n",
    "ordered_trials[:2]"
   ]
  },
  {
   "cell_type": "code",
   "execution_count": 20,
   "metadata": {
    "collapsed": false
   },
   "outputs": [
    {
     "data": {
      "text/plain": [
       "[3.8999936393151904, 3.708408178558215]"
      ]
     },
     "execution_count": 20,
     "metadata": {},
     "output_type": "execute_result"
    }
   ],
   "source": [
    "from toolz import get\n",
    "third_order_statistic = lambda tup: get(2, tup)\n",
    "get_third_order_statistics = lambda tups: [third_order_statistic(tup) for tup in tups]\n",
    "thirds = get_third_order_statistics(ordered_trials)\n",
    "thirds[:2]"
   ]
  },
  {
   "cell_type": "code",
   "execution_count": 21,
   "metadata": {
    "collapsed": false
   },
   "outputs": [
    {
     "data": {
      "text/plain": [
       "0.6"
      ]
     },
     "execution_count": 21,
     "metadata": {},
     "output_type": "execute_result"
    }
   ],
   "source": [
    "empirical_estimate = lambda thirds: sum([third > 3.5 for third in thirds])/len(thirds)\n",
    "empirical_estimate(thirds)"
   ]
  },
  {
   "cell_type": "code",
   "execution_count": 22,
   "metadata": {
    "collapsed": false
   },
   "outputs": [
    {
     "data": {
      "text/plain": [
       "0.68771"
      ]
     },
     "execution_count": 22,
     "metadata": {},
     "output_type": "execute_result"
    }
   ],
   "source": [
    "probability_estimate5 = lambda n: empirical_estimate(get_third_order_statistics(order_statistic(get_trials(n))))\n",
    "probability_estimate5(1000000)"
   ]
  },
  {
   "cell_type": "code",
   "execution_count": null,
   "metadata": {
    "collapsed": true
   },
   "outputs": [],
   "source": []
  }
 ],
 "metadata": {
  "anaconda-cloud": {},
  "kernelspec": {
   "display_name": "Python 3",
   "language": "python",
   "name": "python3"
  },
  "language_info": {
   "codemirror_mode": {
    "name": "ipython",
    "version": 3
   },
   "file_extension": ".py",
   "mimetype": "text/x-python",
   "name": "python",
   "nbconvert_exporter": "python",
   "pygments_lexer": "ipython3",
   "version": "3.5.2"
  }
 },
 "nbformat": 4,
 "nbformat_minor": 2
}
